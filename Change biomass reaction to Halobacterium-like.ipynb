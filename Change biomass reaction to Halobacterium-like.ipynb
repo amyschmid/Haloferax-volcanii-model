{
 "cells": [
  {
   "cell_type": "code",
   "execution_count": 2,
   "metadata": {
    "collapsed": true
   },
   "outputs": [],
   "source": [
    "import cobra"
   ]
  },
  {
   "cell_type": "code",
   "execution_count": 3,
   "metadata": {
    "collapsed": true
   },
   "outputs": [],
   "source": [
    "FBA_model = cobra.io.read_sbml_model('H_volcanii_biomass_subrxns.sbml')"
   ]
  },
  {
   "cell_type": "code",
   "execution_count": 4,
   "metadata": {
    "collapsed": true
   },
   "outputs": [],
   "source": [
    "biomass_rxn = FBA_model.reactions.get_by_id('biomass0')\n",
    "DNA = FBA_model.metabolites.get_by_id('DNA_c0')\n",
    "RNA = FBA_model.metabolites.get_by_id('RNA_c0')\n",
    "cofactors = FBA_model.metabolites.get_by_id('cofactors_c0')\n",
    "lipid = FBA_model.metabolites.get_by_id('Lipid_c0')\n",
    "energy = FBA_model.metabolites.get_by_id('Energy_c0')\n",
    "salt = FBA_model.metabolites.get_by_id('Salt_c0')\n",
    "glycosylation = FBA_model.metabolites.get_by_id('Glycosylation_c0')\n",
    "protein = FBA_model.metabolites.get_by_id('Protein_c0')\n",
    "biomass = FBA_model.metabolites.get_by_id('cpd11416_c0')"
   ]
  },
  {
   "cell_type": "code",
   "execution_count": 5,
   "metadata": {},
   "outputs": [
    {
     "name": "stdout",
     "output_type": "stream",
     "text": [
      "biomass0: 35.5403092430435 cpd00001_c0 + 40.1101757365074 cpd00002_c0 + 0.00309646685192537 cpd00003_c0 + 0.00309646685192537 cpd00006_c0 + 0.00309646685192537 cpd00010_c0 + 0.00309646685192537 cpd00015_c0 + 0.00309646685192537 cpd00016_c0 + 0.00309646685192537 cpd00017_c0 + 0.219088153012743 cpd00023_c0 + 0.00309646685192537 cpd00028_c0 + 0.00309646685192537 cpd00030_c0 + 0.509869786991038 cpd00033_c0 + 0.00309646685192537 cpd00034_c0 + 0.427934380173264 cpd00035_c0 + 0.135406821203723 cpd00038_c0 + 0.285438020490179 cpd00039_c0 + 0.200830806928348 cpd00041_c0 + 0.00309646685192537 cpd00042_c0 + 0.00309646685192537 cpd00048_c0 + 0.246696822701341 cpd00051_c0 + 0.0841036156544863 cpd00052_c0 + 0.219088153012743 cpd00053_c0 + 0.179456352975885 cpd00054_c0 + 0.00309646685192537 cpd00056_c0 + 0.00309646685192537 cpd00058_c0 + 0.127801422590767 cpd00060_c0 + 0.0908319049068452 cpd00062_c0 + 0.00309646685192537 cpd00063_c0 + 0.0472019191450218 cpd00065_c0 + 0.154519490031345 cpd00066_c0 + 0.120676604606612 cpd00069_c0 + 0.0761464922056484 cpd00084_c0 + 0.00309646685192537 cpd00087_c0 + 0.00309646685192537 cpd00099_c0 + 0.375388847540127 cpd00107_c0 + 0.0160206718346253 cpd00115_c0 + 0.00309646685192537 cpd00118_c0 + 0.0792636000737159 cpd00119_c0 + 0.184354665339991 cpd00129_c0 + 0.200830806928348 cpd00132_c0 + 0.00309646685192537 cpd00149_c0 + 0.352233189091625 cpd00156_c0 + 0.211072732780569 cpd00161_c0 + 0.00309646685192537 cpd00166_c0 + 0.00309646685192537 cpd00201_c0 + 0.00309646685192537 cpd00205_c0 + 0.00309646685192537 cpd00220_c0 + 0.0160206718346253 cpd00241_c0 + 0.00309646685192537 cpd00254_c0 + 0.00309646685192537 cpd00264_c0 + 0.241798510337235 cpd00322_c0 + 0.00309646685192537 cpd00345_c0 + 0.0160206718346253 cpd00356_c0 + 0.0160206718346253 cpd00357_c0 + 0.00309646685192537 cpd00557_c0 + 0.0250105977108944 cpd02229_c0 + 0.00309646685192537 cpd10515_c0 + 0.00309646685192537 cpd10516_c0 + 0.00309646685192537 cpd11493_c0 + 0.00309646685192537 cpd15352_c0 + 0.0250105977108944 cpd15432_c0 + 0.00309646685192537 cpd15500_c0 + 0.0106480421341882 cpd15533_c0 + 0.0106480421341882 cpd15540_c0 + 0.00309646685192537 cpd15560_c0 + 0.0250105977108944 cpd15665_c0 + 0.0106480421341882 cpd15695_c0 + 0.0106480421341882 cpd15696_c0 + 0.0106480421341882 cpd15722_c0 + 0.0106480421341882 cpd15723_c0 + 0.0106480421341882 cpd15793_c0 + 0.0106480421341882 cpd15794_c0 + 0.0106480421341882 cpd15795_c0 + cpd17041_c0 + cpd17042_c0 + cpd17043_c0 --> 40.0 cpd00008_c0 + 39.9969035331481 cpd00009_c0 + 0.484600765610933 cpd00012_c0 + 40.0 cpd00067_c0 + 0.00309646685192537 cpd01997_c0 + 0.00309646685192537 cpd03422_c0 + cpd11416_c0 + 0.00309646685192537 cpd12370_c0 + 0.0250105977108944 cpd15666_c0\n"
     ]
    }
   ],
   "source": [
    "print(biomass_rxn)"
   ]
  },
  {
   "cell_type": "code",
   "execution_count": 6,
   "metadata": {
    "collapsed": true
   },
   "outputs": [],
   "source": [
    "biomass_rxn.subtract_metabolites(biomass_rxn.metabolites)"
   ]
  },
  {
   "cell_type": "code",
   "execution_count": 7,
   "metadata": {},
   "outputs": [
    {
     "name": "stdout",
     "output_type": "stream",
     "text": [
      "biomass0:  --> \n"
     ]
    }
   ],
   "source": [
    "print(biomass_rxn)"
   ]
  },
  {
   "cell_type": "code",
   "execution_count": 8,
   "metadata": {},
   "outputs": [
    {
     "name": "stdout",
     "output_type": "stream",
     "text": [
      "biomass0: DNA_c0 + Energy_c0 + Glycosylation_c0 + Lipid_c0 + Protein_c0 + RNA_c0 + Salt_c0 + cofactors_c0 --> cpd11416_c0\n"
     ]
    }
   ],
   "source": [
    "react_dict = {}\n",
    "react_dict[DNA] = -1\n",
    "react_dict[RNA] = -1\n",
    "react_dict[cofactors] = -1\n",
    "react_dict[lipid] = -1\n",
    "react_dict[energy] = -1\n",
    "react_dict[salt] = -1\n",
    "react_dict[glycosylation] = -1\n",
    "react_dict[protein] = -1\n",
    "react_dict[biomass] = 1\n",
    "biomass_rxn.add_metabolites(react_dict)\n",
    "print(biomass_rxn)"
   ]
  },
  {
   "cell_type": "code",
   "execution_count": 9,
   "metadata": {},
   "outputs": [
    {
     "name": "stdout",
     "output_type": "stream",
     "text": [
      "new exchange reaction added: EX_cpd00190_e0\n",
      "new exchange reaction added: EX_cpd00048_e0\n"
     ]
    }
   ],
   "source": [
    "##Build the medium (this time with thiamin and biotin added\n",
    "## --but no need for K+, Mg2+, Ca2+, Zn2+ since they're not in the new biomass)\n",
    "## and make sure to use Fe3+ instead of Fe2+ since the cell only has a transporter for the former\n",
    "##glucose, ammonia, O2, PO4, sulfate, Fe3+, Co2+, H+, H2O, thiamin, biotin\n",
    "med_components = ['cpd00190_e0','cpd00013_e0','cpd00007_e0','cpd00009_e0','cpd00048_e0','cpd10516_e0','cpd00149_e0','cpd00067_e0','cpd00001_e0','cpd00305_e0','cpd00104_e0']\n",
    "med = {}\n",
    "\n",
    "for component in med_components:\n",
    "\ttry:\n",
    "\t\tmet = FBA_model.metabolites.get_by_id(component)\n",
    "\texcept:\n",
    "\t\tprint('model to be filled has no ' + component + ': Adding it!')\n",
    "\t\tmet = cobra.Metabolite(component)\n",
    "\ttry:\n",
    "\t\texchange = FBA_model.reactions.get_by_id('EX_' + component)\n",
    "\texcept:\n",
    "\t\texchange = FBA_model.add_boundary(met)\n",
    "\t\tprint('new exchange reaction added: EX_' + component)\n",
    "\texch_id = exchange.id\n",
    "\tmed[exch_id] = 300\n",
    "\t\t\n",
    "FBA_model.medium = med\n",
    "\n",
    "\n"
   ]
  },
  {
   "cell_type": "code",
   "execution_count": 10,
   "metadata": {},
   "outputs": [
    {
     "name": "stdout",
     "output_type": "stream",
     "text": [
      "0.0\n"
     ]
    }
   ],
   "source": [
    "##Does it grow now??\n",
    "FBA_model.solver = 'glpk'\n",
    "solution = FBA_model.optimize()\n",
    "print(solution.f)"
   ]
  },
  {
   "cell_type": "code",
   "execution_count": 9,
   "metadata": {
    "collapsed": true
   },
   "outputs": [],
   "source": [
    "## It doesn't grow, but I found that there is no ATP synthase \n",
    "## (hence no way to interconvert ADP/ATP with redox and ion equilibrium across the membrane)\n",
    "rxn_atp_syn = cobra.Reaction('rxn_atp_syn', name='ATP synthase')\n",
    "atp_syn_dict = {}\n",
    "H_extra = FBA_model.metabolites.get_by_id('cpd00067_e0')\n",
    "H_intra = FBA_model.metabolites.get_by_id('cpd00067_c0')\n",
    "ADP = FBA_model.metabolites.get_by_id('cpd00008_c0')\n",
    "phosphate = FBA_model.metabolites.get_by_id('cpd00009_c0')\n",
    "ATP = FBA_model.metabolites.get_by_id('cpd00002_c0')\n",
    "water = FBA_model.metabolites.get_by_id('cpd00001_c0')\n",
    "atp_syn_dict[H_extra] = -4\n",
    "atp_syn_dict[H_intra] = 3\n",
    "atp_syn_dict[ADP] = -1\n",
    "atp_syn_dict[phosphate] = -1\n",
    "atp_syn_dict[ATP] = 1\n",
    "atp_syn_dict[water] = 1\n",
    "rxn_atp_syn.add_metabolites(atp_syn_dict)\n",
    "FBA_model.add_reaction(rxn_atp_syn)\n",
    "\n"
   ]
  },
  {
   "cell_type": "code",
   "execution_count": 12,
   "metadata": {},
   "outputs": [
    {
     "name": "stdout",
     "output_type": "stream",
     "text": [
      "0.0\n"
     ]
    }
   ],
   "source": [
    "##try growth again\n",
    "FBA_model.solver = 'glpk'\n",
    "solution = FBA_model.optimize()\n",
    "print(solution.f)"
   ]
  },
  {
   "cell_type": "code",
   "execution_count": 10,
   "metadata": {},
   "outputs": [
    {
     "name": "stdout",
     "output_type": "stream",
     "text": [
      "rxn_atp_syn: cpd00008_c0 + cpd00009_c0 + 4 cpd00067_e0 --> cpd00001_c0 + cpd00002_c0 + 3 cpd00067_c0\n"
     ]
    }
   ],
   "source": [
    "print(rxn_atp_syn)"
   ]
  },
  {
   "cell_type": "code",
   "execution_count": 11,
   "metadata": {
    "collapsed": true
   },
   "outputs": [],
   "source": [
    "rxn_atp_syn.lower_bound = -1*rxn_atp_syn.upper_bound"
   ]
  },
  {
   "cell_type": "code",
   "execution_count": 15,
   "metadata": {},
   "outputs": [
    {
     "name": "stdout",
     "output_type": "stream",
     "text": [
      "0.0\n"
     ]
    }
   ],
   "source": [
    "FBA_model.solver = 'glpk'\n",
    "solution = FBA_model.optimize()\n",
    "print(solution.f)"
   ]
  },
  {
   "cell_type": "code",
   "execution_count": 29,
   "metadata": {},
   "outputs": [
    {
     "name": "stderr",
     "output_type": "stream",
     "text": [
      "Ignoring reaction 'test_biomass' since it already exists.\n"
     ]
    },
    {
     "name": "stdout",
     "output_type": "stream",
     "text": [
      "DNA_c0: Failed :-(\n",
      "RNA_c0: Success!\n",
      "cofactors_c0: Failed :-(\n",
      "Lipid_c0: Success!\n",
      "Energy_c0: Success!\n",
      "Salt_c0: Failed :-(\n",
      "Glycosylation_c0: Failed :-(\n",
      "Protein_c0: Failed :-(\n"
     ]
    }
   ],
   "source": [
    "##still doesn't work, find out which subreaction is the problem\n",
    "def try_as_biomass(met):\n",
    "    react_dict = {}\n",
    "    test_biomass = FBA_model.reactions.get_by_id('test_biomass')\n",
    "    biomass = FBA_model.metabolites.get_by_id('cpd11416_c0')\n",
    "    react_dict[biomass] = 1\n",
    "    react_dict[met] = -1\n",
    "    old_mets = test_biomass.metabolites\n",
    "    test_biomass.subtract_metabolites(old_mets)\n",
    "    test_biomass.add_metabolites(react_dict)\n",
    "    FBA_model.objective = {FBA_model.reactions.test_biomass: 1}\n",
    "\n",
    "    solution = FBA_model.optimize()\n",
    "    if solution.f > 0.0001:\n",
    "        return 'Success!'\n",
    "    else:\n",
    "        return 'Failed :-('\n",
    "\n",
    "test_biomass = cobra.Reaction('test_biomass')\n",
    "FBA_model.add_reaction(test_biomass)\n",
    "\n",
    "for met in biomass_rxn.metabolites:\n",
    "    if not met.id == 'cpd11416_c0':\n",
    "        print(str(met.id) + ': ' + try_as_biomass(met))\n"
   ]
  },
  {
   "cell_type": "code",
   "execution_count": 22,
   "metadata": {},
   "outputs": [
    {
     "name": "stdout",
     "output_type": "stream",
     "text": [
      "{<Metabolite DNA_c0 at 0xdafb828>: -1, <Metabolite RNA_c0 at 0xdafb940>: -1, <Metabolite cofactors_c0 at 0xdafb9e8>: -1, <Metabolite Lipid_c0 at 0xdafba20>: -1, <Metabolite Energy_c0 at 0xdafbb70>: -1, <Metabolite Salt_c0 at 0xdafbcc0>: -1, <Metabolite Glycosylation_c0 at 0xdafbd68>: -1, <Metabolite Protein_c0 at 0xdafbda0>: -1, <Metabolite cpd11416_c0 at 0xdad1ac8>: 1}\n"
     ]
    }
   ],
   "source": [
    "print(biomass_rxn.metabolites)"
   ]
  },
  {
   "cell_type": "code",
   "execution_count": 32,
   "metadata": {},
   "outputs": [
    {
     "name": "stdout",
     "output_type": "stream",
     "text": [
      "cpd00023_c0: Success!\n",
      "cpd00033_c0: Success!\n",
      "cpd00035_c0: Success!\n",
      "cpd00039_c0: Failed :-(\n",
      "cpd00041_c0: Success!\n",
      "cpd00051_c0: Success!\n",
      "cpd00053_c0: Success!\n",
      "cpd00054_c0: Success!\n",
      "cpd00060_c0: Success!\n",
      "cpd00065_c0: Success!\n",
      "cpd00066_c0: Success!\n",
      "cpd00069_c0: Success!\n",
      "cpd00084_c0: Success!\n",
      "cpd00107_c0: Success!\n",
      "cpd00119_c0: Success!\n",
      "cpd00129_c0: Success!\n",
      "cpd00132_c0: Success!\n",
      "cpd00156_c0: Success!\n",
      "cpd00161_c0: Success!\n",
      "cpd00322_c0: Success!\n"
     ]
    }
   ],
   "source": [
    "protein_syn = FBA_model.reactions.get_by_id('rxn_protein')\n",
    "for amino_acid in protein_syn.metabolites:\n",
    "    if not amino_acid.id == 'Protein_c0':\n",
    "        print(str(amino_acid.id) + ': ' + try_as_biomass(amino_acid))"
   ]
  },
  {
   "cell_type": "code",
   "execution_count": 35,
   "metadata": {
    "scrolled": true
   },
   "outputs": [
    {
     "name": "stdout",
     "output_type": "stream",
     "text": [
      "cpd00002_c0: Success!\n",
      "cpd00003_c0: Success!\n",
      "cpd00006_c0: Success!\n",
      "cpd00010_c0: Success!\n",
      "cpd00015_c0: Success!\n",
      "cpd00022_c0: Success!\n",
      "cpd00023_c0: Success!\n",
      "cpd00087_c0: Failed :-(\n",
      "cpd00166_c0: Success!\n",
      "cpd00201_c0: Failed :-(\n",
      "cpd00305_c0: Success!\n",
      "cpd00347_c0: Failed :-(\n",
      "cpd00557_c0: Success!\n",
      "cpd11606_c0: Failed :-(\n"
     ]
    }
   ],
   "source": [
    "cofactor_syn = FBA_model.reactions.get_by_id('rxn_cofactors')\n",
    "for cofactor in cofactor_syn.metabolites:\n",
    "    if not cofactor.id == 'cofactors_c0':\n",
    "        print(str(cofactor.id) + ': ' + try_as_biomass(cofactor))"
   ]
  },
  {
   "cell_type": "code",
   "execution_count": 38,
   "metadata": {
    "scrolled": true
   },
   "outputs": [
    {
     "name": "stdout",
     "output_type": "stream",
     "text": [
      "cpd00115_c0: Success!\n",
      "cpd00241_c0: Failed :-(\n",
      "cpd00356_c0: Success!\n",
      "cpd00357_c0: Success!\n"
     ]
    }
   ],
   "source": [
    "DNA_syn = FBA_model.reactions.get_by_id('rxn_DNA')\n",
    "for cofactor,coeff in DNA_syn.metabolites.items():\n",
    "    if coeff < 0:\n",
    "        print(str(cofactor.id) + ': ' + try_as_biomass(cofactor))"
   ]
  },
  {
   "cell_type": "code",
   "execution_count": 39,
   "metadata": {},
   "outputs": [
    {
     "name": "stdout",
     "output_type": "stream",
     "text": [
      "cpd00017_c0: Success!\n",
      "cpd00026_c0: Failed :-(\n",
      "cpd00083_c0: Success!\n",
      "cpd00144_c0: Failed :-(\n",
      "cpd00472_c0: Failed :-(\n"
     ]
    }
   ],
   "source": [
    "glycosylation = FBA_model.reactions.get_by_id('rxn_glycosylation')\n",
    "for substrate,coeff in glycosylation.metabolites.items():\n",
    "    if coeff < 0:\n",
    "        print(str(substrate.id) + ': ' + try_as_biomass(substrate))"
   ]
  },
  {
   "cell_type": "code",
   "execution_count": 12,
   "metadata": {},
   "outputs": [],
   "source": [
    "cobra.io.write_sbml_model(FBA_model,'H_volcanii_biomass_replaced.sbml')"
   ]
  },
  {
   "cell_type": "code",
   "execution_count": null,
   "metadata": {
    "collapsed": true
   },
   "outputs": [],
   "source": []
  }
 ],
 "metadata": {
  "kernelspec": {
   "display_name": "Python 3",
   "language": "python",
   "name": "python3"
  },
  "language_info": {
   "codemirror_mode": {
    "name": "ipython",
    "version": 3
   },
   "file_extension": ".py",
   "mimetype": "text/x-python",
   "name": "python",
   "nbconvert_exporter": "python",
   "pygments_lexer": "ipython3",
   "version": "3.6.3"
  }
 },
 "nbformat": 4,
 "nbformat_minor": 2
}
