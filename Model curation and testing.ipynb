{
 "cells": [
  {
   "cell_type": "code",
   "execution_count": 1,
   "metadata": {
    "collapsed": true
   },
   "outputs": [],
   "source": [
    "import cobra"
   ]
  },
  {
   "cell_type": "code",
   "execution_count": 3,
   "metadata": {
    "collapsed": true
   },
   "outputs": [],
   "source": [
    "FBA_model = cobra.io.read_sbml_model('H_volcanii_biomass_replaced2.sbml')"
   ]
  },
  {
   "cell_type": "code",
   "execution_count": 57,
   "metadata": {
    "collapsed": true
   },
   "outputs": [],
   "source": [
    "## Function to reverse a reaction: products become reactants and vice versa. \n",
    "## Because of the way Cobra keeps track of stoichiometry, the easiest way is probably to add -2 times the reaction to itself\n",
    "def reverse(rxn):\n",
    "    stoich = rxn.metabolites\n",
    "    minus_two = {}\n",
    "    for met,coeff in stoich.items():\n",
    "        minus_two[met] = -2*coeff\n",
    "    rxn.add_metabolites(minus_two)"
   ]
  },
  {
   "cell_type": "code",
   "execution_count": 5,
   "metadata": {
    "collapsed": true
   },
   "outputs": [],
   "source": [
    "## reverse tetrahydrodipicolinate succinylation reaction\n",
    "react = FBA_model.reactions.get_by_id('rxn03031_c0')\n",
    "reverse(react)"
   ]
  },
  {
   "cell_type": "code",
   "execution_count": 6,
   "metadata": {
    "collapsed": true
   },
   "outputs": [],
   "source": [
    "## reverse dihydroneopterin aldolase reaction\n",
    "react = FBA_model.reactions.get_by_id('rxn01152_c')\n",
    "reverse(react)"
   ]
  },
  {
   "cell_type": "code",
   "execution_count": 7,
   "metadata": {},
   "outputs": [
    {
     "name": "stdout",
     "output_type": "stream",
     "text": [
      "rxn03031_c0: cpd00001_c0 + cpd00078_c0 + cpd02465_c0 --> cpd00010_c0 + cpd02724_c0\n"
     ]
    }
   ],
   "source": [
    "print(FBA_model.reactions.get_by_id('rxn03031_c0'))"
   ]
  },
  {
   "cell_type": "code",
   "execution_count": 8,
   "metadata": {},
   "outputs": [
    {
     "name": "stdout",
     "output_type": "stream",
     "text": [
      "rxn01152_c: cpd02961_c0 --> cpd00229_c0 + cpd00954_c0\n"
     ]
    }
   ],
   "source": [
    "print(FBA_model.reactions.get_by_id('rxn01152_c'))"
   ]
  },
  {
   "cell_type": "code",
   "execution_count": 9,
   "metadata": {
    "collapsed": true
   },
   "outputs": [],
   "source": [
    "## Correct ID for menaquinone-8\n",
    "cofactors_rxn = FBA_model.reactions.get_by_id('rxn_cofactors')\n",
    "to_remove = FBA_model.metabolites.get_by_id('cpd11606_c0')\n",
    "coeff = cofactors_rxn.get_coefficient(to_remove)\n",
    "to_add = FBA_model.metabolites.get_by_id('cpd15500_c0')\n",
    "cofactors_rxn.subtract_metabolites({to_remove: coeff})\n",
    "cofactors_rxn.add_metabolites({to_add: coeff})"
   ]
  },
  {
   "cell_type": "code",
   "execution_count": 13,
   "metadata": {},
   "outputs": [
    {
     "name": "stdout",
     "output_type": "stream",
     "text": [
      "3.32 ATP_c0 + 0.04 NAD_c0 + 0.04 NADP_c0 + 0.04 CoA_c0 + 0.04 FAD_c0 + 0.04 Acetyl_CoA_c0 + 49.82 L_Glutamate_c0 + 0.07 Tetrahydrofolate_c0 + 0.02 Calomide_c0 + 0.06 10_Formyltetrahydrofolate_c0 + 0.11 Thiamin_c0 + 0.06 5_10_Methenyltetrahydrofolate_c0 + 0.03 Siroheme_c0 + 0.01 Menaquinone_8_c0 --> Cofactors\n"
     ]
    }
   ],
   "source": [
    "print(cofactors_rxn.build_reaction_string(use_metabolite_names=True))"
   ]
  },
  {
   "cell_type": "code",
   "execution_count": 31,
   "metadata": {
    "collapsed": true
   },
   "outputs": [],
   "source": [
    "## set medium\n",
    "med_components = ['cpd00190_e0','cpd00013_e0','cpd00007_e0','cpd00009_e0','cpd00971_e0','cpd00048_e0','cpd10516_e0','cpd00149_e0','cpd00067_e0','cpd00001_e0','cpd00305_e0','cpd00104_e0']\n",
    "med = {}\n",
    "\n",
    "for component in med_components:\n",
    "\ttry:\n",
    "\t\tmet = FBA_model.metabolites.get_by_id(component)\n",
    "\texcept:\n",
    "\t\tprint('model to be filled has no ' + component + ': Adding it!')\n",
    "\t\tmet = cobra.Metabolite(component)\n",
    "\ttry:\n",
    "\t\texchange = FBA_model.reactions.get_by_id('EX_' + component)\n",
    "\texcept:\n",
    "\t\texchange = FBA_model.add_boundary(met)\n",
    "\t\tprint('new exchange reaction added: EX_' + component)\n",
    "\texch_id = exchange.id\n",
    "\tmed[exch_id] = 300\n",
    "\t\t\n",
    "FBA_model.medium = med"
   ]
  },
  {
   "cell_type": "code",
   "execution_count": 20,
   "metadata": {},
   "outputs": [
    {
     "name": "stderr",
     "output_type": "stream",
     "text": [
      "Ignoring reaction 'test_biomass' since it already exists.\n"
     ]
    },
    {
     "name": "stdout",
     "output_type": "stream",
     "text": [
      "DNA_c0: Success!\n",
      "Energy_c0: Success!\n",
      "Glycosylation_c0: Success!\n",
      "Lipid_c0: Success!\n",
      "Protein_c0: Success!\n",
      "RNA_c0: Success!\n",
      "Salt_c0: Success!\n",
      "cofactors_c0: Success!\n"
     ]
    }
   ],
   "source": [
    " ## retry biomass components now\n",
    "def try_as_biomass(met):\n",
    "    react_dict = {}\n",
    "    test_biomass = FBA_model.reactions.get_by_id('test_biomass')\n",
    "    biomass = FBA_model.metabolites.get_by_id('cpd11416_c0')\n",
    "    react_dict[biomass] = 1\n",
    "    react_dict[met] = -1\n",
    "    old_mets = test_biomass.metabolites\n",
    "    test_biomass.subtract_metabolites(old_mets)\n",
    "    test_biomass.add_metabolites(react_dict)\n",
    "    FBA_model.objective = {FBA_model.reactions.test_biomass: 1}\n",
    "\n",
    "    solution = FBA_model.optimize()\n",
    "    if solution.f > 0.0001:\n",
    "        return 'Success!'\n",
    "    else:\n",
    "        return 'Failed :-('\n",
    "\n",
    "test_biomass = cobra.Reaction('test_biomass')\n",
    "FBA_model.add_reaction(test_biomass)\n",
    "\n",
    "biomass_rxn = FBA_model.reactions.get_by_id('biomass0')\n",
    "for met in biomass_rxn.metabolites:\n",
    "    if not met.id == 'cpd11416_c0':\n",
    "        print(str(met.id) + ': ' + try_as_biomass(met))"
   ]
  },
  {
   "cell_type": "code",
   "execution_count": 18,
   "metadata": {},
   "outputs": [
    {
     "name": "stdout",
     "output_type": "stream",
     "text": [
      "0.0\n"
     ]
    }
   ],
   "source": [
    "## So only the requirement to take up salt is keeping it from growing now. \n",
    "## This is weird because taking in salt can be coupled to proton export, whose re-entry can be coupled to ATP synthesis.\n",
    "## This should actually help the cell grow--but maybe the problem is it has no way to use the excess ATP \n",
    "## when biomass is ONLY salt (is that possible?)\n",
    "## So try the regular biomass again just to be sure\n",
    "FBA_model.objective = {biomass_rxn: 1}\n",
    "solution = FBA_model.optimize()\n",
    "print(solution.f)"
   ]
  },
  {
   "cell_type": "code",
   "execution_count": 21,
   "metadata": {},
   "outputs": [
    {
     "name": "stdout",
     "output_type": "stream",
     "text": [
      "0.0720037441946975\n"
     ]
    }
   ],
   "source": [
    "## Realized there was no sodium in the media!! Duh! Adding it above and running the above again\n",
    "FBA_model.objective = {biomass_rxn: 1}\n",
    "solution = FBA_model.optimize()\n",
    "print(solution.f)"
   ]
  },
  {
   "cell_type": "code",
   "execution_count": 32,
   "metadata": {
    "scrolled": true
   },
   "outputs": [
    {
     "name": "stdout",
     "output_type": "stream",
     "text": [
      "0.07200374419469768\n"
     ]
    }
   ],
   "source": [
    "### So it grows on glucose now (slowly it seems). Boundary fluxes are arbitrarily set at 300 for both glucose and ammonia\n",
    "## Since this is 6:1 C:N ratio, either one may be limiting. So this corresponds to about 4300 N/biomass unit or 26,000 C/unit\n",
    "## (including energy need). It shouldn't grow on fructose yet since there's no fructose bisphosphate aldolase, let's see\n",
    "glucose_extra = 'EX_cpd00190_e0'\n",
    "fructose_extra = 'EX_cpd00082_e0'\n",
    "med[glucose_extra] = 0\n",
    "med[fructose_extra] = 300\n",
    "\n",
    "FBA_model.medium = med\n",
    "\n",
    "solution = FBA_model.optimize()\n",
    "print(solution.f)"
   ]
  },
  {
   "cell_type": "code",
   "execution_count": 35,
   "metadata": {
    "collapsed": true
   },
   "outputs": [],
   "source": [
    "## It actually does, and I just realized why... it reverses the upper part of glycolysis and then uses the E-D pathway\n",
    "## Now add the aldolase though\n",
    "\n",
    "## Re-load the saved updated model from above\n",
    "FBA_model = cobra.io.read_sbml_model('H_volcanii_correct.sbml')"
   ]
  },
  {
   "cell_type": "code",
   "execution_count": 36,
   "metadata": {
    "collapsed": true
   },
   "outputs": [],
   "source": [
    "stoich = {}\n",
    "aldolase_rxn = cobra.Reaction('rxn_01068_KEGG', name='Fructose bisphosphate aldolase')\n",
    "FBP = FBA_model.metabolites.get_by_id('cpd00290_c0')\n",
    "GAP = FBA_model.metabolites.get_by_id('cpd00102_c0')\n",
    "DHAP = FBA_model.metabolites.get_by_id('cpd00095_c0')\n",
    "stoich[FBP] = -1\n",
    "stoich[GAP] = 1\n",
    "stoich[DHAP] = 1\n",
    "aldolase_rxn.add_metabolites(stoich)\n",
    "## Assign gene\n",
    "aldolase_rxn.gene_reaction_rule = 'HVO_0790'\n",
    "## Make it reversible, as we know that this step can go in both directions in most organisms\n",
    "aldolase_rxn.lower_bound = -1 * aldolase_rxn.upper_bound\n",
    "FBA_model.add_reaction(aldolase_rxn)"
   ]
  },
  {
   "cell_type": "code",
   "execution_count": 37,
   "metadata": {
    "collapsed": true
   },
   "outputs": [],
   "source": [
    "## set medium\n",
    "med_components = ['cpd00190_e0','cpd00013_e0','cpd00007_e0','cpd00009_e0','cpd00971_e0','cpd00048_e0','cpd10516_e0','cpd00149_e0','cpd00067_e0','cpd00001_e0','cpd00305_e0','cpd00104_e0']\n",
    "med = {}\n",
    "\n",
    "for component in med_components:\n",
    "\ttry:\n",
    "\t\tmet = FBA_model.metabolites.get_by_id(component)\n",
    "\texcept:\n",
    "\t\tprint('model to be filled has no ' + component + ': Adding it!')\n",
    "\t\tmet = cobra.Metabolite(component)\n",
    "\ttry:\n",
    "\t\texchange = FBA_model.reactions.get_by_id('EX_' + component)\n",
    "\texcept:\n",
    "\t\texchange = FBA_model.add_boundary(met)\n",
    "\t\tprint('new exchange reaction added: EX_' + component)\n",
    "\texch_id = exchange.id\n",
    "\tmed[exch_id] = 300\n",
    "\t\t\n",
    "FBA_model.medium = med"
   ]
  },
  {
   "cell_type": "code",
   "execution_count": 38,
   "metadata": {},
   "outputs": [
    {
     "name": "stdout",
     "output_type": "stream",
     "text": [
      "0.07200374419469824\n"
     ]
    }
   ],
   "source": [
    "## Try fructose again\n",
    "glucose_extra = 'EX_cpd00190_e0'\n",
    "fructose_extra = 'EX_cpd00082_e0'\n",
    "med[glucose_extra] = 0\n",
    "med[fructose_extra] = 300\n",
    "\n",
    "FBA_model.medium = med\n",
    "\n",
    "solution = FBA_model.optimize()\n",
    "print(solution.f)"
   ]
  },
  {
   "cell_type": "code",
   "execution_count": 10,
   "metadata": {},
   "outputs": [
    {
     "name": "stdout",
     "output_type": "stream",
     "text": [
      "rxn03541_c0\n",
      "1_Aminopropan_2_ol_c0 + Adenosylcobyric_acid_c0 <=> H2O_c0 + Adenosyl_cobinamide_c0\n",
      "1000.0\n",
      "rxn05054_c0\n",
      "ATP_c0 + 1_Aminopropan_2_ol_c0 + Adenosylcobyric_acid_c0 <=> ADP_c0 + Phosphate_c0 + H_c0 + Adenosyl_cobinamide_c0\n",
      "-1000.0\n",
      "EX_cpd00082_e0\n",
      "D_Fructose_e0 <=> \n",
      "-300.0\n",
      "EX_cpd00013_e0\n",
      "NH3_e0 <=> \n",
      "-300.0\n",
      "rxn_atp_syn\n",
      "ADP_c0 + Phosphate_c0 + 4.0 H_e0 <=> H2O_c0 + ATP_c0 + 3.0 H_c0\n",
      "1000.0\n"
     ]
    }
   ],
   "source": [
    "## Since it grows no faster, I'm guessing nitrogen is limiting. Display limiting fluxes...\n",
    "\n",
    "for reaction in FBA_model.reactions:\n",
    "\tflux = solution.x_dict[reaction.id]\n",
    "\tif flux == reaction.lower_bound or flux == reaction.upper_bound:\n",
    "\t\tif not flux == 0:\n",
    "\t\t\tprint(reaction.id)\n",
    "\t\t\tprint(reaction.build_reaction_string(use_metabolite_names = True))\n",
    "\t\t\tprint(flux)"
   ]
  },
  {
   "cell_type": "code",
   "execution_count": 39,
   "metadata": {
    "collapsed": true
   },
   "outputs": [],
   "source": [
    "## There is a thermodynamically impossible loop involving an amide ligase from the B12 pathway \n",
    "## generating a bunch of surplus ATP\n",
    "## What happens if the ATP-consuming reaction is set as irreversible?\n",
    "amide_ligase = FBA_model.reactions.get_by_id('rxn05054_c0')\n",
    "amide_ligase.lower_bound = 0\n",
    "\n"
   ]
  },
  {
   "cell_type": "code",
   "execution_count": 40,
   "metadata": {},
   "outputs": [
    {
     "name": "stdout",
     "output_type": "stream",
     "text": [
      "0.0720037441946987\n"
     ]
    }
   ],
   "source": [
    "solution = FBA_model.optimize()\n",
    "print(solution.f)"
   ]
  },
  {
   "cell_type": "code",
   "execution_count": 13,
   "metadata": {},
   "outputs": [
    {
     "name": "stdout",
     "output_type": "stream",
     "text": [
      "rxn00519_c0\n",
      "Oxaloacetate_c0 + ITP_c0 <=> CO2_c0 + Phosphoenolpyruvate_c0 + IDP_c0\n",
      "-1000.0\n",
      "rxn00515_c0\n",
      "ATP_c0 + IDP_c0 <=> ADP_c0 + ITP_c0\n",
      "-1000.0\n",
      "EX_cpd00082_e0\n",
      "D_Fructose_e0 <=> \n",
      "-300.0\n",
      "EX_cpd00013_e0\n",
      "NH3_e0 <=> \n",
      "-300.0\n",
      "rxn_atp_syn\n",
      "ADP_c0 + Phosphate_c0 + 4.0 H_e0 <=> H2O_c0 + ATP_c0 + 3.0 H_c0\n",
      "1000.0\n"
     ]
    }
   ],
   "source": [
    "## Hmm... doesn't grow any slower! Maybe there's another loop now.\n",
    "## Limiting fluxes?\n",
    "for reaction in FBA_model.reactions:\n",
    "\tflux = solution.x_dict[reaction.id]\n",
    "\tif flux == reaction.lower_bound or flux == reaction.upper_bound:\n",
    "\t\tif not flux == 0:\n",
    "\t\t\tprint(reaction.id)\n",
    "\t\t\tprint(reaction.build_reaction_string(use_metabolite_names = True))\n",
    "\t\t\tprint(flux)\n"
   ]
  },
  {
   "cell_type": "code",
   "execution_count": 41,
   "metadata": {
    "collapsed": true
   },
   "outputs": [],
   "source": [
    "## I see the problem--The stoichiometry of ATP synthase per glucose oxidized is around 30:1\n",
    "## Therefore, its upper bound must be set very high, otherwise it limits respiration\n",
    "## Set it to 10,0000\n",
    "## At ~33 times the sugar uptake bound, even if 100% is devoted to respiration this won't limit now\n",
    "atp_syn = FBA_model.reactions.get_by_id('rxn_atp_syn')\n",
    "atp_syn.upper_bound = 10000"
   ]
  },
  {
   "cell_type": "code",
   "execution_count": 16,
   "metadata": {},
   "outputs": [
    {
     "name": "stdout",
     "output_type": "stream",
     "text": [
      "0.07200374419469883\n"
     ]
    }
   ],
   "source": [
    "solution = FBA_model.optimize()\n",
    "print(solution.f)"
   ]
  },
  {
   "cell_type": "code",
   "execution_count": 17,
   "metadata": {},
   "outputs": [
    {
     "name": "stdout",
     "output_type": "stream",
     "text": [
      "rxn09240_c0\n",
      "H2O_c0 + ATP_c0 + GTP_c0 + Sulfate_c0 <=> Phosphate_c0 + PPi_c0 + GDP_c0 + H_c0 + APS_c0\n",
      "-1000.0\n",
      "rxn00519_c0\n",
      "Oxaloacetate_c0 + ITP_c0 <=> CO2_c0 + Phosphoenolpyruvate_c0 + IDP_c0\n",
      "-1000.0\n",
      "rxn10113_c0\n",
      "0.5 O2_c0 + 2.5 H_c0 + Ubiquinol_8_c0 --> H2O_c0 + 2.5 H_e0 + Ubiquinone_8_c0\n",
      "1000.0\n",
      "rxn00058_c0\n",
      "O2_c0 + 4.0 H_c0 + 4.0 Cytochrome_c2_c0 <=> 2.0 H2O_c0 + 4.0 Cytochrome_c3_c0\n",
      "-1000.0\n",
      "rxn10122_c0\n",
      "NADH_c0 + 4.5 H_c0 + Ubiquinone_8_c0 <=> NAD_c0 + 3.5 H_e0 + Ubiquinol_8_c0\n",
      "1000.0\n",
      "rxn00515_c0\n",
      "ATP_c0 + IDP_c0 <=> ADP_c0 + ITP_c0\n",
      "-1000.0\n",
      "rxn00379_c0\n",
      "ATP_c0 + Sulfate_c0 <=> PPi_c0 + APS_c0\n",
      "1000.0\n",
      "rxn10043_c0\n",
      "0.5 O2_c0 + 6.0 H_c0 + 2.0 Cytochrome_c2_c0 <=> H2O_c0 + 4.0 H_e0 + 2.0 Cytochrome_c3_c0\n",
      "1000.0\n",
      "EX_cpd00082_e0\n",
      "D_Fructose_e0 <=> \n",
      "-300.0\n",
      "EX_cpd00013_e0\n",
      "NH3_e0 <=> \n",
      "-300.0\n",
      "EX_cpd00009_e0\n",
      "Phosphate_e0 <=> \n",
      "-300.0\n"
     ]
    }
   ],
   "source": [
    "for reaction in FBA_model.reactions:\n",
    "\tflux = solution.x_dict[reaction.id]\n",
    "\tif flux == reaction.lower_bound or flux == reaction.upper_bound:\n",
    "\t\tif not flux == 0:\n",
    "\t\t\tprint(reaction.id)\n",
    "\t\t\tprint(reaction.build_reaction_string(use_metabolite_names = True))\n",
    "\t\t\tprint(flux)"
   ]
  },
  {
   "cell_type": "code",
   "execution_count": 42,
   "metadata": {
    "collapsed": true
   },
   "outputs": [],
   "source": [
    "## Now the electron transport chain is limiting. This will take work to fix.\n",
    "## For now, just set nutrient uptake really low\n",
    "## At 12 reducing equivalents per glucose, anything below 1000/12 ~83 should be fine\n",
    "## Leave the nitrogen for now, and set fructose to 50. At 1:1 C:N, carbon should certainly limit\n",
    "med['EX_cpd00082_e0'] = 20\n",
    "FBA_model.medium = med"
   ]
  },
  {
   "cell_type": "code",
   "execution_count": 43,
   "metadata": {},
   "outputs": [
    {
     "name": "stdout",
     "output_type": "stream",
     "text": [
      "0.007379887715008395\n"
     ]
    }
   ],
   "source": [
    "solution = FBA_model.optimize()\n",
    "print(solution.f)"
   ]
  },
  {
   "cell_type": "code",
   "execution_count": 25,
   "metadata": {},
   "outputs": [
    {
     "name": "stdout",
     "output_type": "stream",
     "text": [
      "rxn09240_c0\n",
      "H2O_c0 + ATP_c0 + GTP_c0 + Sulfate_c0 <=> Phosphate_c0 + PPi_c0 + GDP_c0 + H_c0 + APS_c0\n",
      "-1000.0\n",
      "rxn00519_c0\n",
      "Oxaloacetate_c0 + ITP_c0 <=> CO2_c0 + Phosphoenolpyruvate_c0 + IDP_c0\n",
      "-1000.0\n",
      "rxn00499_c0\n",
      "NAD_c0 + L_Lactate_c0 <=> NADH_c0 + Pyruvate_c0 + H_c0\n",
      "1000.0\n",
      "rxn00515_c0\n",
      "ATP_c0 + IDP_c0 <=> ADP_c0 + ITP_c0\n",
      "-1000.0\n",
      "rxn00379_c0\n",
      "ATP_c0 + Sulfate_c0 <=> PPi_c0 + APS_c0\n",
      "1000.0\n",
      "rxn10043_c0\n",
      "0.5 O2_c0 + 6.0 H_c0 + 2.0 Cytochrome_c2_c0 <=> H2O_c0 + 4.0 H_e0 + 2.0 Cytochrome_c3_c0\n",
      "1000.0\n",
      "EX_cpd00082_e0\n",
      "D_Fructose_e0 <=> \n",
      "-20.0\n",
      "EX_cpd00009_e0\n",
      "Phosphate_e0 <=> \n",
      "-300.0\n"
     ]
    }
   ],
   "source": [
    "for reaction in FBA_model.reactions:\n",
    "\tflux = solution.x_dict[reaction.id]\n",
    "\tif flux == reaction.lower_bound or flux == reaction.upper_bound:\n",
    "\t\tif not flux == 0:\n",
    "\t\t\tprint(reaction.id)\n",
    "\t\t\tprint(reaction.build_reaction_string(use_metabolite_names = True))\n",
    "\t\t\tprint(flux)"
   ]
  },
  {
   "cell_type": "code",
   "execution_count": 26,
   "metadata": {},
   "outputs": [
    {
     "name": "stdout",
     "output_type": "stream",
     "text": [
      "0.007379887712794733\n"
     ]
    }
   ],
   "source": [
    "## Something is clearly wrong--with only 20 moles of sugar, where are 1000 moles of lactate coming from??\n",
    "## Model seems to be fixing CO2 through reversal of PEPCK reaction, which is clearly unrealistic\n",
    "## because fixing CO2 (high entropy gas to aqueous) *requires* free energy rather than producing it\n",
    "## This also doesn't explain the lactate source\n",
    "\n",
    "## It's also phosphate limited now, which is of course strange because phosphate is MORE abundant now relative to carbon\n",
    "## Try loopless version of FBA:\n",
    "\n",
    "cobra.flux_analysis.loopless.add_loopless(FBA_model)\n",
    "solution = FBA_model.optimize()\n",
    "print(solution.f)"
   ]
  },
  {
   "cell_type": "code",
   "execution_count": 27,
   "metadata": {},
   "outputs": [
    {
     "name": "stdout",
     "output_type": "stream",
     "text": [
      "rxn00519_c0\n",
      "Oxaloacetate_c0 + ITP_c0 <=> CO2_c0 + Phosphoenolpyruvate_c0 + IDP_c0\n",
      "-1000.0\n",
      "rxn01705_c0\n",
      "dCTP_c0 + Cytidine_c0 <=> CMP_c0 + H_c0 + dCDP_c0\n",
      "-1000.0\n",
      "rxn05142_c0\n",
      "H2O_c0 + NAD_c0 + Sinapaldehyde_c0 <=> NADH_c0 + 2.0 H_c0 + Sinapate_c0\n",
      "-1000.0\n",
      "rxn05298_c0\n",
      "L_Glutamate_e0 + Na_e0 <=> L_Glutamate_c0 + Na_c0\n",
      "1000.0\n",
      "rxn01516_c0\n",
      "Uridine_c0 + TTP_c0 <=> H_c0 + UMP_c0 + dTDP_c0\n",
      "-1000.0\n",
      "rxn00707_c0\n",
      "ITP_c0 + Cytidine_c0 <=> CMP_c0 + H_c0 + IDP_c0\n",
      "1000.0\n",
      "rxn00237_c0\n",
      "ATP_c0 + GDP_c0 <=> ADP_c0 + GTP_c0\n",
      "1000.0\n",
      "rxn05143_c0\n",
      "H2O_c0 + NADP_c0 + Sinapaldehyde_c0 <=> NADPH_c0 + 2.0 H_c0 + Sinapate_c0\n",
      "1000.0\n",
      "rxn00184_c0\n",
      "H2O_c0 + NADP_c0 + L_Glutamate_c0 <=> NADPH_c0 + NH3_c0 + 2_Oxoglutarate_c0 + H_c0\n",
      "-1000.0\n",
      "rxn00368_c0\n",
      "UTP_c0 + Cytidine_c0 <=> UDP_c0 + CMP_c0 + H_c0\n",
      "-1000.0\n",
      "rxn05297_c0\n",
      "L_Glutamate_e0 + H_e0 <=> L_Glutamate_c0 + H_c0\n",
      "-1000.0\n",
      "EX_cpd00082_e0\n",
      "D_Fructose_e0 <=> \n",
      "-20.0\n"
     ]
    }
   ],
   "source": [
    "for reaction in FBA_model.reactions:\n",
    "\tflux = solution.x_dict[reaction.id]\n",
    "\tif flux == reaction.lower_bound or flux == reaction.upper_bound:\n",
    "\t\tif not flux == 0:\n",
    "\t\t\tprint(reaction.id)\n",
    "\t\t\tprint(reaction.build_reaction_string(use_metabolite_names = True))\n",
    "\t\t\tprint(flux)"
   ]
  },
  {
   "cell_type": "code",
   "execution_count": 34,
   "metadata": {},
   "outputs": [
    {
     "name": "stdout",
     "output_type": "stream",
     "text": [
      "ATP_c0 + CMP_c0 + H_c0 <=> ADP_c0 + CDP_c0\n",
      "-365.915348941\n",
      "ATP_c0 + dCDP_c0 <=> ADP_c0 + dCTP_c0\n",
      "-999.967307097\n",
      "ATP_c0 + D_Ribulose_c0 <=> ADP_c0 + H_c0 + D_Ribulose5_phosphate_c0\n",
      "-2.34213036498\n",
      "ATP_c0 + AMP_c0 + H_c0 <=> 2.0 ADP_c0\n",
      "-2.98766143863\n",
      "ATP_c0 + CoA_c0 + Succinate_c0 <=> ADP_c0 + Phosphate_c0 + Succinyl_CoA_c0\n",
      "-0.597254312584\n",
      "ATP_c0 + beta_D_Glucose_c0 <=> ADP_c0 + H_c0 + beta_D_Glucose_6_phosphate_c0\n",
      "-17.5241460697\n",
      "ATP_c0 + CDP_c0 <=> ADP_c0 + CTP_c0\n",
      "-365.948041843\n",
      "ATP_c0 + dADP_c0 <=> ADP_c0 + dATP_c0\n",
      "-365.235661282\n",
      "ATP_c0 + GDP_c0 <=> ADP_c0 + GTP_c0\n",
      "1000.0\n",
      "UTP_c0 + Cytidine_c0 <=> UDP_c0 + CMP_c0 + H_c0\n",
      "-1000.0\n",
      "Oxaloacetate_c0 + ITP_c0 <=> CO2_c0 + Phosphoenolpyruvate_c0 + IDP_c0\n",
      "-1000.0\n"
     ]
    }
   ],
   "source": [
    "## That didn't do anything in terms of growth rate\n",
    "## It seems add_loopless may only detect \"absolute\" loops, with no net change AT ALL\n",
    "## i.e. A --> B and then B --> A (by different paths)\n",
    "## not \"reverse futile cycles\" like A + ADP --> B + ATP and then B --> A by another path, which is what I want\n",
    "## The former don't affect growth rate anyway so I don't know why one would care\n",
    "\n",
    "## I may need to write my own algorithm for \"reverse futile cycles\" later--it's probably needs a graph algorithm\n",
    "## rather that something that can be done while staying within the framework of linear optimization\n",
    "\n",
    "## For now, let's see how this makes ATP (or GTP, etc.):\n",
    "\n",
    "atp = 'cpd00002_c0'\n",
    "gtp = 'cpd00038_c0'\n",
    "ctp = 'cpd00052_c0'\n",
    "utp = 'cpd00062_c0'\n",
    "itp = 'cpd00068_c0'\n",
    "adp = 'cpd00008_c0'\n",
    "gdp = 'cpd00031_c0'\n",
    "cdp = 'cpd00096_c0'\n",
    "udp = 'cpd00014_c0'\n",
    "idp = 'cpd00090_c0'\n",
    "\n",
    "pairs = [(adp,atp),(gdp,gtp),(cdp,ctp),(udp,utp),(idp,itp)]\n",
    "\n",
    "for pair in pairs:\n",
    "    reactant = FBA_model.metabolites.get_by_id(pair[0])\n",
    "    product = FBA_model.metabolites.get_by_id(pair[1])\n",
    "    for reaction in FBA_model.reactions:\n",
    "        met_dict = reaction.metabolites\n",
    "        if reactant in met_dict and product in met_dict:\n",
    "            if met_dict[reactant] < 0  and met_dict[product] > 0 and solution.x_dict[reaction.id] > 0:\n",
    "                print(reaction.build_reaction_string(use_metabolite_names = True))\n",
    "                print(solution.x_dict[reaction.id])\n",
    "            elif met_dict[reactant] > 0  and met_dict[product] < 0 and solution.x_dict[reaction.id] < 0:\n",
    "                print(reaction.build_reaction_string(use_metabolite_names = True))\n",
    "                print(solution.x_dict[reaction.id])"
   ]
  },
  {
   "cell_type": "code",
   "execution_count": 44,
   "metadata": {},
   "outputs": [
    {
     "name": "stdout",
     "output_type": "stream",
     "text": [
      "ATP_c0 + dCDP_c0 <=> ADP_c0 + dCTP_c0\n",
      "-49.7749977937\n",
      "ATP_c0 + H_c0 + dCMP_c0 <=> ADP_c0 + dCDP_c0\n",
      "-50.8959289388\n",
      "ATP_c0 + CoA_c0 + Succinate_c0 <=> ADP_c0 + Phosphate_c0 + Succinyl_CoA_c0\n",
      "-0.597254312776\n",
      "ATP_c0 + IDP_c0 <=> ADP_c0 + ITP_c0\n",
      "-1000.0\n",
      "ATP_c0 + CDP_c0 <=> ADP_c0 + CTP_c0\n",
      "-0.0321025115603\n",
      "ADP_c0 + Phosphate_c0 + 4.0 H_e0 <=> H2O_c0 + ATP_c0 + 3.0 H_c0\n",
      "2065.58858813\n",
      "H2O_c0 + ATP_c0 + GTP_c0 + Sulfate_c0 <=> Phosphate_c0 + PPi_c0 + GDP_c0 + H_c0 + APS_c0\n",
      "-1.58099334519\n",
      "UTP_c0 + Uridine_c0 <=> UDP_c0 + H_c0 + UMP_c0\n",
      "-1.05525014437\n",
      "Oxaloacetate_c0 + ITP_c0 <=> CO2_c0 + Phosphoenolpyruvate_c0 + IDP_c0\n",
      "-1000.0\n"
     ]
    }
   ],
   "source": [
    "## Odd! ATP synthase is not even in there! This is worse than without the loopless condition (which can't be removed)\n",
    "## Let's reset the model and re-do the above:\n",
    "\n",
    "atp = 'cpd00002_c0'\n",
    "gtp = 'cpd00038_c0'\n",
    "ctp = 'cpd00052_c0'\n",
    "utp = 'cpd00062_c0'\n",
    "itp = 'cpd00068_c0'\n",
    "adp = 'cpd00008_c0'\n",
    "gdp = 'cpd00031_c0'\n",
    "cdp = 'cpd00096_c0'\n",
    "udp = 'cpd00014_c0'\n",
    "idp = 'cpd00090_c0'\n",
    "\n",
    "pairs = [(adp,atp),(gdp,gtp),(cdp,ctp),(udp,utp),(idp,itp)]\n",
    "\n",
    "for pair in pairs:\n",
    "    reactant = FBA_model.metabolites.get_by_id(pair[0])\n",
    "    product = FBA_model.metabolites.get_by_id(pair[1])\n",
    "    for reaction in FBA_model.reactions:\n",
    "        met_dict = reaction.metabolites\n",
    "        if reactant in met_dict and product in met_dict:\n",
    "            if met_dict[reactant] < 0  and met_dict[product] > 0 and solution.x_dict[reaction.id] > 0:\n",
    "                print(reaction.build_reaction_string(use_metabolite_names = True))\n",
    "                print(solution.x_dict[reaction.id])\n",
    "            elif met_dict[reactant] > 0  and met_dict[product] < 0 and solution.x_dict[reaction.id] < 0:\n",
    "                print(reaction.build_reaction_string(use_metabolite_names = True))\n",
    "                print(solution.x_dict[reaction.id])"
   ]
  },
  {
   "cell_type": "code",
   "execution_count": 45,
   "metadata": {},
   "outputs": [
    {
     "name": "stdout",
     "output_type": "stream",
     "text": [
      "0.007379887715008395\n"
     ]
    }
   ],
   "source": [
    "## Now ATP synthase makes a lot of ATP, as expected. But there are other problems. \n",
    "## Let's re-solve the model and see if these anomalies are consistent:\n",
    "\n",
    "solution = FBA_model.optimize()\n",
    "print(solution.f)"
   ]
  },
  {
   "cell_type": "code",
   "execution_count": 46,
   "metadata": {},
   "outputs": [
    {
     "name": "stdout",
     "output_type": "stream",
     "text": [
      "ATP_c0 + dCDP_c0 <=> ADP_c0 + dCTP_c0\n",
      "-49.7749977937\n",
      "ATP_c0 + H_c0 + dCMP_c0 <=> ADP_c0 + dCDP_c0\n",
      "-50.8959289388\n",
      "ATP_c0 + CoA_c0 + Succinate_c0 <=> ADP_c0 + Phosphate_c0 + Succinyl_CoA_c0\n",
      "-0.597254312776\n",
      "ATP_c0 + IDP_c0 <=> ADP_c0 + ITP_c0\n",
      "-1000.0\n",
      "ATP_c0 + CDP_c0 <=> ADP_c0 + CTP_c0\n",
      "-0.0321025115603\n",
      "ADP_c0 + Phosphate_c0 + 4.0 H_e0 <=> H2O_c0 + ATP_c0 + 3.0 H_c0\n",
      "2065.58858813\n",
      "H2O_c0 + ATP_c0 + GTP_c0 + Sulfate_c0 <=> Phosphate_c0 + PPi_c0 + GDP_c0 + H_c0 + APS_c0\n",
      "-1.58099334519\n",
      "UTP_c0 + Uridine_c0 <=> UDP_c0 + H_c0 + UMP_c0\n",
      "-1.05525014437\n",
      "Oxaloacetate_c0 + ITP_c0 <=> CO2_c0 + Phosphoenolpyruvate_c0 + IDP_c0\n",
      "-1000.0\n"
     ]
    }
   ],
   "source": [
    "atp = 'cpd00002_c0'\n",
    "gtp = 'cpd00038_c0'\n",
    "ctp = 'cpd00052_c0'\n",
    "utp = 'cpd00062_c0'\n",
    "itp = 'cpd00068_c0'\n",
    "adp = 'cpd00008_c0'\n",
    "gdp = 'cpd00031_c0'\n",
    "cdp = 'cpd00096_c0'\n",
    "udp = 'cpd00014_c0'\n",
    "idp = 'cpd00090_c0'\n",
    "\n",
    "pairs = [(adp,atp),(gdp,gtp),(cdp,ctp),(udp,utp),(idp,itp)]\n",
    "\n",
    "for pair in pairs:\n",
    "    reactant = FBA_model.metabolites.get_by_id(pair[0])\n",
    "    product = FBA_model.metabolites.get_by_id(pair[1])\n",
    "    for reaction in FBA_model.reactions:\n",
    "        met_dict = reaction.metabolites\n",
    "        if reactant in met_dict and product in met_dict:\n",
    "            if met_dict[reactant] < 0  and met_dict[product] > 0 and solution.x_dict[reaction.id] > 0:\n",
    "                print(reaction.build_reaction_string(use_metabolite_names = True))\n",
    "                print(solution.x_dict[reaction.id])\n",
    "            elif met_dict[reactant] > 0  and met_dict[product] < 0 and solution.x_dict[reaction.id] < 0:\n",
    "                print(reaction.build_reaction_string(use_metabolite_names = True))\n",
    "                print(solution.x_dict[reaction.id])"
   ]
  },
  {
   "cell_type": "code",
   "execution_count": 47,
   "metadata": {},
   "outputs": [
    {
     "name": "stdout",
     "output_type": "stream",
     "text": [
      "PPi_c0 + H_c0 --> PPi_e0 + H_e0\n",
      "148.703353728\n",
      "0.5 O2_c0 + 2.5 H_c0 + Ubiquinol_8_c0 --> H2O_c0 + 2.5 H_e0 + Ubiquinone_8_c0\n",
      "662.430286583\n",
      "NADH_c0 + 4.5 H_c0 + Ubiquinone_8_c0 <=> NAD_c0 + 3.5 H_e0 + Ubiquinol_8_c0\n",
      "661.89214517\n",
      "H_e0 + Acetoacetate_e0 <=> H_c0 + Acetoacetate_c0\n",
      "-1.84179857703\n",
      "H_e0 + L_Lactate_e0 <=> H_c0 + L_Lactate_c0\n",
      "-2.88422497691e-13\n",
      "H_c0 + Na_e0 <=> H_e0 + Na_c0\n",
      "22.4699869191\n",
      "0.5 O2_c0 + 6.0 H_c0 + 2.0 Cytochrome_c2_c0 <=> H2O_c0 + 4.0 H_e0 + 2.0 Cytochrome_c3_c0\n",
      "1000.0\n"
     ]
    }
   ],
   "source": [
    "## So the ATP synthase flux is consistent, and the PEPCK too, but other things vary\n",
    "## How about cation efflux, what's driving that?\n",
    "\n",
    "H_in = 'cpd00067_c0'\n",
    "H_out = 'cpd00067_e0'\n",
    "Na_in = 'cpd00971_c0'\n",
    "Na_out = 'cpd00971_e0'\n",
    "\n",
    "pairs =[(H_in,H_out), (Na_in,Na_out)]\n",
    "\n",
    "for pair in pairs:\n",
    "    reactant = FBA_model.metabolites.get_by_id(pair[0])\n",
    "    product = FBA_model.metabolites.get_by_id(pair[1])\n",
    "    for reaction in FBA_model.reactions:\n",
    "        met_dict = reaction.metabolites\n",
    "        if reactant in met_dict and product in met_dict:\n",
    "            if met_dict[reactant] < 0  and met_dict[product] > 0 and solution.x_dict[reaction.id] > 0:\n",
    "                print(reaction.build_reaction_string(use_metabolite_names = True))\n",
    "                print(solution.x_dict[reaction.id])\n",
    "            elif met_dict[reactant] > 0  and met_dict[product] < 0 and solution.x_dict[reaction.id] < 0:\n",
    "                print(reaction.build_reaction_string(use_metabolite_names = True))\n",
    "                print(solution.x_dict[reaction.id])\n"
   ]
  },
  {
   "cell_type": "code",
   "execution_count": 49,
   "metadata": {},
   "outputs": [
    {
     "name": "stdout",
     "output_type": "stream",
     "text": [
      "rxn00058_c0\n",
      "O2_c0 + 4.0 H_c0 + 4.0 Cytochrome_c2_c0 <=> 2.0 H2O_c0 + 4.0 Cytochrome_c3_c0\n",
      "-829.183128108\n"
     ]
    }
   ],
   "source": [
    "## Even weirder... so at the level of entering the electron transport chain from NADH there are ~1300 electrons\n",
    "## but there's ~1300 being used to reduce O2 at the quinone stage and another 1000 at cytochrome C oxidase!\n",
    "## Where are all these electrons to cytochrome C coming from??\n",
    "\n",
    "cyt_c_ox = 'cpd00109_c0'\n",
    "cyt_c_red = 'cpd00110_c0'\n",
    "\n",
    "reactant = FBA_model.metabolites.get_by_id(cyt_c_ox)\n",
    "product = FBA_model.metabolites.get_by_id(cyt_c_red)\n",
    "for reaction in FBA_model.reactions:\n",
    "    met_dict = reaction.metabolites\n",
    "    if reactant in met_dict and product in met_dict:\n",
    "        if met_dict[reactant] < 0  and met_dict[product] > 0 and solution.x_dict[reaction.id] > 0:\n",
    "            print(reaction.id)\n",
    "            print(reaction.build_reaction_string(use_metabolite_names = True))\n",
    "            print(solution.x_dict[reaction.id])\n",
    "        elif met_dict[reactant] > 0  and met_dict[product] < 0 and solution.x_dict[reaction.id] < 0:\n",
    "            print(reaction.id)\n",
    "            print(reaction.build_reaction_string(use_metabolite_names = True))\n",
    "            print(solution.x_dict[reaction.id])"
   ]
  },
  {
   "cell_type": "code",
   "execution_count": 50,
   "metadata": {},
   "outputs": [
    {
     "name": "stdout",
     "output_type": "stream",
     "text": [
      "0.007379887715008557\n"
     ]
    }
   ],
   "source": [
    "## So Cyt. C oxidase is in there twice, going in opposite directions! The proton stoichiometry is different, though. \n",
    "## This creates a proton-pumping cycle with no free energy source.\n",
    "## Only plant photosystems can oxidize water, it can't be done here. So set this other oxidase as irreversible consuming O2.\n",
    "## That will solve this problem.\n",
    "\n",
    "oxidase = FBA_model.reactions.get_by_id('rxn00058_c0')\n",
    "oxidase.lower_bound = 0\n",
    "solution = FBA_model.optimize()\n",
    "print(solution.f)\n",
    "\n"
   ]
  },
  {
   "cell_type": "code",
   "execution_count": 51,
   "metadata": {},
   "outputs": [
    {
     "name": "stdout",
     "output_type": "stream",
     "text": [
      "PPi_c0 + H_c0 --> PPi_e0 + H_e0\n",
      "148.703353728\n",
      "0.5 O2_c0 + 2.5 H_c0 + Ubiquinol_8_c0 --> H2O_c0 + 2.5 H_e0 + Ubiquinone_8_c0\n",
      "872.368809382\n",
      "H_e0 + XAN_e0 <=> H_c0 + XAN_c0\n",
      "-1.43288159116e-14\n",
      "NADH_c0 + 4.5 H_c0 + Ubiquinone_8_c0 <=> NAD_c0 + 3.5 H_e0 + Ubiquinol_8_c0\n",
      "871.83066797\n",
      "H_e0 + Acetoacetate_e0 <=> H_c0 + Acetoacetate_c0\n",
      "-1.84179857703\n",
      "H_c0 + Na_e0 <=> H_e0 + Na_c0\n",
      "22.4699869191\n",
      "2.0 H_c0 + Nitrate_c0 + Menaquinol_8_c0 <=> H2O_c0 + 2.0 H_e0 + Nitrite_c0 + Menaquinone_8_c0\n",
      "8.21730109605e-33\n"
     ]
    }
   ],
   "source": [
    "H_in = 'cpd00067_c0'\n",
    "H_out = 'cpd00067_e0'\n",
    "Na_in = 'cpd00971_c0'\n",
    "Na_out = 'cpd00971_e0'\n",
    "\n",
    "pairs =[(H_in,H_out), (Na_in,Na_out)]\n",
    "\n",
    "for pair in pairs:\n",
    "    reactant = FBA_model.metabolites.get_by_id(pair[0])\n",
    "    product = FBA_model.metabolites.get_by_id(pair[1])\n",
    "    for reaction in FBA_model.reactions:\n",
    "        met_dict = reaction.metabolites\n",
    "        if reactant in met_dict and product in met_dict:\n",
    "            if met_dict[reactant] < 0  and met_dict[product] > 0 and solution.x_dict[reaction.id] > 0:\n",
    "                print(reaction.build_reaction_string(use_metabolite_names = True))\n",
    "                print(solution.x_dict[reaction.id])\n",
    "            elif met_dict[reactant] > 0  and met_dict[product] < 0 and solution.x_dict[reaction.id] < 0:\n",
    "                print(reaction.build_reaction_string(use_metabolite_names = True))\n",
    "                print(solution.x_dict[reaction.id])"
   ]
  },
  {
   "cell_type": "code",
   "execution_count": 52,
   "metadata": {},
   "outputs": [
    {
     "name": "stdout",
     "output_type": "stream",
     "text": [
      "rxn12008_c0\n",
      "Isopentenyldiphosphate_c0 + all_trans_Heptaprenyl_diphosphate_c0 --> PPi_c0 + H_c0 + Farnesylfarnesylgeraniol_c0\n",
      "7.37988771501e-05\n",
      "rxn09177_c0\n",
      "CTP_c0 + L_Cysteine_c0 + 4_phosphopantothenate_c0 --> PPi_c0 + CMP_c0 + 2.0 H_c0 + R_4_Phosphopantothenoyl_L_cysteine_c0\n",
      "0.0005903910172\n",
      "rxn01486_c0\n",
      "Isopentenyldiphosphate_c0 + Farnesyldiphosphate_c0 --> PPi_c0 + H_c0 + Geranylgeranyl_diphosphate_c0\n",
      "0.376743267851\n",
      "rxn00416_c0\n",
      "H2O_c0 + ATP_c0 + L_Aspartate_c0 + L_Glutamine_c0 --> PPi_c0 + AMP_c0 + L_Glutamate_c0 + 2.0 H_c0 + L_Asparagine_c0\n",
      "116.391327879\n",
      "rxn00789_c0\n",
      "ATP_c0 + PRPP_c0 --> PPi_c0 + H_c0 + Phosphoribosyl_ATP_c0\n",
      "0.597844703793\n",
      "rxn01362_c0\n",
      "PRPP_c0 + Orotate_c0 --> PPi_c0 + H_c0 + Orotidylic_acid_c0\n",
      "0.975547357047\n",
      "rxn03891_c0\n",
      "Isopentenyldiphosphate_c0 + all_trans_Hexaprenyl_diphosphate_c0 --> PPi_c0 + H_c0 + all_trans_Heptaprenyl_diphosphate_c0\n",
      "7.37988771501e-05\n",
      "rxn06937_c0\n",
      "ATP_c0 + L_Glutamate_c0 + tRNA_Glu_c0 --> PPi_c0 + AMP_c0 + H_c0 + L_Glutamyl_tRNA_Glu_c0\n",
      "0.002951955086\n",
      "rxn02175_c0\n",
      "ATP_c0 + Phosphopantetheine_c0 <=> PPi_c0 + Dephospho_CoA_c0\n",
      "0.0005903910172\n",
      "rxn00790_c0\n",
      "H2O_c0 + L_Glutamine_c0 + PRPP_c0 --> PPi_c0 + L_Glutamate_c0 + H_c0 + 5_Phosphoribosylamine_c0\n",
      "0.976949535713\n",
      "rxn00126_c0\n",
      "H2O_c0 + ATP_c0 + L_Methionine_c0 --> Phosphate_c0 + PPi_c0 + S_Adenosyl_L_methionine_c0 + H_c0\n",
      "0.0282649699485\n",
      "rxn01544_c0\n",
      "PRPP_c0 + XAN_c0 --> PPi_c0 + H_c0 + XMP_c0\n",
      "0.0282649699484\n",
      "rxn02402_c0\n",
      "H_c0 + PRPP_c0 + Quinolinate_c0 --> CO2_c0 + PPi_c0 + Nicotinate_ribonucleotide_c0\n",
      "0.000590391017201\n",
      "rxn00379_c0\n",
      "ATP_c0 + Sulfate_c0 <=> PPi_c0 + APS_c0\n",
      "1.58099334519\n",
      "rxn11544_c0\n",
      "H2O_c0 + 2.0 ATP_c0 + 2.0 L_Glutamine_c0 + Hydrogenobyrinate_c0 <=> 2.0 ADP_c0 + PPi_c0 + 2.0 L_Glutamate_c0 + H_c0 + Hydrogenobyrinate_diamide_c0\n",
      "0.0001475977543\n",
      "rxn00791_c0\n",
      "Anthranilate_c0 + PRPP_c0 --> PPi_c0 + H_c0 + N_5_phosphoribosyl_anthranilate_c0\n",
      "0.231285680988\n",
      "rxn02834_c0\n",
      "H2O_c0 + Phosphoribosyl_ATP_c0 --> PPi_c0 + 2.0 H_c0 + Phosphoribosyl_AMP_c0\n",
      "0.597844703793\n",
      "rxn01213_c0\n",
      "Isopentenyldiphosphate_c0 + DMAPP_c0 --> PPi_c0 + H_c0 + Geranyldiphosphate_c0\n",
      "0.376743267851\n",
      "rxn00175_c0\n",
      "ATP_c0 + CoA_c0 + Acetate_c0 <=> PPi_c0 + AMP_c0 + Acetyl_CoA_c0 + H_c0\n",
      "9.49821068472\n",
      "rxn05287_c0\n",
      "Isopentenyldiphosphate_c0 + Geranylgeranyl_diphosphate_c0 --> PPi_c0 + H_c0 + pendp_c0\n",
      "7.37988771501e-05\n",
      "rxn03892_c0\n",
      "Isopentenyldiphosphate_c0 + pendp_c0 --> PPi_c0 + H_c0 + all_trans_Hexaprenyl_diphosphate_c0\n",
      "7.37988771501e-05\n",
      "rxn03114_c0\n",
      "Geranylgeranyl_diphosphate_c0 + sn_3_O_Geranylgeranylglycerol_1_phosphate_c0 <=> PPi_c0 + H_c0 + 2_3_Bis_O_geranylgeranylglycerol_1_phosphate_c0\n",
      "0.188334734487\n",
      "rxn01265_c0\n",
      "PPi_c0 + Nicotinate_ribonucleotide_c0 <=> PRPP_c0 + Niacin_c0\n",
      "-0.0001475977543\n",
      "rxn01434_c0\n",
      "ATP_c0 + L_Aspartate_c0 + Citrulline_c0 <=> PPi_c0 + AMP_c0 + 2.0 H_c0 + L_Argininosuccinate_c0\n",
      "16.509988877\n",
      "rxn01466_c0\n",
      "Isopentenyldiphosphate_c0 + Geranyldiphosphate_c0 --> PPi_c0 + H_c0 + Farnesyldiphosphate_c0\n",
      "0.376743267851\n",
      "rxn02831_c0\n",
      "ATP_c0 + CoA_c0 + Succinylbenzoate_c0 --> PPi_c0 + AMP_c0 + H_c0 + Succinylbenzoyl_CoA_c0\n",
      "7.37988771501e-05\n",
      "rxn10052_c0\n",
      "AMP_c0 + Triphosphate_c0 <=> ADP_c0 + PPi_c0\n",
      "0.0001475977543\n",
      "rxn00138_c0\n",
      "ATP_c0 + NH3_c0 + Deamido_NAD_c0 --> NAD_c0 + PPi_c0 + AMP_c0 + 2.0 H_c0\n",
      "0.000590391017201\n",
      "rxn03537_c0\n",
      "GTP_c0 + Adenosyl_cobinamide_phosphate_c0 --> PPi_c0 + H_c0 + Adenosylcobinamide_GDP_c0\n",
      "0.0001475977543\n",
      "rxn08333_c0\n",
      "1_4_Dihydroxy_2_naphthoate_c0 + Farnesylfarnesylgeraniol_c0 --> CO2_c0 + PPi_c0 + 2_Demethylmenaquinol_8_c0\n",
      "7.37988771501e-05\n",
      "rxn00122_c0\n",
      "ATP_c0 + FMN_c0 --> PPi_c0 + FAD_c0\n",
      "0.0002951955086\n",
      "rxn00656_c\n",
      "ATP_c0 + beta_Alanine_c0 + Pantoate_c0 --> PPi_c0 + AMP_c0 + H_c0 + PAN_c0\n",
      "0.0005903910172\n",
      "rxn01332_c\n",
      "ATP_c0 + Nicotinate_ribonucleotide_c0 --> PPi_c0 + Deamido_NAD_c0\n",
      "0.000590391017201\n",
      "rxn01791_c\n",
      "H2O_c0 + GTP_c0 --> PPi_c0 + Formate_c0 + 3.0 H_c0 + 2_5_Diamino_6_5_phosphoribosylamino_4_pyrimidineone_c0\n",
      "0.000442793262901\n",
      "rxn08131_c\n",
      "H2O_c0 + ATP_c0 + L_Glutamine_c0 + XMP_c0 --> PPi_c0 + AMP_c0 + L_Glutamate_c0 + 3.0 H_c0 + GMP_c0\n",
      "0.647142353729\n",
      "rxn_DNA\n",
      "1.42 dATP_c0 + 3.01 dGTP_c0 + 3.01 dCTP_c0 + 1.42 TTP_c0 --> DNA + 8.86 PPi_c0\n",
      "0.00737988771501\n",
      "rxn_RNA\n",
      "39.73 ATP_c0 + 84.43 GTP_c0 + 84.43 CTP_c0 + 39.73 UTP_c0 --> RNA + 248.33 PPi_c0\n",
      "0.00737988771501\n",
      "rxn_00289_KEGG\n",
      "UTP_c0 + Glucose_1_phosphate_c0 <=> PPi_c0 + UDP_glucose_c0\n",
      "0.106270383096\n"
     ]
    }
   ],
   "source": [
    "## Now where is all that PPi coming from?\n",
    "ppi = FBA_model.metabolites.get_by_id('cpd00012_c0')\n",
    "\n",
    "for reaction in FBA_model.reactions:\n",
    "    met_dict = reaction.metabolites\n",
    "    if ppi in met_dict:\n",
    "        if met_dict[ppi] > 0 and solution.x_dict[reaction.id] > 0:\n",
    "            print(reaction.id)\n",
    "            print(reaction.build_reaction_string(use_metabolite_names = True))\n",
    "            print(solution.x_dict[reaction.id])\n",
    "        elif met_dict[ppi] < 0 and solution.x_dict[reaction.id] < 0:\n",
    "            print(reaction.id)\n",
    "            print(reaction.build_reaction_string(use_metabolite_names = True))\n",
    "            print(solution.x_dict[reaction.id])"
   ]
  },
  {
   "cell_type": "code",
   "execution_count": 53,
   "metadata": {},
   "outputs": [
    {
     "name": "stdout",
     "output_type": "stream",
     "text": [
      "ATP_c0 + H_c0 + dCMP_c0 <=> ADP_c0 + dCDP_c0\n",
      "-1.12093114503\n",
      "ATP_c0 + CoA_c0 + Succinate_c0 <=> ADP_c0 + Phosphate_c0 + Succinyl_CoA_c0\n",
      "-0.597254312776\n",
      "ATP_c0 + IDP_c0 <=> ADP_c0 + ITP_c0\n",
      "-1000.0\n",
      "ATP_c0 + CDP_c0 <=> ADP_c0 + CTP_c0\n",
      "-0.0321025115603\n",
      "ADP_c0 + Phosphate_c0 + 4.0 H_e0 <=> H2O_c0 + ATP_c0 + 3.0 H_c0\n",
      "512.191593317\n",
      "H2O_c0 + ATP_c0 + GTP_c0 + Sulfate_c0 <=> Phosphate_c0 + PPi_c0 + GDP_c0 + H_c0 + APS_c0\n",
      "-1.58099334519\n",
      "UTP_c0 + Uridine_c0 <=> UDP_c0 + H_c0 + UMP_c0\n",
      "-1.05525014437\n",
      "Oxaloacetate_c0 + ITP_c0 <=> CO2_c0 + Phosphoenolpyruvate_c0 + IDP_c0\n",
      "-1000.0\n"
     ]
    }
   ],
   "source": [
    "## What's making NTPs now?\n",
    "\n",
    "atp = 'cpd00002_c0'\n",
    "gtp = 'cpd00038_c0'\n",
    "ctp = 'cpd00052_c0'\n",
    "utp = 'cpd00062_c0'\n",
    "itp = 'cpd00068_c0'\n",
    "adp = 'cpd00008_c0'\n",
    "gdp = 'cpd00031_c0'\n",
    "cdp = 'cpd00096_c0'\n",
    "udp = 'cpd00014_c0'\n",
    "idp = 'cpd00090_c0'\n",
    "\n",
    "pairs = [(adp,atp),(gdp,gtp),(cdp,ctp),(udp,utp),(idp,itp)]\n",
    "\n",
    "for pair in pairs:\n",
    "    reactant = FBA_model.metabolites.get_by_id(pair[0])\n",
    "    product = FBA_model.metabolites.get_by_id(pair[1])\n",
    "    for reaction in FBA_model.reactions:\n",
    "        met_dict = reaction.metabolites\n",
    "        if reactant in met_dict and product in met_dict:\n",
    "            if met_dict[reactant] < 0  and met_dict[product] > 0 and solution.x_dict[reaction.id] > 0:\n",
    "                print(reaction.build_reaction_string(use_metabolite_names = True))\n",
    "                print(solution.x_dict[reaction.id])\n",
    "            elif met_dict[reactant] > 0  and met_dict[product] < 0 and solution.x_dict[reaction.id] < 0:\n",
    "                print(reaction.build_reaction_string(use_metabolite_names = True))\n",
    "                print(solution.x_dict[reaction.id])"
   ]
  },
  {
   "cell_type": "code",
   "execution_count": 54,
   "metadata": {},
   "outputs": [
    {
     "name": "stdout",
     "output_type": "stream",
     "text": [
      "rxn00147_c0\n",
      "H2O_c0 + ATP_c0 + Pyruvate_c0 --> Phosphate_c0 + AMP_c0 + Phosphoenolpyruvate_c0 + 3.0 H_c0\n",
      "131.483183786\n",
      "rxn00251_c0\n",
      "Phosphate_c0 + Oxaloacetate_c0 + H_c0 <=> H2O_c0 + CO2_c0 + Phosphoenolpyruvate_c0\n",
      "824.076448474\n",
      "rxn00745_c0\n",
      "Phosphoenolpyruvate_c0 + Glycerone_c0 <=> Pyruvate_c0 + Glycerone_phosphate_c0\n",
      "-34.1778835835\n",
      "rxn00459_c0\n",
      "2_Phospho_D_glycerate_c0 <=> H2O_c0 + Phosphoenolpyruvate_c0\n",
      "33.1878716465\n"
     ]
    }
   ],
   "source": [
    "## Now ATP synthase is reasonable--it's only making 25.61 ATP/fructose\n",
    "## But where's all that PEP coming from?\n",
    "\n",
    "pep = FBA_model.metabolites.get_by_id('cpd00061_c0')\n",
    "\n",
    "for reaction in FBA_model.reactions:\n",
    "    met_dict = reaction.metabolites\n",
    "    if pep in met_dict:\n",
    "        if met_dict[pep] > 0 and solution.x_dict[reaction.id] > 0:\n",
    "            print(reaction.id)\n",
    "            print(reaction.build_reaction_string(use_metabolite_names = True))\n",
    "            print(solution.x_dict[reaction.id])\n",
    "        elif met_dict[pep] < 0 and solution.x_dict[reaction.id] < 0:\n",
    "            print(reaction.id)\n",
    "            print(reaction.build_reaction_string(use_metabolite_names = True))\n",
    "            print(solution.x_dict[reaction.id])"
   ]
  },
  {
   "cell_type": "code",
   "execution_count": 75,
   "metadata": {},
   "outputs": [
    {
     "name": "stdout",
     "output_type": "stream",
     "text": [
      "0.007379887715008347\n"
     ]
    }
   ],
   "source": [
    "## It's using PEP carboxylase in reverse to MAKE PEP, although this reaction is irreversible (deltaG = -30 kJ/mol)\n",
    "## Reverse it, then set to irreversible:\n",
    "\n",
    "pepc = FBA_model.reactions.get_by_id('rxn00251_c0')\n",
    "reverse(pepc)\n",
    "pepc.lower_bound = 0\n",
    "solution = FBA_model.optimize()\n",
    "print(solution.f)"
   ]
  },
  {
   "cell_type": "code",
   "execution_count": 59,
   "metadata": {},
   "outputs": [
    {
     "name": "stdout",
     "output_type": "stream",
     "text": [
      "ATP_c0 + CMP_c0 + H_c0 <=> ADP_c0 + CDP_c0\n",
      "-2.2914668279e-17\n",
      "ATP_c0 + H_c0 + dCMP_c0 <=> ADP_c0 + dCDP_c0\n",
      "-1.09871768301\n",
      "H2O_c0 + ATP_c0 + L_Leucine_e0 --> ADP_c0 + Phosphate_c0 + H_c0 + L_Leucine_c0\n",
      "-1.38777878078e-17\n",
      "ATP_c0 + CoA_c0 + Succinate_c0 <=> ADP_c0 + Phosphate_c0 + Succinyl_CoA_c0\n",
      "-0.597254312776\n",
      "ATP_c0 + IDP_c0 <=> ADP_c0 + ITP_c0\n",
      "-1000.0\n",
      "ATP_c0 + CDP_c0 <=> ADP_c0 + CTP_c0\n",
      "-0.0326929025775\n",
      "H2O_c0 + ATP_c0 + met_L_ala_L_e0 --> ADP_c0 + Phosphate_c0 + H_c0 + met_L_ala_L_c0\n",
      "-1.11022302463e-16\n",
      "ADP_c0 + Phosphate_c0 + 4.0 H_e0 <=> H2O_c0 + ATP_c0 + 3.0 H_c0\n",
      "512.303554896\n",
      "H2O_c0 + ATP_c0 + GTP_c0 + Sulfate_c0 <=> Phosphate_c0 + PPi_c0 + GDP_c0 + H_c0 + APS_c0\n",
      "-825.470839188\n",
      "UTP_c0 + Uridine_c0 <=> UDP_c0 + H_c0 + UMP_c0\n",
      "-1.05525014437\n",
      "Oxaloacetate_c0 + ITP_c0 <=> CO2_c0 + Phosphoenolpyruvate_c0 + IDP_c0\n",
      "-1000.0\n"
     ]
    }
   ],
   "source": [
    "## What's making NTPs now?\n",
    "\n",
    "atp = 'cpd00002_c0'\n",
    "gtp = 'cpd00038_c0'\n",
    "ctp = 'cpd00052_c0'\n",
    "utp = 'cpd00062_c0'\n",
    "itp = 'cpd00068_c0'\n",
    "adp = 'cpd00008_c0'\n",
    "gdp = 'cpd00031_c0'\n",
    "cdp = 'cpd00096_c0'\n",
    "udp = 'cpd00014_c0'\n",
    "idp = 'cpd00090_c0'\n",
    "\n",
    "pairs = [(adp,atp),(gdp,gtp),(cdp,ctp),(udp,utp),(idp,itp)]\n",
    "\n",
    "for pair in pairs:\n",
    "    reactant = FBA_model.metabolites.get_by_id(pair[0])\n",
    "    product = FBA_model.metabolites.get_by_id(pair[1])\n",
    "    for reaction in FBA_model.reactions:\n",
    "        met_dict = reaction.metabolites\n",
    "        if reactant in met_dict and product in met_dict:\n",
    "            if met_dict[reactant] < 0  and met_dict[product] > 0 and solution.x_dict[reaction.id] > 0:\n",
    "                print(reaction.build_reaction_string(use_metabolite_names = True))\n",
    "                print(solution.x_dict[reaction.id])\n",
    "            elif met_dict[reactant] > 0  and met_dict[product] < 0 and solution.x_dict[reaction.id] < 0:\n",
    "                print(reaction.build_reaction_string(use_metabolite_names = True))\n",
    "                print(solution.x_dict[reaction.id])"
   ]
  },
  {
   "cell_type": "code",
   "execution_count": 60,
   "metadata": {},
   "outputs": [
    {
     "name": "stdout",
     "output_type": "stream",
     "text": [
      "rxn00305_c0\n",
      "Oxaloacetate_c0 + GTP_c0 --> CO2_c0 + GDP_c0 + Phosphoenolpyruvate_c0\n",
      "823.889845842\n",
      "rxn00147_c0\n",
      "H2O_c0 + ATP_c0 + Pyruvate_c0 --> Phosphate_c0 + AMP_c0 + Phosphoenolpyruvate_c0 + 3.0 H_c0\n",
      "131.669786418\n",
      "rxn00745_c0\n",
      "Phosphoenolpyruvate_c0 + Glycerone_c0 <=> Pyruvate_c0 + Glycerone_phosphate_c0\n",
      "-34.1778835835\n",
      "rxn00459_c0\n",
      "2_Phospho_D_glycerate_c0 <=> H2O_c0 + Phosphoenolpyruvate_c0\n",
      "33.1878716465\n"
     ]
    }
   ],
   "source": [
    "pep = FBA_model.metabolites.get_by_id('cpd00061_c0')\n",
    "\n",
    "for reaction in FBA_model.reactions:\n",
    "    met_dict = reaction.metabolites\n",
    "    if pep in met_dict:\n",
    "        if met_dict[pep] > 0 and solution.x_dict[reaction.id] > 0:\n",
    "            print(reaction.id)\n",
    "            print(reaction.build_reaction_string(use_metabolite_names = True))\n",
    "            print(solution.x_dict[reaction.id])\n",
    "        elif met_dict[pep] < 0 and solution.x_dict[reaction.id] < 0:\n",
    "            print(reaction.id)\n",
    "            print(reaction.build_reaction_string(use_metabolite_names = True))\n",
    "            print(solution.x_dict[reaction.id])"
   ]
  },
  {
   "cell_type": "code",
   "execution_count": 69,
   "metadata": {},
   "outputs": [
    {
     "name": "stdout",
     "output_type": "stream",
     "text": [
      "0.007379887715008391\n"
     ]
    }
   ],
   "source": [
    "## The only thing fishy left here is the one with DHAP (called \"glycerone phosphate\" here)\n",
    "## It takes an alkyl phosphate and makes an acyl phosphate--clearly violating thermodynamics\n",
    "\n",
    "rxn = FBA_model.reactions.get_by_id('rxn00745_c0')\n",
    "rxn.lower_bound = 0\n",
    "solution = FBA_model.optimize()\n",
    "print(solution.f)\n",
    "\n",
    "\n"
   ]
  },
  {
   "cell_type": "code",
   "execution_count": 70,
   "metadata": {},
   "outputs": [
    {
     "name": "stdout",
     "output_type": "stream",
     "text": [
      "rxn00305_c0\n",
      "Oxaloacetate_c0 + GTP_c0 --> CO2_c0 + GDP_c0 + Phosphoenolpyruvate_c0\n",
      "823.882531071\n",
      "rxn00147_c0\n",
      "H2O_c0 + ATP_c0 + Pyruvate_c0 --> Phosphate_c0 + AMP_c0 + Phosphoenolpyruvate_c0 + 3.0 H_c0\n",
      "165.854984772\n",
      "rxn00745_c0\n",
      "Phosphoenolpyruvate_c0 + Glycerone_c0 --> Pyruvate_c0 + Glycerone_phosphate_c0\n",
      "-1.54462698184e-14\n",
      "rxn00459_c0\n",
      "2_Phospho_D_glycerate_c0 <=> H2O_c0 + Phosphoenolpyruvate_c0\n",
      "33.1878716465\n"
     ]
    }
   ],
   "source": [
    "pep = FBA_model.metabolites.get_by_id('cpd00061_c0')\n",
    "\n",
    "for reaction in FBA_model.reactions:\n",
    "    met_dict = reaction.metabolites\n",
    "    if pep in met_dict:\n",
    "        if met_dict[pep] > 0 and solution.x_dict[reaction.id] > 0:\n",
    "            print(reaction.id)\n",
    "            print(reaction.build_reaction_string(use_metabolite_names = True))\n",
    "            print(solution.x_dict[reaction.id])\n",
    "        elif met_dict[pep] < 0 and solution.x_dict[reaction.id] < 0:\n",
    "            print(reaction.id)\n",
    "            print(reaction.build_reaction_string(use_metabolite_names = True))\n",
    "            print(solution.x_dict[reaction.id])"
   ]
  },
  {
   "cell_type": "code",
   "execution_count": 71,
   "metadata": {},
   "outputs": [
    {
     "name": "stdout",
     "output_type": "stream",
     "text": [
      "ATP_c0 + H_c0 + dCMP_c0 <=> ADP_c0 + dCDP_c0\n",
      "-1.09871768301\n",
      "ATP_c0 + CoA_c0 + Succinate_c0 <=> ADP_c0 + Phosphate_c0 + Succinyl_CoA_c0\n",
      "-0.597254312776\n",
      "ATP_c0 + 3_Phosphoglycerate_c0 <=> ADP_c0 + 1_3_Bisphospho_D_glycerate_c0\n",
      "-33.1878716465\n",
      "ATP_c0 + IDP_c0 <=> ADP_c0 + ITP_c0\n",
      "-1000.0\n",
      "ATP_c0 + CDP_c0 <=> ADP_c0 + CTP_c0\n",
      "-0.0326929025775\n",
      "ADP_c0 + Phosphate_c0 + 4.0 H_e0 <=> H2O_c0 + ATP_c0 + 3.0 H_c0\n",
      "512.703948533\n",
      "H2O_c0 + ATP_c0 + GTP_c0 + Sulfate_c0 <=> Phosphate_c0 + PPi_c0 + GDP_c0 + H_c0 + APS_c0\n",
      "-826.0824018\n",
      "UTP_c0 + Uridine_c0 <=> UDP_c0 + H_c0 + UMP_c0\n",
      "-1.05525014437\n",
      "Oxaloacetate_c0 + ITP_c0 <=> CO2_c0 + Phosphoenolpyruvate_c0 + IDP_c0\n",
      "-1000.0\n"
     ]
    }
   ],
   "source": [
    "## What's making NTPs now?\n",
    "\n",
    "atp = 'cpd00002_c0'\n",
    "gtp = 'cpd00038_c0'\n",
    "ctp = 'cpd00052_c0'\n",
    "utp = 'cpd00062_c0'\n",
    "itp = 'cpd00068_c0'\n",
    "adp = 'cpd00008_c0'\n",
    "gdp = 'cpd00031_c0'\n",
    "cdp = 'cpd00096_c0'\n",
    "udp = 'cpd00014_c0'\n",
    "idp = 'cpd00090_c0'\n",
    "\n",
    "pairs = [(adp,atp),(gdp,gtp),(cdp,ctp),(udp,utp),(idp,itp)]\n",
    "\n",
    "for pair in pairs:\n",
    "    reactant = FBA_model.metabolites.get_by_id(pair[0])\n",
    "    product = FBA_model.metabolites.get_by_id(pair[1])\n",
    "    for reaction in FBA_model.reactions:\n",
    "        met_dict = reaction.metabolites\n",
    "        if reactant in met_dict and product in met_dict:\n",
    "            if met_dict[reactant] < 0  and met_dict[product] > 0 and solution.x_dict[reaction.id] > 0:\n",
    "                print(reaction.build_reaction_string(use_metabolite_names = True))\n",
    "                print(solution.x_dict[reaction.id])\n",
    "            elif met_dict[reactant] > 0  and met_dict[product] < 0 and solution.x_dict[reaction.id] < 0:\n",
    "                print(reaction.build_reaction_string(use_metabolite_names = True))\n",
    "                print(solution.x_dict[reaction.id])"
   ]
  },
  {
   "cell_type": "code",
   "execution_count": 76,
   "metadata": {},
   "outputs": [
    {
     "name": "stdout",
     "output_type": "stream",
     "text": [
      "0.007379887715008347\n"
     ]
    }
   ],
   "source": [
    "## The APS synthesis reaction serves to assimilate sulfate more efficiently when sulfate is scarce\n",
    "## It's not an energy source\n",
    "\n",
    "rxn = FBA_model.reactions.get_by_id('rxn09240_c0')\n",
    "rxn.lower_bound = 0\n",
    "solution = FBA_model.optimize()\n",
    "print(solution.f)"
   ]
  },
  {
   "cell_type": "code",
   "execution_count": 77,
   "metadata": {},
   "outputs": [
    {
     "name": "stdout",
     "output_type": "stream",
     "text": [
      "rxn00364_c0\n",
      "ATP_c0 + CMP_c0 + H_c0 <=> ADP_c0 + CDP_c0\n",
      "-0.0222134620222\n",
      "rxn01219_c0\n",
      "ATP_c0 + H_c0 + dCMP_c0 <=> ADP_c0 + dCDP_c0\n",
      "-1.14314460705\n",
      "rxn00285_c0\n",
      "ATP_c0 + CoA_c0 + Succinate_c0 <=> ADP_c0 + Phosphate_c0 + Succinyl_CoA_c0\n",
      "-0.597254312776\n",
      "rxn01100_c0\n",
      "ATP_c0 + 3_Phosphoglycerate_c0 <=> ADP_c0 + 1_3_Bisphospho_D_glycerate_c0\n",
      "-33.1878716465\n",
      "rxn00515_c0\n",
      "ATP_c0 + IDP_c0 <=> ADP_c0 + ITP_c0\n",
      "-1000.0\n",
      "rxn00409_c0\n",
      "ATP_c0 + CDP_c0 <=> ADP_c0 + CTP_c0\n",
      "-0.0549063645997\n",
      "rxn_atp_syn\n",
      "ADP_c0 + Phosphate_c0 + 4.0 H_e0 <=> H2O_c0 + ATP_c0 + 3.0 H_c0\n",
      "527.662562014\n",
      "rxn00237_c0\n",
      "ATP_c0 + GDP_c0 <=> ADP_c0 + GTP_c0\n",
      "954.963066737\n",
      "rxn00712_c0\n",
      "UTP_c0 + Uridine_c0 <=> UDP_c0 + H_c0 + UMP_c0\n",
      "-1.07746360639\n",
      "rxn00519_c0\n",
      "Oxaloacetate_c0 + ITP_c0 <=> CO2_c0 + Phosphoenolpyruvate_c0 + IDP_c0\n",
      "-1000.0\n"
     ]
    }
   ],
   "source": [
    "atp = 'cpd00002_c0'\n",
    "gtp = 'cpd00038_c0'\n",
    "ctp = 'cpd00052_c0'\n",
    "utp = 'cpd00062_c0'\n",
    "itp = 'cpd00068_c0'\n",
    "adp = 'cpd00008_c0'\n",
    "gdp = 'cpd00031_c0'\n",
    "cdp = 'cpd00096_c0'\n",
    "udp = 'cpd00014_c0'\n",
    "idp = 'cpd00090_c0'\n",
    "\n",
    "pairs = [(adp,atp),(gdp,gtp),(cdp,ctp),(udp,utp),(idp,itp)]\n",
    "\n",
    "for pair in pairs:\n",
    "    reactant = FBA_model.metabolites.get_by_id(pair[0])\n",
    "    product = FBA_model.metabolites.get_by_id(pair[1])\n",
    "    for reaction in FBA_model.reactions:\n",
    "        met_dict = reaction.metabolites\n",
    "        if reactant in met_dict and product in met_dict:\n",
    "            if met_dict[reactant] < 0  and met_dict[product] > 0 and solution.x_dict[reaction.id] > 0:\n",
    "                print(reaction.id)\n",
    "                print(reaction.build_reaction_string(use_metabolite_names = True))\n",
    "                print(solution.x_dict[reaction.id])\n",
    "            elif met_dict[reactant] > 0  and met_dict[product] < 0 and solution.x_dict[reaction.id] < 0:\n",
    "                print(reaction.id)\n",
    "                print(reaction.build_reaction_string(use_metabolite_names = True))\n",
    "                print(solution.x_dict[reaction.id])"
   ]
  },
  {
   "cell_type": "code",
   "execution_count": 78,
   "metadata": {},
   "outputs": [
    {
     "name": "stdout",
     "output_type": "stream",
     "text": [
      "rxn00305_c0\n",
      "Oxaloacetate_c0 + GTP_c0 --> CO2_c0 + GDP_c0 + Phosphoenolpyruvate_c0\n",
      "952.763196008\n",
      "rxn00147_c0\n",
      "H2O_c0 + ATP_c0 + Pyruvate_c0 --> Phosphate_c0 + AMP_c0 + Phosphoenolpyruvate_c0 + 3.0 H_c0\n",
      "36.9743198357\n",
      "rxn00459_c0\n",
      "2_Phospho_D_glycerate_c0 <=> H2O_c0 + Phosphoenolpyruvate_c0\n",
      "33.1878716465\n"
     ]
    }
   ],
   "source": [
    "pep = FBA_model.metabolites.get_by_id('cpd00061_c0')\n",
    "\n",
    "for reaction in FBA_model.reactions:\n",
    "    met_dict = reaction.metabolites\n",
    "    if pep in met_dict:\n",
    "        if met_dict[pep] > 0 and solution.x_dict[reaction.id] > 0:\n",
    "            print(reaction.id)\n",
    "            print(reaction.build_reaction_string(use_metabolite_names = True))\n",
    "            print(solution.x_dict[reaction.id])\n",
    "        elif met_dict[pep] < 0 and solution.x_dict[reaction.id] < 0:\n",
    "            print(reaction.id)\n",
    "            print(reaction.build_reaction_string(use_metabolite_names = True))\n",
    "            print(solution.x_dict[reaction.id])"
   ]
  },
  {
   "cell_type": "code",
   "execution_count": 80,
   "metadata": {},
   "outputs": [
    {
     "name": "stdout",
     "output_type": "stream",
     "text": [
      "0.0\n"
     ]
    }
   ],
   "source": [
    "## What is the rate of citrate synthase?\n",
    "rxn_id = 'rxn00256_c0'\n",
    "print(solution.x_dict[rxn_id])\n"
   ]
  },
  {
   "cell_type": "code",
   "execution_count": 81,
   "metadata": {
    "scrolled": true
   },
   "outputs": [
    {
     "name": "stdout",
     "output_type": "stream",
     "text": [
      "rxn00211_c0\n",
      "H2O_c0 + 2.0 NAD_c0 + UDP_glucose_c0 <=> 2.0 NADH_c0 + 3.0 H_c0 + UDPglucuronate_c0\n",
      "0.0797027873221\n",
      "rxn00501_c0\n",
      "NAD_c0 + CoA_c0 + 3_Oxopropanoate_c0 <=> NADH_c0 + CO2_c0 + Acetyl_CoA_c0\n",
      "18.3212231426\n",
      "rxn01297_c0\n",
      "H2O_c0 + NAD_c0 + HYXN_c0 <=> NADH_c0 + H_c0 + XAN_c0\n",
      "0.647142353729\n",
      "rxn00781_c0\n",
      "NAD_c0 + Phosphate_c0 + Glyceraldehyde3_phosphate_c0 <=> NADH_c0 + H_c0 + 1_3_Bisphospho_D_glycerate_c0\n",
      "33.1878716465\n",
      "rxn00506_c0\n",
      "H2O_c0 + NAD_c0 + Acetaldehyde_c0 --> NADH_c0 + Acetate_c0 + 2.0 H_c0\n",
      "14.0109382236\n",
      "rxn02159_c0\n",
      "NAD_c0 + L_Histidinol_c0 <=> NADH_c0 + H_c0 + L_Histidinal_c0\n",
      "0.597844703793\n",
      "rxn00499_c0\n",
      "NAD_c0 + L_Lactate_c0 <=> NADH_c0 + Pyruvate_c0 + H_c0\n",
      "996.102681298\n",
      "rxn03062_c0\n",
      "NAD_c0 + 3_Isopropylmalate_c0 <=> NADH_c0 + H_c0 + 2_isopropyl_3_oxosuccinate_c0\n",
      "0.117487812423\n",
      "rxn00863_c0\n",
      "H2O_c0 + NAD_c0 + L_Histidinal_c0 --> NADH_c0 + 2.0 H_c0 + L_Histidine_c0\n",
      "0.597844703793\n",
      "rxn00908_c0\n",
      "NAD_c0 + Glycine_c0 + Tetrahydrofolate_c0 <=> NADH_c0 + CO2_c0 + NH3_c0 + 5_10_Methylenetetrahydrofolate_c0\n",
      "8.9879652481\n",
      "rxn00371_c0\n",
      "NAD_c0 + Formate_c0 --> NADH_c0 + CO2_c0\n",
      "4.98031722447\n",
      "rxn02774_c0\n",
      "NAD_c0 + Precorrin_2_c0 --> NADH_c0 + 2.0 H_c0 + Sirohydrochlorin_c0\n",
      "0.00022139663145\n",
      "rxn00125_c\n",
      "H2O_c0 + NAD_c0 + Glycolaldehyde_c0 --> NADH_c0 + H_c0 + Glycolate_c0\n",
      "0.00140217866585\n"
     ]
    }
   ],
   "source": [
    "## Huh? So no flux at all is going into the TCA cycle by this route. Where is NAD being reduced?\n",
    "\n",
    "NAD = 'cpd00003_c0'\n",
    "NADH = 'cpd00004_c0'\n",
    "\n",
    "reactant = FBA_model.metabolites.get_by_id(NAD)\n",
    "product = FBA_model.metabolites.get_by_id(NADH)\n",
    "for reaction in FBA_model.reactions:\n",
    "    met_dict = reaction.metabolites\n",
    "    if reactant in met_dict and product in met_dict:\n",
    "        if met_dict[reactant] < 0  and met_dict[product] > 0 and solution.x_dict[reaction.id] > 0:\n",
    "            print(reaction.id)\n",
    "            print(reaction.build_reaction_string(use_metabolite_names = True))\n",
    "            print(solution.x_dict[reaction.id])\n",
    "        elif met_dict[reactant] > 0  and met_dict[product] < 0 and solution.x_dict[reaction.id] < 0:\n",
    "            print(reaction.id)\n",
    "            print(reaction.build_reaction_string(use_metabolite_names = True))\n",
    "            print(solution.x_dict[reaction.id])"
   ]
  },
  {
   "cell_type": "code",
   "execution_count": 83,
   "metadata": {},
   "outputs": [
    {
     "name": "stdout",
     "output_type": "stream",
     "text": [
      "rxn00145_c0\n",
      "2.0 Cytochrome_c3_c0 + L_Lactate_c0 <=> Pyruvate_c0 + 2.0 H_c0 + 2.0 Cytochrome_c2_c0\n",
      "-996.102681298\n"
     ]
    }
   ],
   "source": [
    "## And what about that lactate?\n",
    "\n",
    "product = FBA_model.metabolites.get_by_id('cpd00159_c0')\n",
    "\n",
    "for reaction in FBA_model.reactions:\n",
    "    met_dict = reaction.metabolites\n",
    "    if product in met_dict:\n",
    "        if met_dict[product] > 0 and solution.x_dict[reaction.id] > 0:\n",
    "            print(reaction.id)\n",
    "            print(reaction.build_reaction_string(use_metabolite_names = True))\n",
    "            print(solution.x_dict[reaction.id])\n",
    "        elif met_dict[product] < 0 and solution.x_dict[reaction.id] < 0:\n",
    "            print(reaction.id)\n",
    "            print(reaction.build_reaction_string(use_metabolite_names = True))\n",
    "            print(solution.x_dict[reaction.id])"
   ]
  },
  {
   "cell_type": "code",
   "execution_count": 84,
   "metadata": {},
   "outputs": [
    {
     "name": "stdout",
     "output_type": "stream",
     "text": [
      "0.007379887715008532\n"
     ]
    }
   ],
   "source": [
    "## Oh wow. There's the problem. The apparent correspondence between ATP synthase and fructose was a coincidence.\n",
    "## The oxidative phosphorylation is being driven not by sugar oxidation, but lactate/pyruvate cycling--\n",
    "## Pyruvate is being reduced instead of O2 as a terminal electron acceptor, \n",
    "## then the resulting lactate re-oxidized by NAD+ to generate NADH, which enters earlier in the chain.\n",
    "## This is thermodynamically impossible, and since the lactate dehydrogenase reaction IS reversible,\n",
    "## the solution is that reduced cytochrome C can't reduce pyruvate.\n",
    "\n",
    "rxn = FBA_model.reactions.get_by_id('rxn00145_c0')\n",
    "rxn.lower_bound = 0\n",
    "solution = FBA_model.optimize()\n",
    "print(solution.f)"
   ]
  },
  {
   "cell_type": "code",
   "execution_count": 85,
   "metadata": {},
   "outputs": [
    {
     "name": "stdout",
     "output_type": "stream",
     "text": [
      "5.68731046757\n"
     ]
    }
   ],
   "source": [
    "## What is the rate of citrate synthase now?\n",
    "rxn_id = 'rxn00256_c0'\n",
    "print(solution.x_dict[rxn_id])"
   ]
  },
  {
   "cell_type": "code",
   "execution_count": 86,
   "metadata": {},
   "outputs": [
    {
     "name": "stdout",
     "output_type": "stream",
     "text": [
      "rxn00364_c0\n",
      "ATP_c0 + CMP_c0 + H_c0 <=> ADP_c0 + CDP_c0\n",
      "-1.1768364061e-14\n",
      "rxn05161_c0\n",
      "H2O_c0 + ATP_c0 + L_Leucine_e0 --> ADP_c0 + Phosphate_c0 + H_c0 + L_Leucine_c0\n",
      "-6.93889390391e-17\n",
      "rxn00285_c0\n",
      "ATP_c0 + CoA_c0 + Succinate_c0 <=> ADP_c0 + Phosphate_c0 + Succinyl_CoA_c0\n",
      "-0.597254312776\n",
      "rxn01100_c0\n",
      "ATP_c0 + 3_Phosphoglycerate_c0 <=> ADP_c0 + 1_3_Bisphospho_D_glycerate_c0\n",
      "-33.1878716465\n",
      "rxn00515_c0\n",
      "ATP_c0 + IDP_c0 <=> ADP_c0 + ITP_c0\n",
      "-1000.0\n",
      "rxn00409_c0\n",
      "ATP_c0 + CDP_c0 <=> ADP_c0 + CTP_c0\n",
      "-0.0326929025775\n",
      "rxn05536_c0\n",
      "H2O_c0 + ATP_c0 + met_L_ala_L_e0 --> ADP_c0 + Phosphate_c0 + H_c0 + met_L_ala_L_c0\n",
      "-1.11022302463e-15\n",
      "rxn_atp_syn\n",
      "ADP_c0 + Phosphate_c0 + 4.0 H_e0 <=> H2O_c0 + ATP_c0 + 3.0 H_c0\n",
      "1001.79909978\n",
      "rxn00237_c0\n",
      "ATP_c0 + GDP_c0 <=> ADP_c0 + GTP_c0\n",
      "865.653996424\n",
      "rxn00712_c0\n",
      "UTP_c0 + Uridine_c0 <=> UDP_c0 + H_c0 + UMP_c0\n",
      "-1.05525014437\n",
      "rxn00519_c0\n",
      "Oxaloacetate_c0 + ITP_c0 <=> CO2_c0 + Phosphoenolpyruvate_c0 + IDP_c0\n",
      "-1000.0\n"
     ]
    }
   ],
   "source": [
    "## check NTPs again\n",
    "\n",
    "atp = 'cpd00002_c0'\n",
    "gtp = 'cpd00038_c0'\n",
    "ctp = 'cpd00052_c0'\n",
    "utp = 'cpd00062_c0'\n",
    "itp = 'cpd00068_c0'\n",
    "adp = 'cpd00008_c0'\n",
    "gdp = 'cpd00031_c0'\n",
    "cdp = 'cpd00096_c0'\n",
    "udp = 'cpd00014_c0'\n",
    "idp = 'cpd00090_c0'\n",
    "\n",
    "pairs = [(adp,atp),(gdp,gtp),(cdp,ctp),(udp,utp),(idp,itp)]\n",
    "\n",
    "for pair in pairs:\n",
    "    reactant = FBA_model.metabolites.get_by_id(pair[0])\n",
    "    product = FBA_model.metabolites.get_by_id(pair[1])\n",
    "    for reaction in FBA_model.reactions:\n",
    "        met_dict = reaction.metabolites\n",
    "        if reactant in met_dict and product in met_dict:\n",
    "            if met_dict[reactant] < 0  and met_dict[product] > 0 and solution.x_dict[reaction.id] > 0:\n",
    "                print(reaction.id)\n",
    "                print(reaction.build_reaction_string(use_metabolite_names = True))\n",
    "                print(solution.x_dict[reaction.id])\n",
    "            elif met_dict[reactant] > 0  and met_dict[product] < 0 and solution.x_dict[reaction.id] < 0:\n",
    "                print(reaction.id)\n",
    "                print(reaction.build_reaction_string(use_metabolite_names = True))\n",
    "                print(solution.x_dict[reaction.id])"
   ]
  },
  {
   "cell_type": "code",
   "execution_count": 87,
   "metadata": {},
   "outputs": [
    {
     "name": "stdout",
     "output_type": "stream",
     "text": [
      "rxn00211_c0\n",
      "H2O_c0 + 2.0 NAD_c0 + UDP_glucose_c0 <=> 2.0 NADH_c0 + 3.0 H_c0 + UDPglucuronate_c0\n",
      "0.0797027873221\n",
      "rxn00501_c0\n",
      "NAD_c0 + CoA_c0 + 3_Oxopropanoate_c0 <=> NADH_c0 + CO2_c0 + Acetyl_CoA_c0\n",
      "107.630293455\n",
      "rxn00068_c0\n",
      "NAD_c0 + H_c0 + 2.0 Fe2_c0 <=> NADH_c0 + 2.0 fe3_c0\n",
      "616.095084113\n",
      "rxn00781_c0\n",
      "NAD_c0 + Phosphate_c0 + Glyceraldehyde3_phosphate_c0 <=> NADH_c0 + H_c0 + 1_3_Bisphospho_D_glycerate_c0\n",
      "33.1878716465\n",
      "rxn00506_c0\n",
      "H2O_c0 + NAD_c0 + Acetaldehyde_c0 --> NADH_c0 + Acetate_c0 + 2.0 H_c0\n",
      "14.0109382236\n",
      "rxn02159_c0\n",
      "NAD_c0 + L_Histidinol_c0 <=> NADH_c0 + H_c0 + L_Histidinal_c0\n",
      "0.597844703793\n",
      "rxn03062_c0\n",
      "NAD_c0 + 3_Isopropylmalate_c0 <=> NADH_c0 + H_c0 + 2_isopropyl_3_oxosuccinate_c0\n",
      "0.117487812423\n",
      "rxn00863_c0\n",
      "H2O_c0 + NAD_c0 + L_Histidinal_c0 --> NADH_c0 + 2.0 H_c0 + L_Histidine_c0\n",
      "0.597844703793\n",
      "rxn00908_c0\n",
      "NAD_c0 + Glycine_c0 + Tetrahydrofolate_c0 <=> NADH_c0 + CO2_c0 + NH3_c0 + 5_10_Methylenetetrahydrofolate_c0\n",
      "8.98796524811\n",
      "rxn00371_c0\n",
      "NAD_c0 + Formate_c0 --> NADH_c0 + CO2_c0\n",
      "4.98031722447\n",
      "rxn00834_c0\n",
      "H2O_c0 + NAD_c0 + IMP_c0 <=> NADH_c0 + H_c0 + XMP_c0\n",
      "0.647142353729\n",
      "rxn02774_c0\n",
      "NAD_c0 + Precorrin_2_c0 --> NADH_c0 + 2.0 H_c0 + Sirohydrochlorin_c0\n",
      "0.00022139663145\n",
      "rxn00125_c\n",
      "H2O_c0 + NAD_c0 + Glycolaldehyde_c0 --> NADH_c0 + H_c0 + Glycolate_c0\n",
      "0.00140217866585\n"
     ]
    }
   ],
   "source": [
    "## Where is NAD being reduced now?\n",
    "\n",
    "NAD = 'cpd00003_c0'\n",
    "NADH = 'cpd00004_c0'\n",
    "\n",
    "reactant = FBA_model.metabolites.get_by_id(NAD)\n",
    "product = FBA_model.metabolites.get_by_id(NADH)\n",
    "for reaction in FBA_model.reactions:\n",
    "    met_dict = reaction.metabolites\n",
    "    if reactant in met_dict and product in met_dict:\n",
    "        if met_dict[reactant] < 0  and met_dict[product] > 0 and solution.x_dict[reaction.id] > 0:\n",
    "            print(reaction.id)\n",
    "            print(reaction.build_reaction_string(use_metabolite_names = True))\n",
    "            print(solution.x_dict[reaction.id])\n",
    "        elif met_dict[reactant] > 0  and met_dict[product] < 0 and solution.x_dict[reaction.id] < 0:\n",
    "            print(reaction.id)\n",
    "            print(reaction.build_reaction_string(use_metabolite_names = True))\n",
    "            print(solution.x_dict[reaction.id])"
   ]
  },
  {
   "cell_type": "code",
   "execution_count": 89,
   "metadata": {},
   "outputs": [
    {
     "name": "stdout",
     "output_type": "stream",
     "text": [
      "rxn00056_c0\n",
      "O2_c0 + 4.0 H_c0 + 4.0 Fe2_c0 <=> 2.0 H2O_c0 + 4.0 fe3_c0\n",
      "-308.047597406\n"
     ]
    }
   ],
   "source": [
    "## Woah that's a lot of iron--more than even in the media, where I have it bounded (VERY generously) the same as ammonia!\n",
    "\n",
    "product = FBA_model.metabolites.get_by_id('cpd10515_c0')\n",
    "\n",
    "for reaction in FBA_model.reactions:\n",
    "    met_dict = reaction.metabolites\n",
    "    if product in met_dict:\n",
    "        if met_dict[product] > 0 and solution.x_dict[reaction.id] > 0:\n",
    "            print(reaction.id)\n",
    "            print(reaction.build_reaction_string(use_metabolite_names = True))\n",
    "            print(solution.x_dict[reaction.id])\n",
    "        elif met_dict[product] < 0 and solution.x_dict[reaction.id] < 0:\n",
    "            print(reaction.id)\n",
    "            print(reaction.build_reaction_string(use_metabolite_names = True))\n",
    "            print(solution.x_dict[reaction.id])"
   ]
  },
  {
   "cell_type": "code",
   "execution_count": 90,
   "metadata": {},
   "outputs": [
    {
     "name": "stdout",
     "output_type": "stream",
     "text": [
      "0.006853773379760299\n"
     ]
    }
   ],
   "source": [
    "## Iron reaction with O2 oxidizes it, not the other way around. \n",
    "rxn = FBA_model.reactions.get_by_id('rxn00056_c0')\n",
    "rxn.lower_bound = 0\n",
    "solution = FBA_model.optimize()\n",
    "print(solution.f)\n",
    "\n",
    "\n",
    "\n"
   ]
  },
  {
   "cell_type": "code",
   "execution_count": 91,
   "metadata": {},
   "outputs": [
    {
     "name": "stdout",
     "output_type": "stream",
     "text": [
      "rxn00211_c0\n",
      "H2O_c0 + 2.0 NAD_c0 + UDP_glucose_c0 <=> 2.0 NADH_c0 + 3.0 H_c0 + UDPglucuronate_c0\n",
      "0.0740207525014\n",
      "rxn00781_c0\n",
      "NAD_c0 + Phosphate_c0 + Glyceraldehyde3_phosphate_c0 <=> NADH_c0 + H_c0 + 1_3_Bisphospho_D_glycerate_c0\n",
      "33.6735102523\n",
      "rxn00506_c0\n",
      "H2O_c0 + NAD_c0 + Acetaldehyde_c0 --> NADH_c0 + Acetate_c0 + 2.0 H_c0\n",
      "8.38682540935\n",
      "rxn02159_c0\n",
      "NAD_c0 + L_Histidinol_c0 <=> NADH_c0 + H_c0 + L_Histidinal_c0\n",
      "0.555224181494\n",
      "rxn00499_c0\n",
      "NAD_c0 + L_Lactate_c0 <=> NADH_c0 + Pyruvate_c0 + H_c0\n",
      "0.00253589615051\n",
      "rxn03062_c0\n",
      "NAD_c0 + 3_Isopropylmalate_c0 <=> NADH_c0 + H_c0 + 2_isopropyl_3_oxosuccinate_c0\n",
      "0.109112072206\n",
      "rxn00863_c0\n",
      "H2O_c0 + NAD_c0 + L_Histidinal_c0 --> NADH_c0 + 2.0 H_c0 + L_Histidine_c0\n",
      "0.555224181494\n",
      "rxn00908_c0\n",
      "NAD_c0 + Glycine_c0 + Tetrahydrofolate_c0 <=> NADH_c0 + CO2_c0 + NH3_c0 + 5_10_Methylenetetrahydrofolate_c0\n",
      "3.72447753003\n",
      "rxn00834_c0\n",
      "H2O_c0 + NAD_c0 + IMP_c0 <=> NADH_c0 + H_c0 + XMP_c0\n",
      "0.601007387671\n",
      "rxn01241_c0\n",
      "NAD_c0 + Dihydrolipoamide_c0 <=> NADH_c0 + H_c0 + Lipoamide_c0\n",
      "7.47688056467\n",
      "rxn02774_c0\n",
      "NAD_c0 + Precorrin_2_c0 --> NADH_c0 + 2.0 H_c0 + Sirohydrochlorin_c0\n",
      "0.000205613201393\n",
      "rxn00125_c\n",
      "H2O_c0 + NAD_c0 + Glycolaldehyde_c0 --> NADH_c0 + H_c0 + Glycolate_c0\n",
      "0.00130221694215\n"
     ]
    }
   ],
   "source": [
    "## Where is NAD being reduced now?\n",
    "\n",
    "NAD = 'cpd00003_c0'\n",
    "NADH = 'cpd00004_c0'\n",
    "\n",
    "reactant = FBA_model.metabolites.get_by_id(NAD)\n",
    "product = FBA_model.metabolites.get_by_id(NADH)\n",
    "for reaction in FBA_model.reactions:\n",
    "    met_dict = reaction.metabolites\n",
    "    if reactant in met_dict and product in met_dict:\n",
    "        if met_dict[reactant] < 0  and met_dict[product] > 0 and solution.x_dict[reaction.id] > 0:\n",
    "            print(reaction.id)\n",
    "            print(reaction.build_reaction_string(use_metabolite_names = True))\n",
    "            print(solution.x_dict[reaction.id])\n",
    "        elif met_dict[reactant] > 0  and met_dict[product] < 0 and solution.x_dict[reaction.id] < 0:\n",
    "            print(reaction.id)\n",
    "            print(reaction.build_reaction_string(use_metabolite_names = True))\n",
    "            print(solution.x_dict[reaction.id])"
   ]
  },
  {
   "cell_type": "code",
   "execution_count": 92,
   "metadata": {},
   "outputs": [
    {
     "name": "stdout",
     "output_type": "stream",
     "text": [
      "rxn00364_c0\n",
      "ATP_c0 + CMP_c0 + H_c0 <=> ADP_c0 + CDP_c0\n",
      "-6.93889390391e-18\n",
      "rxn01673_c0\n",
      "ATP_c0 + dCDP_c0 <=> ADP_c0 + dCTP_c0\n",
      "-12.3579702433\n",
      "rxn01219_c0\n",
      "ATP_c0 + H_c0 + dCMP_c0 <=> ADP_c0 + dCDP_c0\n",
      "-12.3883324594\n",
      "rxn00285_c0\n",
      "ATP_c0 + CoA_c0 + Succinate_c0 <=> ADP_c0 + Phosphate_c0 + Succinyl_CoA_c0\n",
      "-0.554675879624\n",
      "rxn01100_c0\n",
      "ATP_c0 + 3_Phosphoglycerate_c0 <=> ADP_c0 + 1_3_Bisphospho_D_glycerate_c0\n",
      "-33.6735102523\n",
      "rxn00515_c0\n",
      "ATP_c0 + IDP_c0 <=> ADP_c0 + ITP_c0\n",
      "-1000.0\n",
      "rxn00410_c0\n",
      "ATP_c0 + NH3_c0 + UTP_c0 <=> ADP_c0 + Phosphate_c0 + CTP_c0 + 2.0 H_c0\n",
      "-9.33250906028\n",
      "rxn00409_c0\n",
      "ATP_c0 + CDP_c0 <=> ADP_c0 + CTP_c0\n",
      "-0.0303622160723\n",
      "rxn_atp_syn\n",
      "ADP_c0 + Phosphate_c0 + 4.0 H_e0 <=> H2O_c0 + ATP_c0 + 3.0 H_c0\n",
      "262.151797874\n",
      "rxn00237_c0\n",
      "ATP_c0 + GDP_c0 <=> ADP_c0 + GTP_c0\n",
      "979.81159367\n",
      "rxn00712_c0\n",
      "UTP_c0 + Uridine_c0 <=> UDP_c0 + H_c0 + UMP_c0\n",
      "-0.980021055572\n",
      "rxn00519_c0\n",
      "Oxaloacetate_c0 + ITP_c0 <=> CO2_c0 + Phosphoenolpyruvate_c0 + IDP_c0\n",
      "-1000.0\n"
     ]
    }
   ],
   "source": [
    "## OK so it's acting as an acetate producer now. The growth rate is only slightly reduced, so where's the ATP from now?\n",
    "\n",
    "atp = 'cpd00002_c0'\n",
    "gtp = 'cpd00038_c0'\n",
    "ctp = 'cpd00052_c0'\n",
    "utp = 'cpd00062_c0'\n",
    "itp = 'cpd00068_c0'\n",
    "adp = 'cpd00008_c0'\n",
    "gdp = 'cpd00031_c0'\n",
    "cdp = 'cpd00096_c0'\n",
    "udp = 'cpd00014_c0'\n",
    "idp = 'cpd00090_c0'\n",
    "\n",
    "pairs = [(adp,atp),(gdp,gtp),(cdp,ctp),(udp,utp),(idp,itp)]\n",
    "\n",
    "for pair in pairs:\n",
    "    reactant = FBA_model.metabolites.get_by_id(pair[0])\n",
    "    product = FBA_model.metabolites.get_by_id(pair[1])\n",
    "    for reaction in FBA_model.reactions:\n",
    "        met_dict = reaction.metabolites\n",
    "        if reactant in met_dict and product in met_dict:\n",
    "            if met_dict[reactant] < 0  and met_dict[product] > 0 and solution.x_dict[reaction.id] > 0:\n",
    "                print(reaction.id)\n",
    "                print(reaction.build_reaction_string(use_metabolite_names = True))\n",
    "                print(solution.x_dict[reaction.id])\n",
    "            elif met_dict[reactant] > 0  and met_dict[product] < 0 and solution.x_dict[reaction.id] < 0:\n",
    "                print(reaction.id)\n",
    "                print(reaction.build_reaction_string(use_metabolite_names = True))\n",
    "                print(solution.x_dict[reaction.id])"
   ]
  },
  {
   "cell_type": "code",
   "execution_count": 93,
   "metadata": {},
   "outputs": [
    {
     "name": "stdout",
     "output_type": "stream",
     "text": [
      "rxn00148_c0\n",
      "ATP_c0 + Pyruvate_c0 <=> ADP_c0 + Phosphoenolpyruvate_c0 + H_c0\n",
      "10.6737657643\n",
      "rxn00305_c0\n",
      "Oxaloacetate_c0 + GTP_c0 --> CO2_c0 + GDP_c0 + Phosphoenolpyruvate_c0\n",
      "978.369559751\n",
      "rxn00459_c0\n",
      "2_Phospho_D_glycerate_c0 <=> H2O_c0 + Phosphoenolpyruvate_c0\n",
      "33.6735102523\n"
     ]
    }
   ],
   "source": [
    "## It's still doing that weird thing with the PEP. Where is that coming from now?\n",
    "\n",
    "product = FBA_model.metabolites.get_by_id('cpd00061_c0')\n",
    "\n",
    "for reaction in FBA_model.reactions:\n",
    "    met_dict = reaction.metabolites\n",
    "    if product in met_dict:\n",
    "        if met_dict[product] > 0 and solution.x_dict[reaction.id] > 0:\n",
    "            print(reaction.id)\n",
    "            print(reaction.build_reaction_string(use_metabolite_names = True))\n",
    "            print(solution.x_dict[reaction.id])\n",
    "        elif met_dict[product] < 0 and solution.x_dict[reaction.id] < 0:\n",
    "            print(reaction.id)\n",
    "            print(reaction.build_reaction_string(use_metabolite_names = True))\n",
    "            print(solution.x_dict[reaction.id])\n"
   ]
  },
  {
   "cell_type": "code",
   "execution_count": 95,
   "metadata": {},
   "outputs": [
    {
     "name": "stdout",
     "output_type": "stream",
     "text": [
      "0.006853773379760294\n"
     ]
    }
   ],
   "source": [
    "## Pyruvate kinase, the most irreversible reaction in glycolysis, is going backwards!\n",
    "\n",
    "rxn = FBA_model.reactions.get_by_id('rxn00148_c0')\n",
    "reverse(rxn)\n",
    "rxn.lower_bound = 0\n",
    "solution = FBA_model.optimize()\n",
    "print(solution.f)\n"
   ]
  },
  {
   "cell_type": "code",
   "execution_count": 96,
   "metadata": {},
   "outputs": [
    {
     "name": "stdout",
     "output_type": "stream",
     "text": [
      "0\n",
      "1000.0\n"
     ]
    }
   ],
   "source": [
    "print(rxn.lower_bound)\n",
    "print(rxn.upper_bound)"
   ]
  },
  {
   "cell_type": "code",
   "execution_count": 97,
   "metadata": {},
   "outputs": [
    {
     "name": "stdout",
     "output_type": "stream",
     "text": [
      "rxn00305_c0\n",
      "Oxaloacetate_c0 + GTP_c0 --> CO2_c0 + GDP_c0 + Phosphoenolpyruvate_c0\n",
      "989.043325515\n",
      "rxn00459_c0\n",
      "2_Phospho_D_glycerate_c0 <=> H2O_c0 + Phosphoenolpyruvate_c0\n",
      "33.6735102523\n"
     ]
    }
   ],
   "source": [
    "product = FBA_model.metabolites.get_by_id('cpd00061_c0')\n",
    "\n",
    "for reaction in FBA_model.reactions:\n",
    "    met_dict = reaction.metabolites\n",
    "    if product in met_dict:\n",
    "        if met_dict[product] > 0 and solution.x_dict[reaction.id] > 0:\n",
    "            print(reaction.id)\n",
    "            print(reaction.build_reaction_string(use_metabolite_names = True))\n",
    "            print(solution.x_dict[reaction.id])\n",
    "        elif met_dict[product] < 0 and solution.x_dict[reaction.id] < 0:\n",
    "            print(reaction.id)\n",
    "            print(reaction.build_reaction_string(use_metabolite_names = True))\n",
    "            print(solution.x_dict[reaction.id])"
   ]
  },
  {
   "cell_type": "code",
   "execution_count": 98,
   "metadata": {},
   "outputs": [
    {
     "name": "stdout",
     "output_type": "stream",
     "text": [
      "0.0\n"
     ]
    }
   ],
   "source": [
    "## What is the rate of citrate synthase now?\n",
    "rxn_id = 'rxn00256_c0'\n",
    "print(solution.x_dict[rxn_id])"
   ]
  },
  {
   "cell_type": "code",
   "execution_count": 99,
   "metadata": {},
   "outputs": [
    {
     "name": "stdout",
     "output_type": "stream",
     "text": [
      "rxn01673_c0\n",
      "ATP_c0 + dCDP_c0 <=> ADP_c0 + dCTP_c0\n",
      "-12.3579702433\n",
      "rxn01219_c0\n",
      "ATP_c0 + H_c0 + dCMP_c0 <=> ADP_c0 + dCDP_c0\n",
      "-12.3883324594\n",
      "rxn00285_c0\n",
      "ATP_c0 + CoA_c0 + Succinate_c0 <=> ADP_c0 + Phosphate_c0 + Succinyl_CoA_c0\n",
      "-0.554675879624\n",
      "rxn01100_c0\n",
      "ATP_c0 + 3_Phosphoglycerate_c0 <=> ADP_c0 + 1_3_Bisphospho_D_glycerate_c0\n",
      "-33.6735102523\n",
      "rxn00515_c0\n",
      "ATP_c0 + IDP_c0 <=> ADP_c0 + ITP_c0\n",
      "-1000.0\n",
      "rxn00409_c0\n",
      "ATP_c0 + CDP_c0 <=> ADP_c0 + CTP_c0\n",
      "-0.0303622160723\n",
      "rxn_atp_syn\n",
      "ADP_c0 + Phosphate_c0 + 4.0 H_e0 <=> H2O_c0 + ATP_c0 + 3.0 H_c0\n",
      "262.151797874\n",
      "rxn00237_c0\n",
      "ATP_c0 + GDP_c0 <=> ADP_c0 + GTP_c0\n",
      "990.485359435\n",
      "rxn00712_c0\n",
      "UTP_c0 + Uridine_c0 <=> UDP_c0 + H_c0 + UMP_c0\n",
      "-0.980021055572\n",
      "rxn00519_c0\n",
      "Oxaloacetate_c0 + ITP_c0 <=> CO2_c0 + Phosphoenolpyruvate_c0 + IDP_c0\n",
      "-1000.0\n"
     ]
    }
   ],
   "source": [
    "## check NTPs again\n",
    "\n",
    "atp = 'cpd00002_c0'\n",
    "gtp = 'cpd00038_c0'\n",
    "ctp = 'cpd00052_c0'\n",
    "utp = 'cpd00062_c0'\n",
    "itp = 'cpd00068_c0'\n",
    "adp = 'cpd00008_c0'\n",
    "gdp = 'cpd00031_c0'\n",
    "cdp = 'cpd00096_c0'\n",
    "udp = 'cpd00014_c0'\n",
    "idp = 'cpd00090_c0'\n",
    "\n",
    "pairs = [(adp,atp),(gdp,gtp),(cdp,ctp),(udp,utp),(idp,itp)]\n",
    "\n",
    "for pair in pairs:\n",
    "    reactant = FBA_model.metabolites.get_by_id(pair[0])\n",
    "    product = FBA_model.metabolites.get_by_id(pair[1])\n",
    "    for reaction in FBA_model.reactions:\n",
    "        met_dict = reaction.metabolites\n",
    "        if reactant in met_dict and product in met_dict:\n",
    "            if met_dict[reactant] < 0  and met_dict[product] > 0 and solution.x_dict[reaction.id] > 0:\n",
    "                print(reaction.id)\n",
    "                print(reaction.build_reaction_string(use_metabolite_names = True))\n",
    "                print(solution.x_dict[reaction.id])\n",
    "            elif met_dict[reactant] > 0  and met_dict[product] < 0 and solution.x_dict[reaction.id] < 0:\n",
    "                print(reaction.id)\n",
    "                print(reaction.build_reaction_string(use_metabolite_names = True))\n",
    "                print(solution.x_dict[reaction.id])"
   ]
  },
  {
   "cell_type": "code",
   "execution_count": 100,
   "metadata": {},
   "outputs": [
    {
     "name": "stdout",
     "output_type": "stream",
     "text": [
      "0.5 O2_c0 + 2.5 H_c0 + Ubiquinol_8_c0 --> H2O_c0 + 2.5 H_e0 + Ubiquinone_8_c0\n",
      "9.82237526878\n",
      "NADH_c0 + 4.5 H_c0 + Ubiquinone_8_c0 <=> NAD_c0 + 3.5 H_e0 + Ubiquinol_8_c0\n",
      "9.32259811393\n",
      "H_e0 + Acetoacetate_e0 <=> H_c0 + Acetoacetate_c0\n",
      "-3.13630202206\n",
      "H_c0 + Na_e0 <=> H_e0 + Na_c0\n",
      "20.8680950358\n",
      "H_e0 + K_c0 <=> H_c0 + K_e0\n",
      "-1000.0\n"
     ]
    }
   ],
   "source": [
    "## The ATP synthase stoichiometry is very high for no pyruvate entering the TCA cycle\n",
    "## Given that the reaction uses 4 ions/ATP and the stoichiometry is suggestively close to 1000/4, I suspect an ion leak\n",
    "\n",
    "H_in = 'cpd00067_c0'\n",
    "H_out = 'cpd00067_e0'\n",
    "Na_in = 'cpd00971_c0'\n",
    "Na_out = 'cpd00971_e0'\n",
    "\n",
    "pairs =[(H_in,H_out), (Na_in,Na_out)]\n",
    "\n",
    "for pair in pairs:\n",
    "    reactant = FBA_model.metabolites.get_by_id(pair[0])\n",
    "    product = FBA_model.metabolites.get_by_id(pair[1])\n",
    "    for reaction in FBA_model.reactions:\n",
    "        met_dict = reaction.metabolites\n",
    "        if reactant in met_dict and product in met_dict:\n",
    "            if met_dict[reactant] < 0  and met_dict[product] > 0 and solution.x_dict[reaction.id] > 0:\n",
    "                print(reaction.build_reaction_string(use_metabolite_names = True))\n",
    "                print(solution.x_dict[reaction.id])\n",
    "            elif met_dict[reactant] > 0  and met_dict[product] < 0 and solution.x_dict[reaction.id] < 0:\n",
    "                print(reaction.build_reaction_string(use_metabolite_names = True))\n",
    "                print(solution.x_dict[reaction.id])"
   ]
  },
  {
   "cell_type": "code",
   "execution_count": 102,
   "metadata": {},
   "outputs": [
    {
     "name": "stdout",
     "output_type": "stream",
     "text": [
      "rxn05206_c0\n",
      "K_e0 <=> K_c0\n",
      "-1000.0\n"
     ]
    }
   ],
   "source": [
    "## OK so there's a ginormous inward potassium flux--what's balancing it?\n",
    "\n",
    "product = FBA_model.metabolites.get_by_id('cpd00205_e0')\n",
    "\n",
    "for reaction in FBA_model.reactions:\n",
    "    met_dict = reaction.metabolites\n",
    "    if product in met_dict:\n",
    "        if met_dict[product] > 0 and solution.x_dict[reaction.id] > 0:\n",
    "            print(reaction.id)\n",
    "            print(reaction.build_reaction_string(use_metabolite_names = True))\n",
    "            print(solution.x_dict[reaction.id])\n",
    "        elif met_dict[product] < 0 and solution.x_dict[reaction.id] < 0:\n",
    "            print(reaction.id)\n",
    "            print(reaction.build_reaction_string(use_metabolite_names = True))\n",
    "            print(solution.x_dict[reaction.id])"
   ]
  },
  {
   "cell_type": "code",
   "execution_count": 103,
   "metadata": {},
   "outputs": [
    {
     "name": "stdout",
     "output_type": "stream",
     "text": [
      "0.0026746432701503543\n"
     ]
    }
   ],
   "source": [
    "## We can either have the leak, and then change the bounds on the antiport, or get rid of the leak\n",
    "## Since we know the organism does take up K+ actively, I'll turn off the leak\n",
    "## However, rather than deleting the reaction, I'll just set both bounds to zero\n",
    "## That way, it's easy for others to put it back in if they want to simulate other conditions\n",
    "\n",
    "rxn = FBA_model.reactions.get_by_id('rxn05206_c0')\n",
    "rxn.lower_bound = 0\n",
    "rxn.upper_bound = 0\n",
    "solution = FBA_model.optimize()\n",
    "print(solution.f)"
   ]
  },
  {
   "cell_type": "code",
   "execution_count": 104,
   "metadata": {},
   "outputs": [
    {
     "name": "stdout",
     "output_type": "stream",
     "text": [
      "rxn00211_c0\n",
      "H2O_c0 + 2.0 NAD_c0 + UDP_glucose_c0 <=> 2.0 NADH_c0 + 3.0 H_c0 + UDPglucuronate_c0\n",
      "0.0288861473176\n",
      "rxn01297_c0\n",
      "H2O_c0 + NAD_c0 + HYXN_c0 <=> NADH_c0 + H_c0 + XAN_c0\n",
      "1.03632537533e-17\n",
      "rxn00781_c0\n",
      "NAD_c0 + Phosphate_c0 + Glyceraldehyde3_phosphate_c0 <=> NADH_c0 + H_c0 + 1_3_Bisphospho_D_glycerate_c0\n",
      "37.5311259521\n",
      "rxn00506_c0\n",
      "H2O_c0 + NAD_c0 + Acetaldehyde_c0 --> NADH_c0 + Acetate_c0 + 2.0 H_c0\n",
      "3.27290747682\n",
      "rxn02159_c0\n",
      "NAD_c0 + L_Histidinol_c0 <=> NADH_c0 + H_c0 + L_Histidinal_c0\n",
      "0.216672851315\n",
      "rxn00499_c0\n",
      "NAD_c0 + L_Lactate_c0 <=> NADH_c0 + Pyruvate_c0 + H_c0\n",
      "0.000989618009956\n",
      "rxn03062_c0\n",
      "NAD_c0 + 3_Isopropylmalate_c0 <=> NADH_c0 + H_c0 + 2_isopropyl_3_oxosuccinate_c0\n",
      "0.0425803208608\n",
      "rxn00863_c0\n",
      "H2O_c0 + NAD_c0 + L_Histidinal_c0 --> NADH_c0 + 2.0 H_c0 + L_Histidine_c0\n",
      "0.216672851315\n",
      "rxn00908_c0\n",
      "NAD_c0 + Glycine_c0 + Tetrahydrofolate_c0 <=> NADH_c0 + CO2_c0 + NH3_c0 + 5_10_Methylenetetrahydrofolate_c0\n",
      "1.45345464587\n",
      "rxn00834_c0\n",
      "H2O_c0 + NAD_c0 + IMP_c0 <=> NADH_c0 + H_c0 + XMP_c0\n",
      "0.234539468359\n",
      "rxn01241_c0\n",
      "NAD_c0 + Dihydrolipoamide_c0 <=> NADH_c0 + H_c0 + Lipoamide_c0\n",
      "27.3080509521\n",
      "rxn02774_c0\n",
      "NAD_c0 + Precorrin_2_c0 --> NADH_c0 + 2.0 H_c0 + Sirohydrochlorin_c0\n",
      "8.02392981045e-05\n",
      "rxn00125_c\n",
      "H2O_c0 + NAD_c0 + Glycolaldehyde_c0 --> NADH_c0 + H_c0 + Glycolate_c0\n",
      "0.000508182221329\n"
     ]
    }
   ],
   "source": [
    "## Now it grows sooo much slower!\n",
    "\n",
    "## Where is NADH coming from now?\n",
    "\n",
    "NAD = 'cpd00003_c0'\n",
    "NADH = 'cpd00004_c0'\n",
    "\n",
    "reactant = FBA_model.metabolites.get_by_id(NAD)\n",
    "product = FBA_model.metabolites.get_by_id(NADH)\n",
    "for reaction in FBA_model.reactions:\n",
    "    met_dict = reaction.metabolites\n",
    "    if reactant in met_dict and product in met_dict:\n",
    "        if met_dict[reactant] < 0  and met_dict[product] > 0 and solution.x_dict[reaction.id] > 0:\n",
    "            print(reaction.id)\n",
    "            print(reaction.build_reaction_string(use_metabolite_names = True))\n",
    "            print(solution.x_dict[reaction.id])\n",
    "        elif met_dict[reactant] > 0  and met_dict[product] < 0 and solution.x_dict[reaction.id] < 0:\n",
    "            print(reaction.id)\n",
    "            print(reaction.build_reaction_string(use_metabolite_names = True))\n",
    "            print(solution.x_dict[reaction.id])"
   ]
  },
  {
   "cell_type": "code",
   "execution_count": 105,
   "metadata": {
    "collapsed": true
   },
   "outputs": [],
   "source": [
    "## It's still not oxidizing AcCoA to CO2 by the TCA cycle--why?? Is there something missing?\n",
    "## Yes, in fact malate dehydrogenase is!\n",
    "## Without a way to recover carbon from malate, it can use neither the classic TCA cycle nor the glyoxylate shunt (if it has one)\n",
    "## This would explain all the \"creative\" ways the model found to make oxaloacetate and NADH, \n",
    "## and why the citrate synthase reaction was so often unused.\n",
    "\n",
    "stoich = {}\n",
    "rxn = cobra.Reaction('rxn_00342_KEGG', name='Malate dehydrogenase')\n",
    "malate = FBA_model.metabolites.get_by_id('cpd00130_c0')\n",
    "NAD = FBA_model.metabolites.get_by_id('cpd00003_c0')\n",
    "oxaloacetate = FBA_model.metabolites.get_by_id('cpd00032_c0')\n",
    "NADH = FBA_model.metabolites.get_by_id('cpd00004_c0')\n",
    "stoich[malate] = -1\n",
    "stoich[NAD] = -1\n",
    "stoich[oxaloacetate] = 1\n",
    "stoich[NADH] = 1\n",
    "rxn.add_metabolites(stoich)\n",
    "## Assign gene\n",
    "rxn.gene_reaction_rule = 'HVO_3007'\n",
    "## Make it reversible, as we know that this step can go in both directions in most organisms\n",
    "rxn.lower_bound = -1 * rxn.upper_bound\n",
    "FBA_model.add_reaction(rxn)\n",
    "\n"
   ]
  },
  {
   "cell_type": "code",
   "execution_count": 107,
   "metadata": {},
   "outputs": [
    {
     "name": "stdout",
     "output_type": "stream",
     "text": [
      "0.002678306848621692\n"
     ]
    }
   ],
   "source": [
    "solution = FBA_model.optimize()\n",
    "print(solution.f)"
   ]
  },
  {
   "cell_type": "code",
   "execution_count": 108,
   "metadata": {},
   "outputs": [
    {
     "name": "stdout",
     "output_type": "stream",
     "text": [
      "rxn00211_c0\n",
      "H2O_c0 + 2.0 NAD_c0 + UDP_glucose_c0 <=> 2.0 NADH_c0 + 3.0 H_c0 + UDPglucuronate_c0\n",
      "0.0289257139651\n",
      "rxn00781_c0\n",
      "NAD_c0 + Phosphate_c0 + Glyceraldehyde3_phosphate_c0 <=> NADH_c0 + H_c0 + 1_3_Bisphospho_D_glycerate_c0\n",
      "37.5277442249\n",
      "rxn00506_c0\n",
      "H2O_c0 + NAD_c0 + Acetaldehyde_c0 --> NADH_c0 + Acetate_c0 + 2.0 H_c0\n",
      "3.27739052452\n",
      "rxn02159_c0\n",
      "NAD_c0 + L_Histidinol_c0 <=> NADH_c0 + H_c0 + L_Histidinal_c0\n",
      "0.216969637807\n",
      "rxn00499_c0\n",
      "NAD_c0 + L_Lactate_c0 <=> NADH_c0 + Pyruvate_c0 + H_c0\n",
      "0.00099097353399\n",
      "rxn03062_c0\n",
      "NAD_c0 + 3_Isopropylmalate_c0 <=> NADH_c0 + H_c0 + 2_isopropyl_3_oxosuccinate_c0\n",
      "0.0426386450301\n",
      "rxn00863_c0\n",
      "H2O_c0 + NAD_c0 + L_Histidinal_c0 --> NADH_c0 + 2.0 H_c0 + L_Histidine_c0\n",
      "0.216969637807\n",
      "rxn00908_c0\n",
      "NAD_c0 + Glycine_c0 + Tetrahydrofolate_c0 <=> NADH_c0 + CO2_c0 + NH3_c0 + 5_10_Methylenetetrahydrofolate_c0\n",
      "1.45544550768\n",
      "rxn00834_c0\n",
      "H2O_c0 + NAD_c0 + IMP_c0 <=> NADH_c0 + H_c0 + XMP_c0\n",
      "0.234860727556\n",
      "rxn01241_c0\n",
      "NAD_c0 + Dihydrolipoamide_c0 <=> NADH_c0 + H_c0 + Lipoamide_c0\n",
      "27.290666222\n",
      "rxn02774_c0\n",
      "NAD_c0 + Precorrin_2_c0 --> NADH_c0 + 2.0 H_c0 + Sirohydrochlorin_c0\n",
      "8.03492054587e-05\n",
      "rxn00125_c\n",
      "H2O_c0 + NAD_c0 + Glycolaldehyde_c0 --> NADH_c0 + H_c0 + Glycolate_c0\n",
      "0.000508878301238\n",
      "rxn_00342_KEGG\n",
      "NAD_c0 + L_Malate_c0 <=> NADH_c0 + Oxaloacetate_c0\n",
      "0.876636614622\n"
     ]
    }
   ],
   "source": [
    "## That made a LOT less of a difference than I expected.\n",
    "\n",
    "NAD = 'cpd00003_c0'\n",
    "NADH = 'cpd00004_c0'\n",
    "\n",
    "reactant = FBA_model.metabolites.get_by_id(NAD)\n",
    "product = FBA_model.metabolites.get_by_id(NADH)\n",
    "for reaction in FBA_model.reactions:\n",
    "    met_dict = reaction.metabolites\n",
    "    if reactant in met_dict and product in met_dict:\n",
    "        if met_dict[reactant] < 0  and met_dict[product] > 0 and solution.x_dict[reaction.id] > 0:\n",
    "            print(reaction.id)\n",
    "            print(reaction.build_reaction_string(use_metabolite_names = True))\n",
    "            print(solution.x_dict[reaction.id])\n",
    "        elif met_dict[reactant] > 0  and met_dict[product] < 0 and solution.x_dict[reaction.id] < 0:\n",
    "            print(reaction.id)\n",
    "            print(reaction.build_reaction_string(use_metabolite_names = True))\n",
    "            print(solution.x_dict[reaction.id])"
   ]
  },
  {
   "cell_type": "code",
   "execution_count": 109,
   "metadata": {},
   "outputs": [
    {
     "name": "stdout",
     "output_type": "stream",
     "text": [
      "rxn00799_c0\n",
      "L_Malate_c0 <=> H2O_c0 + Fumarate_c0\n",
      "-0.876636614622\n"
     ]
    }
   ],
   "source": [
    "## It's still turning more acetyl-CoA into acetate than it's oxidizing\n",
    "## Plus the malate is not coming from isocitrate, obviously. \n",
    "## First check the immediate precursor\n",
    "\n",
    "product = FBA_model.metabolites.get_by_id('cpd00130_c0')\n",
    "\n",
    "for reaction in FBA_model.reactions:\n",
    "    met_dict = reaction.metabolites\n",
    "    if product in met_dict:\n",
    "        if met_dict[product] > 0 and solution.x_dict[reaction.id] > 0:\n",
    "            print(reaction.id)\n",
    "            print(reaction.build_reaction_string(use_metabolite_names = True))\n",
    "            print(solution.x_dict[reaction.id])\n",
    "        elif met_dict[product] < 0 and solution.x_dict[reaction.id] < 0:\n",
    "            print(reaction.id)\n",
    "            print(reaction.build_reaction_string(use_metabolite_names = True))\n",
    "            print(solution.x_dict[reaction.id])\n"
   ]
  },
  {
   "cell_type": "code",
   "execution_count": 110,
   "metadata": {},
   "outputs": [
    {
     "name": "stdout",
     "output_type": "stream",
     "text": [
      "rxn00800_c0\n",
      "Adenylosuccinate_c0 <=> AMP_c0 + Fumarate_c0\n",
      "0.336663170872\n",
      "rxn00802_c0\n",
      "L_Argininosuccinate_c0 <=> L_Arginine_c0 + Fumarate_c0\n",
      "0.344698091418\n",
      "rxn03136_c0\n",
      "SAICAR_c0 <=> H_c0 + Fumarate_c0 + AICAR_c0\n",
      "0.354554260621\n"
     ]
    }
   ],
   "source": [
    "## ...and the fumarate?\n",
    "\n",
    "product = FBA_model.metabolites.get_by_id('cpd00106_c0')\n",
    "\n",
    "for reaction in FBA_model.reactions:\n",
    "    met_dict = reaction.metabolites\n",
    "    if product in met_dict:\n",
    "        if met_dict[product] > 0 and solution.x_dict[reaction.id] > 0:\n",
    "            print(reaction.id)\n",
    "            print(reaction.build_reaction_string(use_metabolite_names = True))\n",
    "            print(solution.x_dict[reaction.id])\n",
    "        elif met_dict[product] < 0 and solution.x_dict[reaction.id] < 0:\n",
    "            print(reaction.id)\n",
    "            print(reaction.build_reaction_string(use_metabolite_names = True))\n",
    "            print(solution.x_dict[reaction.id])"
   ]
  },
  {
   "cell_type": "code",
   "execution_count": 111,
   "metadata": {},
   "outputs": [
    {
     "name": "stdout",
     "output_type": "stream",
     "text": [
      "0.0\n"
     ]
    }
   ],
   "source": [
    "## What is the rate of citrate synthase now?\n",
    "rxn_id = 'rxn00256_c0'\n",
    "print(solution.x_dict[rxn_id])"
   ]
  },
  {
   "cell_type": "code",
   "execution_count": 112,
   "metadata": {
    "collapsed": true
   },
   "outputs": [],
   "source": [
    "## Haloarchaea use ferredoxin as an electron carrier in oxidative phosphorylation,\n",
    "## like many anaerobes but unlike most aerobes\n",
    "## There is no way in the model for electrons to enter the transport chain from ferredoxin--\n",
    "## Given that there is a probable ferredoxin:NAD reductase (HVO_A0618), I will assume they go to NAD, then complex I\n",
    "\n",
    "stoich = {}\n",
    "rxn = cobra.Reaction('rxn_05875_KEGG', name='Ferredoxin-NAD+ reductase')\n",
    "red_ferredoxin = FBA_model.metabolites.get_by_id('cpd11620_c0')\n",
    "NAD = FBA_model.metabolites.get_by_id('cpd00003_c0')\n",
    "ox_ferredoxin = FBA_model.metabolites.get_by_id('cpd11621_c0')\n",
    "NADH = FBA_model.metabolites.get_by_id('cpd00004_c0')\n",
    "proton = FBA_model.metabolites.get_by_id('cpd00067_c0')\n",
    "stoich[red_ferredoxin] = -1\n",
    "stoich[NAD] = -1\n",
    "stoich[ox_ferredoxin] = 1\n",
    "stoich[NADH] = 1\n",
    "stoich[proton] = 1\n",
    "rxn.add_metabolites(stoich)\n",
    "## Assign gene\n",
    "rxn.gene_reaction_rule = 'HVO_A0618'\n",
    "rxn.lower_bound = -1 * rxn.upper_bound\n",
    "FBA_model.add_reaction(rxn)"
   ]
  },
  {
   "cell_type": "code",
   "execution_count": 115,
   "metadata": {},
   "outputs": [
    {
     "name": "stdout",
     "output_type": "stream",
     "text": [
      "NAD_c0 + L_Malate_c0 <=> NADH_c0 + Oxaloacetate_c0 + H_c0\n"
     ]
    }
   ],
   "source": [
    "## While I'm at it, I realized I left a proton out on malate dehydrogenase\n",
    "mdh = FBA_model.reactions.get_by_id('rxn_00342_KEGG')\n",
    "mdh.add_metabolites({'cpd00067_c0':1})\n",
    "print(mdh.build_reaction_string(use_metabolite_names = True))\n"
   ]
  },
  {
   "cell_type": "code",
   "execution_count": 116,
   "metadata": {},
   "outputs": [
    {
     "name": "stdout",
     "output_type": "stream",
     "text": [
      "0.00786259847085565\n"
     ]
    }
   ],
   "source": [
    "solution = FBA_model.optimize()\n",
    "print(solution.f)"
   ]
  },
  {
   "cell_type": "code",
   "execution_count": 117,
   "metadata": {},
   "outputs": [
    {
     "name": "stdout",
     "output_type": "stream",
     "text": [
      "rxn00211_c0\n",
      "H2O_c0 + 2.0 NAD_c0 + UDP_glucose_c0 <=> 2.0 NADH_c0 + 3.0 H_c0 + UDPglucuronate_c0\n",
      "0.0849160634852\n",
      "rxn00781_c0\n",
      "NAD_c0 + Phosphate_c0 + Glyceraldehyde3_phosphate_c0 <=> NADH_c0 + H_c0 + 1_3_Bisphospho_D_glycerate_c0\n",
      "32.7422974382\n",
      "rxn00506_c0\n",
      "H2O_c0 + NAD_c0 + Acetaldehyde_c0 --> NADH_c0 + Acetate_c0 + 2.0 H_c0\n",
      "9.62130449682\n",
      "rxn02159_c0\n",
      "NAD_c0 + L_Histidinol_c0 <=> NADH_c0 + H_c0 + L_Histidinal_c0\n",
      "0.636949102124\n",
      "rxn00499_c0\n",
      "NAD_c0 + L_Lactate_c0 <=> NADH_c0 + Pyruvate_c0 + H_c0\n",
      "0.00290916143422\n",
      "rxn03062_c0\n",
      "NAD_c0 + 3_Isopropylmalate_c0 <=> NADH_c0 + H_c0 + 2_isopropyl_3_oxosuccinate_c0\n",
      "0.125172567656\n",
      "rxn00863_c0\n",
      "H2O_c0 + NAD_c0 + L_Histidinal_c0 --> NADH_c0 + 2.0 H_c0 + L_Histidine_c0\n",
      "0.636949102124\n",
      "rxn00908_c0\n",
      "NAD_c0 + Glycine_c0 + Tetrahydrofolate_c0 <=> NADH_c0 + CO2_c0 + NH3_c0 + 5_10_Methylenetetrahydrofolate_c0\n",
      "4.27269326103\n",
      "rxn00834_c0\n",
      "H2O_c0 + NAD_c0 + IMP_c0 <=> NADH_c0 + H_c0 + XMP_c0\n",
      "0.689471259909\n",
      "rxn01241_c0\n",
      "NAD_c0 + Dihydrolipoamide_c0 <=> NADH_c0 + H_c0 + Lipoamide_c0\n",
      "2.6897163109\n",
      "rxn02774_c0\n",
      "NAD_c0 + Precorrin_2_c0 --> NADH_c0 + 2.0 H_c0 + Sirohydrochlorin_c0\n",
      "0.000235877954126\n",
      "rxn00125_c\n",
      "H2O_c0 + NAD_c0 + Glycolaldehyde_c0 --> NADH_c0 + H_c0 + Glycolate_c0\n",
      "0.00149389370946\n",
      "rxn_00342_KEGG\n",
      "NAD_c0 + L_Malate_c0 <=> NADH_c0 + Oxaloacetate_c0 + H_c0\n",
      "3.88168623908\n",
      "rxn_05875_KEGG\n",
      "NAD_c0 + Reducedferredoxin_c0 <=> NADH_c0 + H_c0 + Oxidizedferredoxin_c0\n",
      "246.744627588\n"
     ]
    }
   ],
   "source": [
    "## Whew that made it grow a lot better! Check NADH again:\n",
    "\n",
    "NAD = 'cpd00003_c0'\n",
    "NADH = 'cpd00004_c0'\n",
    "\n",
    "reactant = FBA_model.metabolites.get_by_id(NAD)\n",
    "product = FBA_model.metabolites.get_by_id(NADH)\n",
    "for reaction in FBA_model.reactions:\n",
    "    met_dict = reaction.metabolites\n",
    "    if reactant in met_dict and product in met_dict:\n",
    "        if met_dict[reactant] < 0  and met_dict[product] > 0 and solution.x_dict[reaction.id] > 0:\n",
    "            print(reaction.id)\n",
    "            print(reaction.build_reaction_string(use_metabolite_names = True))\n",
    "            print(solution.x_dict[reaction.id])\n",
    "        elif met_dict[reactant] > 0  and met_dict[product] < 0 and solution.x_dict[reaction.id] < 0:\n",
    "            print(reaction.id)\n",
    "            print(reaction.build_reaction_string(use_metabolite_names = True))\n",
    "            print(solution.x_dict[reaction.id])\n",
    "\n"
   ]
  },
  {
   "cell_type": "code",
   "execution_count": 118,
   "metadata": {},
   "outputs": [
    {
     "name": "stdout",
     "output_type": "stream",
     "text": [
      "rxn05893_c0\n",
      "2.0 H2O_c0 + NH3_c0 + 6.0 Oxidizedferredoxin_c0 <=> 8.0 H_c0 + Nitrite_c0 + 6.0 Reducedferredoxin_c0\n",
      "40.9060747424\n",
      "rxn05939_c0\n",
      "CO2_c0 + H_c0 + Succinyl_CoA_c0 + Reducedferredoxin_c0 <=> CoA_c0 + 2_Oxoglutarate_c0 + Oxidizedferredoxin_c0\n",
      "-2.4953528767\n"
     ]
    }
   ],
   "source": [
    "## Now there is way TOO much NADH generated from ferredoxin (almost 100 per AcCoA) --what's going on?\n",
    "\n",
    "product = FBA_model.metabolites.get_by_id('cpd11620_c0')\n",
    "\n",
    "for reaction in FBA_model.reactions:\n",
    "    met_dict = reaction.metabolites\n",
    "    if product in met_dict:\n",
    "        if met_dict[product] > 0 and solution.x_dict[reaction.id] > 0:\n",
    "            print(reaction.id)\n",
    "            print(reaction.build_reaction_string(use_metabolite_names = True))\n",
    "            print(solution.x_dict[reaction.id])\n",
    "        elif met_dict[product] < 0 and solution.x_dict[reaction.id] < 0:\n",
    "            print(reaction.id)\n",
    "            print(reaction.build_reaction_string(use_metabolite_names = True))\n",
    "            print(solution.x_dict[reaction.id])"
   ]
  },
  {
   "cell_type": "code",
   "execution_count": 119,
   "metadata": {},
   "outputs": [
    {
     "name": "stdout",
     "output_type": "stream",
     "text": [
      "0.0044970757837720105\n"
     ]
    }
   ],
   "source": [
    "## Try temporarily disabling the ammonia oxidation, see what it does then\n",
    "rxn = FBA_model.reactions.get_by_id('rxn05893_c0')\n",
    "rxn.lower_bound = 0\n",
    "rxn.upper_bound = 0\n",
    "solution = FBA_model.optimize()\n",
    "print(solution.f)"
   ]
  },
  {
   "cell_type": "code",
   "execution_count": 120,
   "metadata": {},
   "outputs": [
    {
     "name": "stdout",
     "output_type": "stream",
     "text": [
      "rxn00211_c0\n",
      "H2O_c0 + 2.0 NAD_c0 + UDP_glucose_c0 <=> 2.0 NADH_c0 + 3.0 H_c0 + UDPglucuronate_c0\n",
      "0.0485684184647\n",
      "rxn00781_c0\n",
      "NAD_c0 + Phosphate_c0 + Glyceraldehyde3_phosphate_c0 <=> NADH_c0 + H_c0 + 1_3_Bisphospho_D_glycerate_c0\n",
      "35.8488992465\n",
      "rxn00506_c0\n",
      "H2O_c0 + NAD_c0 + Acetaldehyde_c0 --> NADH_c0 + Acetate_c0 + 2.0 H_c0\n",
      "5.50298169509\n",
      "rxn02159_c0\n",
      "NAD_c0 + L_Histidinol_c0 <=> NADH_c0 + H_c0 + L_Histidinal_c0\n",
      "0.364308109243\n",
      "rxn01301_c0\n",
      "NAD_c0 + L_Homoserine_c0 <=> NADH_c0 + H_c0 + L_Aspartate4_semialdehyde_c0\n",
      "9.10123687056\n",
      "rxn00499_c0\n",
      "NAD_c0 + L_Lactate_c0 <=> NADH_c0 + Pyruvate_c0 + H_c0\n",
      "0.00166391804\n",
      "rxn03062_c0\n",
      "NAD_c0 + 3_Isopropylmalate_c0 <=> NADH_c0 + H_c0 + 2_isopropyl_3_oxosuccinate_c0\n",
      "0.0715934464777\n",
      "rxn00863_c0\n",
      "H2O_c0 + NAD_c0 + L_Histidinal_c0 --> NADH_c0 + 2.0 H_c0 + L_Histidine_c0\n",
      "0.364308109243\n",
      "rxn00908_c0\n",
      "NAD_c0 + Glycine_c0 + Tetrahydrofolate_c0 <=> NADH_c0 + CO2_c0 + NH3_c0 + 5_10_Methylenetetrahydrofolate_c0\n",
      "2.44380092242\n",
      "rxn00834_c0\n",
      "H2O_c0 + NAD_c0 + IMP_c0 <=> NADH_c0 + H_c0 + XMP_c0\n",
      "0.394348575479\n",
      "rxn01241_c0\n",
      "NAD_c0 + Dihydrolipoamide_c0 <=> NADH_c0 + H_c0 + Lipoamide_c0\n",
      "18.6600862443\n",
      "rxn02774_c0\n",
      "NAD_c0 + Precorrin_2_c0 --> NADH_c0 + 2.0 H_c0 + Sirohydrochlorin_c0\n",
      "0.000134912273513\n",
      "rxn00125_c\n",
      "H2O_c0 + NAD_c0 + Glycolaldehyde_c0 --> NADH_c0 + H_c0 + Glycolate_c0\n",
      "0.000854444398917\n",
      "rxn_00342_KEGG\n",
      "NAD_c0 + L_Malate_c0 <=> NADH_c0 + Oxaloacetate_c0 + H_c0\n",
      "19.3418429331\n",
      "rxn_05875_KEGG\n",
      "NAD_c0 + Reducedferredoxin_c0 <=> NADH_c0 + H_c0 + Oxidizedferredoxin_c0\n",
      "17.8699050583\n"
     ]
    }
   ],
   "source": [
    "NAD = 'cpd00003_c0'\n",
    "NADH = 'cpd00004_c0'\n",
    "\n",
    "reactant = FBA_model.metabolites.get_by_id(NAD)\n",
    "product = FBA_model.metabolites.get_by_id(NADH)\n",
    "for reaction in FBA_model.reactions:\n",
    "    met_dict = reaction.metabolites\n",
    "    if reactant in met_dict and product in met_dict:\n",
    "        if met_dict[reactant] < 0  and met_dict[product] > 0 and solution.x_dict[reaction.id] > 0:\n",
    "            print(reaction.id)\n",
    "            print(reaction.build_reaction_string(use_metabolite_names = True))\n",
    "            print(solution.x_dict[reaction.id])\n",
    "        elif met_dict[reactant] > 0  and met_dict[product] < 0 and solution.x_dict[reaction.id] < 0:\n",
    "            print(reaction.id)\n",
    "            print(reaction.build_reaction_string(use_metabolite_names = True))\n",
    "            print(solution.x_dict[reaction.id])\n"
   ]
  },
  {
   "cell_type": "code",
   "execution_count": 121,
   "metadata": {},
   "outputs": [
    {
     "name": "stdout",
     "output_type": "stream",
     "text": [
      "rxn05939_c0\n",
      "CO2_c0 + H_c0 + Succinyl_CoA_c0 + Reducedferredoxin_c0 <=> CoA_c0 + 2_Oxoglutarate_c0 + Oxidizedferredoxin_c0\n",
      "-18.5489185309\n"
     ]
    }
   ],
   "source": [
    "product = FBA_model.metabolites.get_by_id('cpd11620_c0')\n",
    "\n",
    "for reaction in FBA_model.reactions:\n",
    "    met_dict = reaction.metabolites\n",
    "    if product in met_dict:\n",
    "        if met_dict[product] > 0 and solution.x_dict[reaction.id] > 0:\n",
    "            print(reaction.id)\n",
    "            print(reaction.build_reaction_string(use_metabolite_names = True))\n",
    "            print(solution.x_dict[reaction.id])\n",
    "        elif met_dict[product] < 0 and solution.x_dict[reaction.id] < 0:\n",
    "            print(reaction.id)\n",
    "            print(reaction.build_reaction_string(use_metabolite_names = True))\n",
    "            print(solution.x_dict[reaction.id])"
   ]
  },
  {
   "cell_type": "code",
   "execution_count": 122,
   "metadata": {
    "collapsed": true
   },
   "outputs": [],
   "source": [
    "cobra.io.write_sbml_model(FBA_model,'H_volcanii_curated.sbml')\n",
    "\n"
   ]
  },
  {
   "cell_type": "code",
   "execution_count": 4,
   "metadata": {
    "collapsed": true
   },
   "outputs": [],
   "source": [
    "FBA_model = cobra.io.read_sbml_model('H_volcanii_curated.sbml')"
   ]
  },
  {
   "cell_type": "code",
   "execution_count": 7,
   "metadata": {
    "collapsed": true
   },
   "outputs": [],
   "source": [
    "## add glucose-6-phosphate dehydrogenase reaction\n",
    "stoich = {}\n",
    "rxn = cobra.Reaction('rxn_00835_KEGG', name='Glucose-6-phosphate dehydrogenase (NAD)')\n",
    "G6P = FBA_model.metabolites.get_by_id('cpd00079_c0')\n",
    "PGL = cobra.Metabolite('cpd01236_KEGG',name='6_Phosphogluconolactone')\n",
    "NAD = FBA_model.metabolites.get_by_id('cpd00003_c0')\n",
    "NADH = FBA_model.metabolites.get_by_id('cpd00004_c0')\n",
    "stoich[G6P] = -1\n",
    "stoich[NAD] = -1\n",
    "stoich[PGL] = 1\n",
    "stoich[NADH] = 1\n",
    "rxn.add_metabolites(stoich)\n",
    "rxn.gene_reaction_rule = 'HVO_0511' \n",
    "FBA_model.add_reaction(rxn)\n",
    "rxn.lower_bound = -1*rxn.upper_bound"
   ]
  },
  {
   "cell_type": "code",
   "execution_count": 8,
   "metadata": {
    "collapsed": true
   },
   "outputs": [],
   "source": [
    "## add 6-phosphogluconolactonase reaction\n",
    "stoich = {}\n",
    "rxn = cobra.Reaction('rxn_02035_KEGG', name='6-phosphogluconolactonase')\n",
    "H2O = FBA_model.metabolites.get_by_id('cpd00001_c0')\n",
    "PGA = FBA_model.metabolites.get_by_id('cpd00284_c0')\n",
    "H = FBA_model.metabolites.get_by_id('cpd00067_c0')\n",
    "stoich[PGL] = -1\n",
    "stoich[H2O] = -1\n",
    "stoich[PGA] = 1\n",
    "stoich[H] = 1\n",
    "rxn.add_metabolites(stoich)\n",
    "rxn.gene_reaction_rule = 'Unknown' \n",
    "FBA_model.add_reaction(rxn)"
   ]
  },
  {
   "cell_type": "code",
   "execution_count": 4,
   "metadata": {
    "collapsed": true
   },
   "outputs": [],
   "source": [
    "def make_medium_from_components(FBA_model, med_components, default_bound):\n",
    "    med = {}\n",
    "\n",
    "    for component in med_components:\n",
    "        try:\n",
    "            met = FBA_model.metabolites.get_by_id(component)\n",
    "        except:\n",
    "            print('model to be filled has no ' + component + ': Adding it!')\n",
    "            met = cobra.Metabolite(component)\n",
    "        try:\n",
    "            exchange = FBA_model.reactions.get_by_id('EX_' + component)\n",
    "        except:\n",
    "            exchange = FBA_model.add_boundary(met)\n",
    "            print('new exchange reaction added: EX_' + component)\n",
    "        exch_id = exchange.id\n",
    "        med[exch_id] = default_bound\n",
    "    return med"
   ]
  },
  {
   "cell_type": "code",
   "execution_count": 31,
   "metadata": {
    "collapsed": true
   },
   "outputs": [],
   "source": [
    "gluc_med_components = ['cpd00190_e0','cpd00013_e0','cpd00007_e0','cpd00009_e0','cpd00971_e0','cpd00048_e0','cpd10516_e0','cpd00149_e0','cpd00067_e0','cpd00001_e0','cpd00305_e0','cpd00104_e0']\n",
    "fruc_med_components = ['cpd00082_e0','cpd00013_e0','cpd00007_e0','cpd00009_e0','cpd00971_e0','cpd00048_e0','cpd10516_e0','cpd00149_e0','cpd00067_e0','cpd00001_e0','cpd00305_e0','cpd00104_e0']\n",
    "\n",
    "glucose_med = make_medium_from_components(FBA_model, gluc_med_components, 300)\n",
    "fructose_med = make_medium_from_components(FBA_model, fruc_med_components, 300)"
   ]
  },
  {
   "cell_type": "code",
   "execution_count": 18,
   "metadata": {},
   "outputs": [
    {
     "name": "stdout",
     "output_type": "stream",
     "text": [
      "0.011092228101260404\n"
     ]
    }
   ],
   "source": [
    "FBA_model.medium = glucose_med\n",
    "solution = FBA_model.optimize()\n",
    "print(solution.f)"
   ]
  },
  {
   "cell_type": "code",
   "execution_count": 20,
   "metadata": {},
   "outputs": [
    {
     "name": "stdout",
     "output_type": "stream",
     "text": [
      "0.004440343812900169\n"
     ]
    }
   ],
   "source": [
    "glucose_med['EX_cpd00190_e0'] = 20\n",
    "FBA_model.medium = glucose_med\n",
    "solution = FBA_model.optimize()\n",
    "print(solution.f)"
   ]
  },
  {
   "cell_type": "code",
   "execution_count": 21,
   "metadata": {},
   "outputs": [
    {
     "name": "stdout",
     "output_type": "stream",
     "text": [
      "0.004498769389385727\n"
     ]
    }
   ],
   "source": [
    "fructose_med['EX_cpd00082_e0'] = 20\n",
    "FBA_model.medium = fructose_med\n",
    "solution = FBA_model.optimize()\n",
    "print(solution.f)"
   ]
  },
  {
   "cell_type": "code",
   "execution_count": 23,
   "metadata": {},
   "outputs": [
    {
     "name": "stdout",
     "output_type": "stream",
     "text": [
      "Glucose:\n",
      "fructose bisphosphate aldolase flux = 17.3654552089\n",
      "KDGK flux = 4.32801710426e-14\n",
      "Fructose:\n",
      "fructose bisphosphate aldolase flux = 17.3307901459\n",
      "KDGK flux = -1.08200427607e-14\n"
     ]
    }
   ],
   "source": [
    "## Check that the model is using the pathways I assume it is\n",
    "\n",
    "f_bis_aldolase = 'rxn_01068_KEGG'\n",
    "KDGK = 'rxn01123_c0'\n",
    "\n",
    "FBA_model.medium = glucose_med\n",
    "solution = FBA_model.optimize()\n",
    "print('Glucose:')\n",
    "print('fructose bisphosphate aldolase flux = ' + str(solution.x_dict[f_bis_aldolase]))\n",
    "print('KDGK flux = ' + str(solution.x_dict[KDGK]))\n",
    "\n",
    "FBA_model.medium = fructose_med\n",
    "solution = FBA_model.optimize()\n",
    "print('Fructose:')\n",
    "print('fructose bisphosphate aldolase flux = ' + str(solution.x_dict[f_bis_aldolase]))\n",
    "print('KDGK flux = ' + str(solution.x_dict[KDGK]))"
   ]
  },
  {
   "cell_type": "code",
   "execution_count": 24,
   "metadata": {},
   "outputs": [
    {
     "name": "stdout",
     "output_type": "stream",
     "text": [
      "Glucose:\n",
      "fructose bisphosphate aldolase flux = 2.20490292691e-13\n",
      "KDGK flux = 17.4866906557\n",
      "Fructose:\n",
      "fructose bisphosphate aldolase flux = 17.3307901459\n",
      "KDGK flux = -1.53509356667e-13\n"
     ]
    }
   ],
   "source": [
    "## Hmmm... so it's using EMP for both of them, yet it does get more efficient growth on fructose somehow. \n",
    "## Found out it (the model--likely not the organism) has a 6-PFK, but it uses ADP rather than ATP\n",
    "## What happens if that is turned off?\n",
    "\n",
    "ADP_PFK = FBA_model.reactions.get_by_id('rxn04043_c0')\n",
    "ADP_PFK.upper_bound = 0\n",
    "\n",
    "f_bis_aldolase = 'rxn_01068_KEGG'\n",
    "KDGK = 'rxn01123_c0'\n",
    "\n",
    "FBA_model.medium = glucose_med\n",
    "solution = FBA_model.optimize()\n",
    "print('Glucose:')\n",
    "print('fructose bisphosphate aldolase flux = ' + str(solution.x_dict[f_bis_aldolase]))\n",
    "print('KDGK flux = ' + str(solution.x_dict[KDGK]))\n",
    "\n",
    "FBA_model.medium = fructose_med\n",
    "solution = FBA_model.optimize()\n",
    "print('Fructose:')\n",
    "print('fructose bisphosphate aldolase flux = ' + str(solution.x_dict[f_bis_aldolase]))\n",
    "print('KDGK flux = ' + str(solution.x_dict[KDGK]))\n"
   ]
  },
  {
   "cell_type": "code",
   "execution_count": 25,
   "metadata": {},
   "outputs": [
    {
     "name": "stdout",
     "output_type": "stream",
     "text": [
      "0.004236009816423325\n",
      "0.004498769389385687\n"
     ]
    }
   ],
   "source": [
    "## OK, now it's using the \"right\" pathways.\n",
    "\n",
    "FBA_model.medium = glucose_med\n",
    "solution = FBA_model.optimize()\n",
    "print(solution.f)\n",
    "\n",
    "FBA_model.medium = fructose_med\n",
    "solution = FBA_model.optimize()\n",
    "print(solution.f)"
   ]
  },
  {
   "cell_type": "code",
   "execution_count": 26,
   "metadata": {
    "collapsed": true
   },
   "outputs": [],
   "source": [
    "cobra.io.write_sbml_model(FBA_model,'H_volcanii_curated.sbml')"
   ]
  },
  {
   "cell_type": "code",
   "execution_count": 2,
   "metadata": {
    "collapsed": true
   },
   "outputs": [],
   "source": [
    "FBA_model = cobra.io.read_sbml_model('H_volcanii_curated.sbml')"
   ]
  },
  {
   "cell_type": "code",
   "execution_count": 6,
   "metadata": {},
   "outputs": [
    {
     "name": "stdout",
     "output_type": "stream",
     "text": [
      "NAD_c0 + H_c0 + 2.0 Reducedferredoxin_c0 <=> NADH_c0 + 2.0 Oxidizedferredoxin_c0\n"
     ]
    }
   ],
   "source": [
    "## Correct NAD+ ferredoxin oxidoreductase stoichiometry\n",
    "## It should be TWO ferredoxin (1-electron carrier) for every NAD (2-electron carrier)\n",
    "rxn = FBA_model.reactions.get_by_id('rxn_05875_KEGG')\n",
    "red_ferredoxin = FBA_model.metabolites.get_by_id('cpd11620_c0')\n",
    "ox_ferredoxin = FBA_model.metabolites.get_by_id('cpd11621_c0')\n",
    "proton = FBA_model.metabolites.get_by_id('cpd00067_c0')\n",
    "stoich = {red_ferredoxin:-1, proton:-2, ox_ferredoxin:1}\n",
    "rxn.add_metabolites(stoich)\n",
    "print(rxn.build_reaction_string(use_metabolite_names = True))"
   ]
  },
  {
   "cell_type": "code",
   "execution_count": 7,
   "metadata": {},
   "outputs": [
    {
     "name": "stdout",
     "output_type": "stream",
     "text": [
      "CO2_c0 + H_c0 + Succinyl_CoA_c0 + 2.0 Reducedferredoxin_c0 <=> CoA_c0 + 2_Oxoglutarate_c0 + 2.0 Oxidizedferredoxin_c0\n"
     ]
    }
   ],
   "source": [
    "## Similarly, correct the ferredoxin-dependent ketoglutarate dehydrogenase\n",
    "stoich = {red_ferredoxin:-1, ox_ferredoxin:1}\n",
    "rxn = FBA_model.reactions.get_by_id('rxn05939_c0')\n",
    "rxn.add_metabolites(stoich)\n",
    "print(rxn.build_reaction_string(use_metabolite_names = True))"
   ]
  },
  {
   "cell_type": "code",
   "execution_count": 13,
   "metadata": {},
   "outputs": [
    {
     "ename": "KeyError",
     "evalue": "'rxn00011_c0'",
     "output_type": "error",
     "traceback": [
      "\u001b[1;31m---------------------------------------------------------------------------\u001b[0m",
      "\u001b[1;31mKeyError\u001b[0m                                  Traceback (most recent call last)",
      "\u001b[1;32m<ipython-input-13-11eb67df8730>\u001b[0m in \u001b[0;36m<module>\u001b[1;34m()\u001b[0m\n\u001b[0;32m      1\u001b[0m \u001b[1;31m## Take out NAD+ dependent pyruvate dehydrogenase\u001b[0m\u001b[1;33m\u001b[0m\u001b[1;33m\u001b[0m\u001b[0m\n\u001b[1;32m----> 2\u001b[1;33m \u001b[0mpyr_dh_nad\u001b[0m \u001b[1;33m=\u001b[0m \u001b[0mFBA_model\u001b[0m\u001b[1;33m.\u001b[0m\u001b[0mreactions\u001b[0m\u001b[1;33m.\u001b[0m\u001b[0mget_by_id\u001b[0m\u001b[1;33m(\u001b[0m\u001b[1;34m'rxn00011_c0'\u001b[0m\u001b[1;33m)\u001b[0m\u001b[1;33m\u001b[0m\u001b[0m\n\u001b[0m\u001b[0;32m      3\u001b[0m \u001b[0mFBA_model\u001b[0m\u001b[1;33m.\u001b[0m\u001b[0mremove_reactions\u001b[0m\u001b[1;33m(\u001b[0m\u001b[1;33m[\u001b[0m\u001b[0mpyr_dh_nad\u001b[0m\u001b[1;33m]\u001b[0m\u001b[1;33m)\u001b[0m\u001b[1;33m\u001b[0m\u001b[0m\n",
      "\u001b[1;32m~\\Anaconda3\\lib\\site-packages\\cobra\\core\\dictlist.py\u001b[0m in \u001b[0;36mget_by_id\u001b[1;34m(self, id)\u001b[0m\n\u001b[0;32m     56\u001b[0m     \u001b[1;32mdef\u001b[0m \u001b[0mget_by_id\u001b[0m\u001b[1;33m(\u001b[0m\u001b[0mself\u001b[0m\u001b[1;33m,\u001b[0m \u001b[0mid\u001b[0m\u001b[1;33m)\u001b[0m\u001b[1;33m:\u001b[0m\u001b[1;33m\u001b[0m\u001b[0m\n\u001b[0;32m     57\u001b[0m         \u001b[1;34m\"\"\"return the element with a matching id\"\"\"\u001b[0m\u001b[1;33m\u001b[0m\u001b[0m\n\u001b[1;32m---> 58\u001b[1;33m         \u001b[1;32mreturn\u001b[0m \u001b[0mlist\u001b[0m\u001b[1;33m.\u001b[0m\u001b[0m__getitem__\u001b[0m\u001b[1;33m(\u001b[0m\u001b[0mself\u001b[0m\u001b[1;33m,\u001b[0m \u001b[0mself\u001b[0m\u001b[1;33m.\u001b[0m\u001b[0m_dict\u001b[0m\u001b[1;33m[\u001b[0m\u001b[0mid\u001b[0m\u001b[1;33m]\u001b[0m\u001b[1;33m)\u001b[0m\u001b[1;33m\u001b[0m\u001b[0m\n\u001b[0m\u001b[0;32m     59\u001b[0m \u001b[1;33m\u001b[0m\u001b[0m\n\u001b[0;32m     60\u001b[0m     \u001b[1;32mdef\u001b[0m \u001b[0mlist_attr\u001b[0m\u001b[1;33m(\u001b[0m\u001b[0mself\u001b[0m\u001b[1;33m,\u001b[0m \u001b[0mattribute\u001b[0m\u001b[1;33m)\u001b[0m\u001b[1;33m:\u001b[0m\u001b[1;33m\u001b[0m\u001b[0m\n",
      "\u001b[1;31mKeyError\u001b[0m: 'rxn00011_c0'"
     ]
    }
   ],
   "source": [
    "## Take out NAD+ dependent pyruvate dehydrogenase\n",
    "pyr_dh_nad = FBA_model.reactions.get_by_id('rxn00011_c0')\n",
    "FBA_model.remove_reactions([pyr_dh_nad])\n"
   ]
  },
  {
   "cell_type": "code",
   "execution_count": 16,
   "metadata": {
    "collapsed": true
   },
   "outputs": [],
   "source": [
    "PFOR = cobra.Reaction('rxn_01196_KEGG', name = 'Pyruvate:ferredoxin oxidoreductase')\n",
    "stoich = {}\n",
    "pyruvate = FBA_model.metabolites.get_by_id('cpd00020_c0')\n",
    "coa = FBA_model.metabolites.get_by_id('cpd00010_c0')\n",
    "accoa = FBA_model.metabolites.get_by_id('cpd00022_c0')\n",
    "carbon_dioxide = FBA_model.metabolites.get_by_id('cpd00011_c0')\n",
    "stoich[pyruvate] = -1\n",
    "stoich[coa] = -1\n",
    "stoich[ox_ferredoxin] = -2\n",
    "stoich[red_ferredoxin] = 2\n",
    "stoich[accoa] = 1\n",
    "stoich[carbon_dioxide] = 1\n",
    "stoich[proton] = 1\n",
    "PFOR.add_metabolites(stoich)\n",
    "PFOR.gene_reaction_rule = 'HVO_1304 and HVO_1305'\n",
    "FBA_model.add_reaction(PFOR)"
   ]
  },
  {
   "cell_type": "code",
   "execution_count": 17,
   "metadata": {},
   "outputs": [
    {
     "name": "stdout",
     "output_type": "stream",
     "text": [
      "CoA_c0 + Pyruvate_c0 + 2 Oxidizedferredoxin_c0 --> CO2_c0 + Acetyl_CoA_c0 + H_c0 + 2 Reducedferredoxin_c0\n"
     ]
    }
   ],
   "source": [
    "print(PFOR.build_reaction_string(use_metabolite_names = True))"
   ]
  },
  {
   "cell_type": "code",
   "execution_count": 21,
   "metadata": {},
   "outputs": [
    {
     "name": "stdout",
     "output_type": "stream",
     "text": [
      "0.004346629334077283\n"
     ]
    }
   ],
   "source": [
    "FBA_model.medium = glucose_med\n",
    "glucose_med['EX_cpd00190_e0'] = 20\n",
    "FBA_model.medium = glucose_med\n",
    "solution = FBA_model.optimize()\n",
    "print(solution.f)"
   ]
  },
  {
   "cell_type": "code",
   "execution_count": 22,
   "metadata": {},
   "outputs": [
    {
     "name": "stdout",
     "output_type": "stream",
     "text": [
      "0.004606423939687579\n"
     ]
    }
   ],
   "source": [
    "fructose_med['EX_cpd00082_e0'] = 20\n",
    "FBA_model.medium = fructose_med\n",
    "solution = FBA_model.optimize()\n",
    "print(solution.f)\n"
   ]
  },
  {
   "cell_type": "code",
   "execution_count": 23,
   "metadata": {
    "collapsed": true
   },
   "outputs": [],
   "source": [
    "cobra.io.write_sbml_model(FBA_model,'H_volcanii_curated.sbml')"
   ]
  },
  {
   "cell_type": "code",
   "execution_count": 2,
   "metadata": {
    "collapsed": true
   },
   "outputs": [],
   "source": [
    "FBA_model = cobra.io.read_sbml_model('H_volcanii_curated.sbml')"
   ]
  },
  {
   "cell_type": "code",
   "execution_count": 37,
   "metadata": {
    "collapsed": true
   },
   "outputs": [],
   "source": [
    "## add genes and names for the automatically gap-filled reactions\n",
    "import csv\n",
    "\n",
    "names_genes_table = open('auto_gapfill_names_genes.csv','r')\n",
    "reader = csv.reader(names_genes_table, dialect = 'excel')\n",
    "for row in reader:\n",
    "    if not row[0]=='':\n",
    "        rxn_id = row[0]\n",
    "        name = row[1]\n",
    "        gene = row[2]\n",
    "        if gene == 'Absent':\n",
    "            gene = 'Unknown'\n",
    "        rxn = FBA_model.reactions.get_by_id(rxn_id)\n",
    "        rxn.name = name\n",
    "        rxn.gene_reaction_rule = gene\n",
    "names_genes_table.close()"
   ]
  },
  {
   "cell_type": "code",
   "execution_count": 38,
   "metadata": {},
   "outputs": [
    {
     "name": "stdout",
     "output_type": "stream",
     "text": [
      "Pantoate-beta-alanine ligase\n",
      "Unknown\n"
     ]
    }
   ],
   "source": [
    "## check that this worked\n",
    "rxn = FBA_model.reactions.get_by_id('rxn00656_c')\n",
    "print(rxn.name)\n",
    "print(rxn.gene_reaction_rule)\n"
   ]
  },
  {
   "cell_type": "code",
   "execution_count": 3,
   "metadata": {
    "collapsed": true
   },
   "outputs": [],
   "source": [
    "## The test biomass from the producibility-checking code is still in there. Take it out.\n",
    "test = FBA_model.reactions.get_by_id('test_biomass')\n",
    "FBA_model.remove_reactions([test])"
   ]
  },
  {
   "cell_type": "code",
   "execution_count": 50,
   "metadata": {
    "collapsed": true
   },
   "outputs": [],
   "source": [
    "## build CSV file with all reactions\n",
    "import csv\n",
    "\n",
    "csvfile = open('all_reactions.csv','w',newline ='')\n",
    "rxn_writer = csv.writer(csvfile, dialect='excel')\n",
    "title_row = ['Reaction ID','Name','Reaction equation','Gene']\n",
    "rxn_writer.writerow(title_row)\n",
    "for reaction in FBA_model.reactions:\n",
    "    gene_string = reaction.gene_reaction_rule\n",
    "    if gene_string == 'G_Unknown':\n",
    "        gene = 'Unknown'\n",
    "    elif 'fig' in gene_string:\n",
    "        gene = 'From ModelSEED'\n",
    "    else:\n",
    "        gene = gene_string\n",
    "    eqn = reaction.build_reaction_string(use_metabolite_names = True)\n",
    "    row =[reaction.id, reaction.name, eqn, gene]\n",
    "    rxn_writer.writerow(row)\n",
    "csvfile.close()"
   ]
  },
  {
   "cell_type": "code",
   "execution_count": 6,
   "metadata": {},
   "outputs": [
    {
     "name": "stdout",
     "output_type": "stream",
     "text": [
      "0.004346629334077371\n"
     ]
    }
   ],
   "source": [
    "glucose_med['EX_cpd00190_e0'] = 20\n",
    "FBA_model.medium = glucose_med\n",
    "solution = FBA_model.optimize()\n",
    "print(solution.f)"
   ]
  },
  {
   "cell_type": "code",
   "execution_count": 10,
   "metadata": {},
   "outputs": [
    {
     "name": "stdout",
     "output_type": "stream",
     "text": [
      "17.4210578835\n",
      "3.36211778991\n",
      "0.0\n",
      "0.0\n",
      "10.6548490203\n",
      "0.0\n",
      "-18.145843169\n",
      "18.9122408531\n"
     ]
    }
   ],
   "source": [
    "## Find key fluxes\n",
    "glucose_DH ='rxn01108_c0'\n",
    "print(solution.x_dict[glucose_DH])\n",
    "G6PDH = 'rxn_00835_KEGG'\n",
    "print(solution.x_dict[G6PDH])\n",
    "FBPase = 'rxn00549_c0'\n",
    "print(solution.x_dict[FBPase])\n",
    "aldolase = 'rxn_01068_KEGG'\n",
    "print(solution.x_dict[aldolase])\n",
    "PFOR = 'rxn_01196_KEGG'\n",
    "print(solution.x_dict[PFOR])\n",
    "citrate_syn = 'rxn00256_c0'\n",
    "print(solution.x_dict[citrate_syn])\n",
    "korB = 'rxn05939_c0'\n",
    "print(solution.x_dict[korB])\n",
    "MDH = 'rxn_00342_KEGG'\n",
    "print(solution.x_dict[MDH])\n",
    "\n"
   ]
  },
  {
   "cell_type": "code",
   "execution_count": 15,
   "metadata": {},
   "outputs": [
    {
     "name": "stdout",
     "output_type": "stream",
     "text": [
      "Citrate_c0 <=> Isocitrate_c0\n",
      "20.8392755021\n",
      "H_c0 + Oxalosuccinate_c0 --> CO2_c0 + 2_Oxoglutarate_c0\n",
      "21.7540671118\n",
      "Oxaloacetate_c0 + ITP_c0 <=> CO2_c0 + Phosphoenolpyruvate_c0 + IDP_c0\n",
      "-15.7230036679\n",
      "GLCN_c0 --> H2O_c0 + 2_keto_3_deoxygluconate_c0\n",
      "17.4210578835\n",
      "ATP_c0 + L_Aspartate_c0 <=> ADP_c0 + 4_Phospho_L_aspartate_c0\n",
      "6.70602320291\n",
      "NAD_c0 + Phosphate_c0 + Glyceraldehyde3_phosphate_c0 <=> NADH_c0 + H_c0 + 1_3_Bisphospho_D_glycerate_c0\n",
      "32.6598470435\n",
      "H2O_c0 --> H2O_e0\n",
      "89.6725674114\n",
      "H2O_c0 + NAD_c0 + Acetaldehyde_c0 --> NADH_c0 + Acetate_c0 + 2.0 H_c0\n",
      "14.0081128407\n",
      "NH3_e0 <=> NH3_c0\n",
      "18.110013789\n",
      "NAD_c0 + L_Homoserine_c0 <=> NADH_c0 + H_c0 + L_Aspartate4_semialdehyde_c0\n",
      "-6.40149835176\n",
      "NADPH_c0 + H_c0 + 4_Phospho_L_aspartate_c0 --> NADP_c0 + Phosphate_c0 + L_Aspartate4_semialdehyde_c0\n",
      "6.70602320291\n",
      "NAD_c0 + L_Lactate_c0 <=> NADH_c0 + Pyruvate_c0 + H_c0\n",
      "-8.68762120429\n",
      "NAD_c0 + beta_D_Glucose_c0 <=> NADH_c0 + H_c0 + Gluconolactone_c0\n",
      "17.4210578835\n",
      "0.5 O2_c0 + 2.5 H_c0 + Ubiquinol_8_c0 --> H2O_c0 + 2.5 H_e0 + Ubiquinone_8_c0\n",
      "110.262850827\n",
      "2_Keto_3_deoxy_6_phosphogluconate_c0 <=> Pyruvate_c0 + Glyceraldehyde3_phosphate_c0\n",
      "17.4210578835\n",
      "ATP_c0 + CoA_c0 + Succinate_c0 <=> ADP_c0 + Phosphate_c0 + Succinyl_CoA_c0\n",
      "-17.8413183178\n",
      "H2O_c0 + NAD_c0 + L_Glutamate_c0 <=> NADH_c0 + NH3_c0 + 2_Oxoglutarate_c0 + H_c0\n",
      "-20.152494913\n",
      "ATP_c0 + L_Homoserine_c0 <=> ADP_c0 + H_c0 + O_Phospho_L_homoserine_c0\n",
      "5.90859058528\n",
      "ATP_c0 + 3_Phosphoglycerate_c0 <=> ADP_c0 + 1_3_Bisphospho_D_glycerate_c0\n",
      "-17.4460075359\n",
      "NADH_c0 + 4.5 H_c0 + Ubiquinone_8_c0 <=> NAD_c0 + 3.5 H_e0 + Ubiquinol_8_c0\n",
      "92.4563490107\n",
      "ATP_c0 + 2_keto_3_deoxygluconate_c0 <=> ADP_c0 + H_c0 + 2_Keto_3_deoxy_6_phosphogluconate_c0\n",
      "17.4210578835\n",
      "2_Phospho_D_glycerate_c0 <=> 3_Phosphoglycerate_c0\n",
      "-17.4460075359\n",
      "Citrate_c0 <=> Acetate_c0 + Oxaloacetate_c0\n",
      "-20.8392755021\n",
      "L_Malate_c0 <=> H2O_c0 + Fumarate_c0\n",
      "-18.9122408531\n",
      "H2O_c0 + O_Phospho_L_homoserine_c0 --> Phosphate_c0 + L_Threonine_c0\n",
      "5.90859058528\n",
      "2_Phospho_D_glycerate_c0 <=> H2O_c0 + Phosphoenolpyruvate_c0\n",
      "17.4460075359\n",
      "H_c0 + Na_e0 <=> H_e0 + Na_c0\n",
      "-6.76555686877\n",
      "ATP_c0 + CoA_c0 + Acetate_c0 <=> PPi_c0 + AMP_c0 + Acetyl_CoA_c0 + H_c0\n",
      "-5.1956564419\n",
      "2_Oxoglutarate_c0 + L_Aspartate_c0 <=> L_Glutamate_c0 + Oxaloacetate_c0\n",
      "-10.3678410854\n",
      "NADP_c0 + Isocitrate_c0 <=> NADPH_c0 + H_c0 + Oxalosuccinate_c0\n",
      "21.7540671118\n",
      "NAD_c0 + Formate_c0 --> NADH_c0 + CO2_c0\n",
      "8.68922945715\n",
      "Succinate_c0 + Ubiquinone_8_c0 <=> Fumarate_c0 + Ubiquinol_8_c0\n",
      "17.2310950256\n",
      "NADPH_c0 + H_c0 + 1_3_Bisphospho_D_glycerate_c0 --> NADP_c0 + Phosphate_c0 + Glyceraldehyde3_phosphate_c0\n",
      "15.2138395077\n",
      "L_Threonine_c0 <=> Glycine_c0 + Acetaldehyde_c0\n",
      "5.32049163638\n",
      "CO2_c0 + H_c0 + Succinyl_CoA_c0 + 2.0 Reducedferredoxin_c0 <=> CoA_c0 + 2_Oxoglutarate_c0 + 2.0 Oxidizedferredoxin_c0\n",
      "-18.145843169\n",
      "ATP_c0 + Uridine_c0 <=> ADP_c0 + H_c0 + UMP_c0\n",
      "-15.3223313758\n",
      "O2_e0 <=> O2_c0\n",
      "55.0223902169\n",
      "H2O_c0 + Gluconolactone_c0 --> H_c0 + GLCN_c0\n",
      "17.4210578835\n",
      "L_Lactate_c0 <=> Formate_c0 + Acetaldehyde_c0\n",
      "8.68762120429\n",
      "ITP_c0 + Uridine_c0 <=> H_c0 + IDP_c0 + UMP_c0\n",
      "15.7230036679\n",
      "CO2_e0 <=> CO2_c0\n",
      "-53.6611780415\n",
      "H_e0 <=> \n",
      "13.5622224493\n",
      "H2O_e0 <=> \n",
      "89.6725674114\n",
      "Na_e0 <=> \n",
      "-13.2344431312\n",
      "NH3_e0 <=> \n",
      "-18.110013789\n",
      "O2_e0 <=> \n",
      "-55.0223902169\n",
      "CO2_e0 --> \n",
      "53.6611780415\n",
      "glucose_e0 + Na_e0 --> beta_D_Glucose_c0 + Na_c0\n",
      "20.0\n",
      "ADP_c0 + Phosphate_c0 + 4.0 H_e0 <=> H2O_c0 + ATP_c0 + 3.0 H_c0\n",
      "144.458185004\n",
      "glucose_e0 <=> \n",
      "-20.0\n",
      "NAD_c0 + L_Malate_c0 <=> NADH_c0 + Oxaloacetate_c0 + H_c0\n",
      "18.9122408531\n",
      "NAD_c0 + H_c0 + 2.0 Reducedferredoxin_c0 <=> NADH_c0 + 2.0 Oxidizedferredoxin_c0\n",
      "28.4725434077\n",
      "CoA_c0 + Pyruvate_c0 + 2.0 Oxidizedferredoxin_c0 --> CO2_c0 + Acetyl_CoA_c0 + H_c0 + 2.0 Reducedferredoxin_c0\n",
      "10.6548490203\n"
     ]
    }
   ],
   "source": [
    "for reaction in FBA_model.reactions:\n",
    "    if abs(solution.x_dict[reaction.id])> 5.0:\n",
    "        print(reaction.build_reaction_string(use_metabolite_names = True))\n",
    "        print(solution.x_dict[reaction.id])"
   ]
  },
  {
   "cell_type": "code",
   "execution_count": 16,
   "metadata": {},
   "outputs": [
    {
     "name": "stdout",
     "output_type": "stream",
     "text": [
      "Oxaloacetate_c0 + ITP_c0 <=> CO2_c0 + Phosphoenolpyruvate_c0 + IDP_c0\n"
     ]
    }
   ],
   "source": [
    "## how is there a problem with PEPCK again? Reset it to irreversible:\n",
    "pepck = FBA_model.reactions.get_by_id('rxn00519_c0')\n",
    "print(pepck.build_reaction_string(use_metabolite_names = True))\n"
   ]
  },
  {
   "cell_type": "code",
   "execution_count": 17,
   "metadata": {
    "collapsed": true
   },
   "outputs": [],
   "source": [
    "pepck.lower_bound = 0"
   ]
  },
  {
   "cell_type": "code",
   "execution_count": 18,
   "metadata": {},
   "outputs": [
    {
     "name": "stdout",
     "output_type": "stream",
     "text": [
      "0.00434662933407737\n"
     ]
    }
   ],
   "source": [
    "FBA_model.medium = glucose_med\n",
    "solution = FBA_model.optimize()\n",
    "print(solution.f)"
   ]
  },
  {
   "cell_type": "code",
   "execution_count": 19,
   "metadata": {},
   "outputs": [
    {
     "name": "stdout",
     "output_type": "stream",
     "text": [
      "Citrate_c0 <=> Isocitrate_c0\n",
      "20.8392755021\n",
      "H_c0 + Oxalosuccinate_c0 --> CO2_c0 + 2_Oxoglutarate_c0\n",
      "21.7540671118\n",
      "Pyruvate_c0 + Malonyl_CoA_c0 <=> Acetyl_CoA_c0 + Oxaloacetate_c0\n",
      "12.2948757344\n",
      "NAD_c0 + CoA_c0 + 3_Oxopropanoate_c0 <=> NADH_c0 + CO2_c0 + Acetyl_CoA_c0\n",
      "-12.2952234647\n",
      "GLCN_c0 --> H2O_c0 + 2_keto_3_deoxygluconate_c0\n",
      "17.4210578835\n",
      "ATP_c0 + L_Aspartate_c0 <=> ADP_c0 + 4_Phospho_L_aspartate_c0\n",
      "6.70602320291\n",
      "ADP_c0 + Phosphoenolpyruvate_c0 + H_c0 --> ATP_c0 + Pyruvate_c0\n",
      "15.7230036679\n",
      "NAD_c0 + Phosphate_c0 + Glyceraldehyde3_phosphate_c0 <=> NADH_c0 + H_c0 + 1_3_Bisphospho_D_glycerate_c0\n",
      "48.3828507114\n",
      "H2O_c0 --> H2O_e0\n",
      "89.6725674114\n",
      "H2O_c0 + NAD_c0 + Acetaldehyde_c0 --> NADH_c0 + Acetate_c0 + 2.0 H_c0\n",
      "14.0081128407\n",
      "NH3_e0 <=> NH3_c0\n",
      "18.110013789\n",
      "NAD_c0 + L_Homoserine_c0 <=> NADH_c0 + H_c0 + L_Aspartate4_semialdehyde_c0\n",
      "-6.40149835176\n",
      "NADPH_c0 + H_c0 + 4_Phospho_L_aspartate_c0 --> NADP_c0 + Phosphate_c0 + L_Aspartate4_semialdehyde_c0\n",
      "6.70602320291\n",
      "NAD_c0 + L_Lactate_c0 <=> NADH_c0 + Pyruvate_c0 + H_c0\n",
      "-8.68762120429\n",
      "NAD_c0 + beta_D_Glucose_c0 <=> NADH_c0 + H_c0 + Gluconolactone_c0\n",
      "17.4210578835\n",
      "0.5 O2_c0 + 2.5 H_c0 + Ubiquinol_8_c0 --> H2O_c0 + 2.5 H_e0 + Ubiquinone_8_c0\n",
      "110.262850827\n",
      "2_Keto_3_deoxy_6_phosphogluconate_c0 <=> Pyruvate_c0 + Glyceraldehyde3_phosphate_c0\n",
      "17.4210578835\n",
      "ATP_c0 + CoA_c0 + Succinate_c0 <=> ADP_c0 + Phosphate_c0 + Succinyl_CoA_c0\n",
      "-17.8413183178\n",
      "H2O_c0 + NAD_c0 + L_Glutamate_c0 <=> NADH_c0 + NH3_c0 + 2_Oxoglutarate_c0 + H_c0\n",
      "-20.152494913\n",
      "NADP_c0 + CoA_c0 + 3_Oxopropanoate_c0 <=> NADPH_c0 + H_c0 + Malonyl_CoA_c0\n",
      "12.2948757344\n",
      "ATP_c0 + L_Homoserine_c0 <=> ADP_c0 + H_c0 + O_Phospho_L_homoserine_c0\n",
      "5.90859058528\n",
      "ATP_c0 + 3_Phosphoglycerate_c0 <=> ADP_c0 + 1_3_Bisphospho_D_glycerate_c0\n",
      "-17.4460075359\n",
      "NADH_c0 + 4.5 H_c0 + Ubiquinone_8_c0 <=> NAD_c0 + 3.5 H_e0 + Ubiquinol_8_c0\n",
      "92.4563490107\n",
      "ATP_c0 + 2_keto_3_deoxygluconate_c0 <=> ADP_c0 + H_c0 + 2_Keto_3_deoxy_6_phosphogluconate_c0\n",
      "17.4210578835\n",
      "2_Phospho_D_glycerate_c0 <=> 3_Phosphoglycerate_c0\n",
      "-17.4460075359\n",
      "Citrate_c0 <=> Acetate_c0 + Oxaloacetate_c0\n",
      "-20.8392755021\n",
      "L_Malate_c0 <=> H2O_c0 + Fumarate_c0\n",
      "-18.9122408531\n",
      "H2O_c0 + O_Phospho_L_homoserine_c0 --> Phosphate_c0 + L_Threonine_c0\n",
      "5.90859058528\n",
      "2_Phospho_D_glycerate_c0 <=> H2O_c0 + Phosphoenolpyruvate_c0\n",
      "17.4460075359\n",
      "H_c0 + Na_e0 <=> H_e0 + Na_c0\n",
      "-6.76555686877\n",
      "ATP_c0 + CoA_c0 + Acetate_c0 <=> PPi_c0 + AMP_c0 + Acetyl_CoA_c0 + H_c0\n",
      "-5.1956564419\n",
      "2_Oxoglutarate_c0 + L_Aspartate_c0 <=> L_Glutamate_c0 + Oxaloacetate_c0\n",
      "-10.3678410854\n",
      "NADP_c0 + Isocitrate_c0 <=> NADPH_c0 + H_c0 + Oxalosuccinate_c0\n",
      "21.7540671118\n",
      "NAD_c0 + Formate_c0 --> NADH_c0 + CO2_c0\n",
      "8.68922945715\n",
      "Succinate_c0 + Ubiquinone_8_c0 <=> Fumarate_c0 + Ubiquinol_8_c0\n",
      "17.2310950256\n",
      "NADPH_c0 + H_c0 + 1_3_Bisphospho_D_glycerate_c0 --> NADP_c0 + Phosphate_c0 + Glyceraldehyde3_phosphate_c0\n",
      "30.9368431755\n",
      "L_Threonine_c0 <=> Glycine_c0 + Acetaldehyde_c0\n",
      "5.32049163638\n",
      "CO2_c0 + H_c0 + Succinyl_CoA_c0 + 2.0 Reducedferredoxin_c0 <=> CoA_c0 + 2_Oxoglutarate_c0 + 2.0 Oxidizedferredoxin_c0\n",
      "-18.145843169\n",
      "O2_e0 <=> O2_c0\n",
      "55.0223902169\n",
      "H2O_c0 + Gluconolactone_c0 --> H_c0 + GLCN_c0\n",
      "17.4210578835\n",
      "L_Lactate_c0 <=> Formate_c0 + Acetaldehyde_c0\n",
      "8.68762120429\n",
      "CO2_e0 <=> CO2_c0\n",
      "-53.6611780415\n",
      "H_e0 <=> \n",
      "13.5622224493\n",
      "H2O_e0 <=> \n",
      "89.6725674114\n",
      "Na_e0 <=> \n",
      "-13.2344431312\n",
      "NH3_e0 <=> \n",
      "-18.110013789\n",
      "O2_e0 <=> \n",
      "-55.0223902169\n",
      "CO2_e0 --> \n",
      "53.6611780415\n",
      "glucose_e0 + Na_e0 --> beta_D_Glucose_c0 + Na_c0\n",
      "20.0\n",
      "ADP_c0 + Phosphate_c0 + 4.0 H_e0 <=> H2O_c0 + ATP_c0 + 3.0 H_c0\n",
      "144.458185004\n",
      "glucose_e0 <=> \n",
      "-20.0\n",
      "NAD_c0 + L_Malate_c0 <=> NADH_c0 + Oxaloacetate_c0 + H_c0\n",
      "18.9122408531\n",
      "NAD_c0 + H_c0 + 2.0 Reducedferredoxin_c0 <=> NADH_c0 + 2.0 Oxidizedferredoxin_c0\n",
      "28.4725434077\n",
      "CoA_c0 + Pyruvate_c0 + 2.0 Oxidizedferredoxin_c0 --> CO2_c0 + Acetyl_CoA_c0 + H_c0 + 2.0 Reducedferredoxin_c0\n",
      "10.6548490203\n"
     ]
    }
   ],
   "source": [
    "for reaction in FBA_model.reactions:\n",
    "    if abs(solution.x_dict[reaction.id])> 5.0:\n",
    "        print(reaction.build_reaction_string(use_metabolite_names = True))\n",
    "        print(solution.x_dict[reaction.id])"
   ]
  },
  {
   "cell_type": "code",
   "execution_count": 20,
   "metadata": {},
   "outputs": [
    {
     "name": "stdout",
     "output_type": "stream",
     "text": [
      "{'EX_cpd00190_e0': 20, 'EX_cpd00013_e0': 100, 'EX_cpd00007_e0': 100, 'EX_cpd00009_e0': 100, 'EX_cpd00971_e0': 100, 'EX_cpd00048_e0': 100, 'EX_cpd10516_e0': 100, 'EX_cpd00149_e0': 100, 'EX_cpd00067_e0': 100, 'EX_cpd00001_e0': 100, 'EX_cpd00305_e0': 100, 'EX_cpd00104_e0': 100}\n"
     ]
    }
   ],
   "source": [
    "print(glucose_med)"
   ]
  },
  {
   "cell_type": "code",
   "execution_count": 22,
   "metadata": {
    "collapsed": true
   },
   "outputs": [],
   "source": [
    "gluc_med_components = ['cpd00190_e0','cpd00013_e0','cpd00007_e0','cpd00009_e0','cpd00971_e0','cpd00048_e0','cpd10516_e0','cpd00149_e0','cpd00067_e0','cpd00001_e0','cpd00305_e0','cpd00104_e0']\n",
    "fruc_med_components = ['cpd00082_e0','cpd00013_e0','cpd00007_e0','cpd00009_e0','cpd00971_e0','cpd00048_e0','cpd10516_e0','cpd00149_e0','cpd00067_e0','cpd00001_e0','cpd00305_e0','cpd00104_e0']\n",
    "\n",
    "glucose_med = make_medium_from_components(FBA_model, gluc_med_components, 300)\n",
    "fructose_med = make_medium_from_components(FBA_model, fruc_med_components, 300)"
   ]
  },
  {
   "cell_type": "code",
   "execution_count": 23,
   "metadata": {},
   "outputs": [
    {
     "name": "stdout",
     "output_type": "stream",
     "text": [
      "0.00434662933407737\n"
     ]
    }
   ],
   "source": [
    "glucose_med['EX_cpd00190_e0'] = 20\n",
    "FBA_model.medium = glucose_med\n",
    "solution = FBA_model.optimize()\n",
    "print(solution.f)"
   ]
  },
  {
   "cell_type": "code",
   "execution_count": 24,
   "metadata": {},
   "outputs": [
    {
     "name": "stdout",
     "output_type": "stream",
     "text": [
      "Citrate_c0 <=> Isocitrate_c0\n",
      "20.8392755021\n",
      "H_c0 + Oxalosuccinate_c0 --> CO2_c0 + 2_Oxoglutarate_c0\n",
      "21.7540671118\n",
      "Pyruvate_c0 + Malonyl_CoA_c0 <=> Acetyl_CoA_c0 + Oxaloacetate_c0\n",
      "12.2948757344\n",
      "NAD_c0 + CoA_c0 + 3_Oxopropanoate_c0 <=> NADH_c0 + CO2_c0 + Acetyl_CoA_c0\n",
      "-12.2952234647\n",
      "GLCN_c0 --> H2O_c0 + 2_keto_3_deoxygluconate_c0\n",
      "17.4210578835\n",
      "ATP_c0 + L_Aspartate_c0 <=> ADP_c0 + 4_Phospho_L_aspartate_c0\n",
      "6.70602320291\n",
      "ADP_c0 + Phosphoenolpyruvate_c0 + H_c0 --> ATP_c0 + Pyruvate_c0\n",
      "15.7230036679\n",
      "NAD_c0 + Phosphate_c0 + Glyceraldehyde3_phosphate_c0 <=> NADH_c0 + H_c0 + 1_3_Bisphospho_D_glycerate_c0\n",
      "48.3828507114\n",
      "H2O_c0 --> H2O_e0\n",
      "89.6725674114\n",
      "H2O_c0 + NAD_c0 + Acetaldehyde_c0 --> NADH_c0 + Acetate_c0 + 2.0 H_c0\n",
      "14.0081128407\n",
      "NH3_e0 <=> NH3_c0\n",
      "18.110013789\n",
      "NAD_c0 + L_Homoserine_c0 <=> NADH_c0 + H_c0 + L_Aspartate4_semialdehyde_c0\n",
      "-6.40149835176\n",
      "NADPH_c0 + H_c0 + 4_Phospho_L_aspartate_c0 --> NADP_c0 + Phosphate_c0 + L_Aspartate4_semialdehyde_c0\n",
      "6.70602320291\n",
      "NAD_c0 + L_Lactate_c0 <=> NADH_c0 + Pyruvate_c0 + H_c0\n",
      "-8.68762120429\n",
      "NAD_c0 + beta_D_Glucose_c0 <=> NADH_c0 + H_c0 + Gluconolactone_c0\n",
      "17.4210578835\n",
      "0.5 O2_c0 + 2.5 H_c0 + Ubiquinol_8_c0 --> H2O_c0 + 2.5 H_e0 + Ubiquinone_8_c0\n",
      "110.262850827\n",
      "2_Keto_3_deoxy_6_phosphogluconate_c0 <=> Pyruvate_c0 + Glyceraldehyde3_phosphate_c0\n",
      "17.4210578835\n",
      "ATP_c0 + CoA_c0 + Succinate_c0 <=> ADP_c0 + Phosphate_c0 + Succinyl_CoA_c0\n",
      "-17.8413183178\n",
      "H2O_c0 + NAD_c0 + L_Glutamate_c0 <=> NADH_c0 + NH3_c0 + 2_Oxoglutarate_c0 + H_c0\n",
      "-20.152494913\n",
      "NADP_c0 + CoA_c0 + 3_Oxopropanoate_c0 <=> NADPH_c0 + H_c0 + Malonyl_CoA_c0\n",
      "12.2948757344\n",
      "ATP_c0 + L_Homoserine_c0 <=> ADP_c0 + H_c0 + O_Phospho_L_homoserine_c0\n",
      "5.90859058528\n",
      "ATP_c0 + 3_Phosphoglycerate_c0 <=> ADP_c0 + 1_3_Bisphospho_D_glycerate_c0\n",
      "-17.4460075359\n",
      "NADH_c0 + 4.5 H_c0 + Ubiquinone_8_c0 <=> NAD_c0 + 3.5 H_e0 + Ubiquinol_8_c0\n",
      "92.4563490107\n",
      "ATP_c0 + 2_keto_3_deoxygluconate_c0 <=> ADP_c0 + H_c0 + 2_Keto_3_deoxy_6_phosphogluconate_c0\n",
      "17.4210578835\n",
      "2_Phospho_D_glycerate_c0 <=> 3_Phosphoglycerate_c0\n",
      "-17.4460075359\n",
      "Citrate_c0 <=> Acetate_c0 + Oxaloacetate_c0\n",
      "-20.8392755021\n",
      "L_Malate_c0 <=> H2O_c0 + Fumarate_c0\n",
      "-18.9122408531\n",
      "H2O_c0 + O_Phospho_L_homoserine_c0 --> Phosphate_c0 + L_Threonine_c0\n",
      "5.90859058528\n",
      "2_Phospho_D_glycerate_c0 <=> H2O_c0 + Phosphoenolpyruvate_c0\n",
      "17.4460075359\n",
      "H_c0 + Na_e0 <=> H_e0 + Na_c0\n",
      "-6.76555686877\n",
      "ATP_c0 + CoA_c0 + Acetate_c0 <=> PPi_c0 + AMP_c0 + Acetyl_CoA_c0 + H_c0\n",
      "-5.1956564419\n",
      "2_Oxoglutarate_c0 + L_Aspartate_c0 <=> L_Glutamate_c0 + Oxaloacetate_c0\n",
      "-10.3678410854\n",
      "NADP_c0 + Isocitrate_c0 <=> NADPH_c0 + H_c0 + Oxalosuccinate_c0\n",
      "21.7540671118\n",
      "NAD_c0 + Formate_c0 --> NADH_c0 + CO2_c0\n",
      "8.68922945715\n",
      "Succinate_c0 + Ubiquinone_8_c0 <=> Fumarate_c0 + Ubiquinol_8_c0\n",
      "17.2310950256\n",
      "NADPH_c0 + H_c0 + 1_3_Bisphospho_D_glycerate_c0 --> NADP_c0 + Phosphate_c0 + Glyceraldehyde3_phosphate_c0\n",
      "30.9368431755\n",
      "L_Threonine_c0 <=> Glycine_c0 + Acetaldehyde_c0\n",
      "5.32049163638\n",
      "CO2_c0 + H_c0 + Succinyl_CoA_c0 + 2.0 Reducedferredoxin_c0 <=> CoA_c0 + 2_Oxoglutarate_c0 + 2.0 Oxidizedferredoxin_c0\n",
      "-18.145843169\n",
      "O2_e0 <=> O2_c0\n",
      "55.0223902169\n",
      "H2O_c0 + Gluconolactone_c0 --> H_c0 + GLCN_c0\n",
      "17.4210578835\n",
      "L_Lactate_c0 <=> Formate_c0 + Acetaldehyde_c0\n",
      "8.68762120429\n",
      "CO2_e0 <=> CO2_c0\n",
      "-53.6611780415\n",
      "H_e0 <=> \n",
      "13.5622224493\n",
      "H2O_e0 <=> \n",
      "89.6725674114\n",
      "Na_e0 <=> \n",
      "-13.2344431312\n",
      "NH3_e0 <=> \n",
      "-18.110013789\n",
      "O2_e0 <=> \n",
      "-55.0223902169\n",
      "CO2_e0 --> \n",
      "53.6611780415\n",
      "glucose_e0 + Na_e0 --> beta_D_Glucose_c0 + Na_c0\n",
      "20.0\n",
      "ADP_c0 + Phosphate_c0 + 4.0 H_e0 <=> H2O_c0 + ATP_c0 + 3.0 H_c0\n",
      "144.458185004\n",
      "glucose_e0 <=> \n",
      "-20.0\n",
      "NAD_c0 + L_Malate_c0 <=> NADH_c0 + Oxaloacetate_c0 + H_c0\n",
      "18.9122408531\n",
      "NAD_c0 + H_c0 + 2.0 Reducedferredoxin_c0 <=> NADH_c0 + 2.0 Oxidizedferredoxin_c0\n",
      "28.4725434077\n",
      "CoA_c0 + Pyruvate_c0 + 2.0 Oxidizedferredoxin_c0 --> CO2_c0 + Acetyl_CoA_c0 + H_c0 + 2.0 Reducedferredoxin_c0\n",
      "10.6548490203\n"
     ]
    }
   ],
   "source": [
    "for reaction in FBA_model.reactions:\n",
    "    if abs(solution.x_dict[reaction.id])> 5.0:\n",
    "        print(reaction.build_reaction_string(use_metabolite_names = True))\n",
    "        print(solution.x_dict[reaction.id])"
   ]
  },
  {
   "cell_type": "code",
   "execution_count": 25,
   "metadata": {
    "collapsed": true
   },
   "outputs": [],
   "source": [
    "## Try setting citrate lyase as irreversible\n",
    "citL = FBA_model.reactions.get_by_id('rxn00265_c0')\n",
    "citL.lower_bound = 0"
   ]
  },
  {
   "cell_type": "code",
   "execution_count": 26,
   "metadata": {},
   "outputs": [
    {
     "name": "stdout",
     "output_type": "stream",
     "text": [
      "0.004218229258123782\n"
     ]
    }
   ],
   "source": [
    "solution = FBA_model.optimize()\n",
    "print(solution.f)"
   ]
  },
  {
   "cell_type": "code",
   "execution_count": 27,
   "metadata": {},
   "outputs": [
    {
     "name": "stdout",
     "output_type": "stream",
     "text": [
      "ATP_c0 + dCDP_c0 <=> ADP_c0 + dCTP_c0\n",
      "-10.8566253708\n",
      "Citrate_c0 <=> Isocitrate_c0\n",
      "21.4052861489\n",
      "H_c0 + Oxalosuccinate_c0 --> CO2_c0 + 2_Oxoglutarate_c0\n",
      "22.2930546786\n",
      "ATP_c0 + H_c0 + dCMP_c0 <=> ADP_c0 + dCDP_c0\n",
      "-10.8753121264\n",
      "Pyruvate_c0 + Malonyl_CoA_c0 <=> Acetyl_CoA_c0 + Oxaloacetate_c0\n",
      "11.9316832795\n",
      "H2O_c0 + dCMP_c0 --> Phosphate_c0 + Deoxycytidine_c0\n",
      "10.8753121264\n",
      "NAD_c0 + CoA_c0 + 3_Oxopropanoate_c0 <=> NADH_c0 + CO2_c0 + Acetyl_CoA_c0\n",
      "-11.9320207379\n",
      "GLCN_c0 --> H2O_c0 + 2_keto_3_deoxygluconate_c0\n",
      "17.4972402166\n",
      "ATP_c0 + L_Aspartate_c0 <=> ADP_c0 + 4_Phospho_L_aspartate_c0\n",
      "6.50792628173\n",
      "ADP_c0 + Phosphoenolpyruvate_c0 + H_c0 --> ATP_c0 + Pyruvate_c0\n",
      "15.8493467746\n",
      "NAD_c0 + Phosphate_c0 + Glyceraldehyde3_phosphate_c0 <=> NADH_c0 + H_c0 + 1_3_Bisphospho_D_glycerate_c0\n",
      "48.1601475714\n",
      "H2O_c0 --> H2O_e0\n",
      "90.5684442733\n",
      "ATP_c0 + AMP_c0 + H_c0 <=> 2.0 ADP_c0\n",
      "9.15688989124\n",
      "H2O_c0 + NAD_c0 + Acetaldehyde_c0 --> NADH_c0 + Acetate_c0 + 2.0 H_c0\n",
      "5.16176277858\n",
      "NH3_e0 <=> NH3_c0\n",
      "17.5750412925\n",
      "NAD_c0 + L_Homoserine_c0 <=> NADH_c0 + H_c0 + L_Aspartate4_semialdehyde_c0\n",
      "-6.2123971399\n",
      "NADPH_c0 + H_c0 + 4_Phospho_L_aspartate_c0 --> NADP_c0 + Phosphate_c0 + L_Aspartate4_semialdehyde_c0\n",
      "6.50792628173\n",
      "NAD_c0 + beta_D_Glucose_c0 <=> NADH_c0 + H_c0 + Gluconolactone_c0\n",
      "17.4972402166\n",
      "0.5 O2_c0 + 2.5 H_c0 + Ubiquinol_8_c0 --> H2O_c0 + 2.5 H_e0 + Ubiquinone_8_c0\n",
      "114.095305479\n",
      "2_Keto_3_deoxy_6_phosphogluconate_c0 <=> Pyruvate_c0 + Glyceraldehyde3_phosphate_c0\n",
      "17.4972402166\n",
      "ATP_c0 + CoA_c0 + Succinate_c0 <=> ADP_c0 + Phosphate_c0 + Succinyl_CoA_c0\n",
      "-18.495889065\n",
      "H2O_c0 + NAD_c0 + L_Glutamate_c0 <=> NADH_c0 + NH3_c0 + 2_Oxoglutarate_c0 + H_c0\n",
      "-18.9913117659\n",
      "NADP_c0 + CoA_c0 + 3_Oxopropanoate_c0 <=> NADPH_c0 + H_c0 + Malonyl_CoA_c0\n",
      "11.9316832795\n",
      "ATP_c0 + Deoxyuridine_c0 <=> ADP_c0 + H_c0 + dUMP_c0\n",
      "10.8753121264\n",
      "ATP_c0 + L_Homoserine_c0 <=> ADP_c0 + H_c0 + O_Phospho_L_homoserine_c0\n",
      "6.08399424128\n",
      "ATP_c0 + 3_Phosphoglycerate_c0 <=> ADP_c0 + 1_3_Bisphospho_D_glycerate_c0\n",
      "-17.5214528525\n",
      "NADH_c0 + 4.5 H_c0 + Ubiquinone_8_c0 <=> NAD_c0 + 3.5 H_e0 + Ubiquinol_8_c0\n",
      "95.6332044299\n",
      "ATP_c0 + 2_keto_3_deoxygluconate_c0 <=> ADP_c0 + H_c0 + 2_Keto_3_deoxy_6_phosphogluconate_c0\n",
      "17.4972402166\n",
      "2_Phospho_D_glycerate_c0 <=> 3_Phosphoglycerate_c0\n",
      "-17.5214528525\n",
      "L_Malate_c0 <=> H2O_c0 + Fumarate_c0\n",
      "-19.5351763896\n",
      "H2O_c0 + O_Phospho_L_homoserine_c0 --> Phosphate_c0 + L_Threonine_c0\n",
      "6.08399424128\n",
      "2_Phospho_D_glycerate_c0 <=> H2O_c0 + Phosphoenolpyruvate_c0\n",
      "17.5214528525\n",
      "H_c0 + Na_e0 <=> H_e0 + Na_c0\n",
      "-7.15650428403\n",
      "2.0 H2O_c0 + dCTP_c0 <=> PPi_c0 + NH3_c0 + H_c0 + dUMP_c0\n",
      "-10.8693222409\n",
      "ATP_c0 + CoA_c0 + Acetate_c0 <=> PPi_c0 + AMP_c0 + Acetyl_CoA_c0 + H_c0\n",
      "5.8331361473\n",
      "2_Oxoglutarate_c0 + L_Aspartate_c0 <=> L_Glutamate_c0 + Oxaloacetate_c0\n",
      "-10.0615735202\n",
      "NADP_c0 + Isocitrate_c0 <=> NADPH_c0 + H_c0 + Oxalosuccinate_c0\n",
      "22.2930546786\n",
      "H2O_c0 + H_c0 + Deoxycytidine_c0 --> NH3_c0 + Deoxyuridine_c0\n",
      "10.8753121264\n",
      "Succinate_c0 + Ubiquinone_8_c0 <=> Fumarate_c0 + Ubiquinol_8_c0\n",
      "17.9036918595\n",
      "NADPH_c0 + H_c0 + 1_3_Bisphospho_D_glycerate_c0 --> NADP_c0 + Phosphate_c0 + Glyceraldehyde3_phosphate_c0\n",
      "30.6386947189\n",
      "L_Threonine_c0 <=> Glycine_c0 + Acetaldehyde_c0\n",
      "5.16332352341\n",
      "CO2_c0 + H_c0 + Succinyl_CoA_c0 + 2.0 Reducedferredoxin_c0 <=> CoA_c0 + 2_Oxoglutarate_c0 + 2.0 Oxidizedferredoxin_c0\n",
      "-18.7914182068\n",
      "O2_e0 <=> O2_c0\n",
      "56.9418384583\n",
      "H2O_c0 + Gluconolactone_c0 --> H_c0 + GLCN_c0\n",
      "17.4972402166\n",
      "H2O_c0 + Acetyl_CoA_c0 + Oxaloacetate_c0 --> CoA_c0 + H_c0 + Citrate_c0\n",
      "21.4052861489\n",
      "CO2_e0 <=> CO2_c0\n",
      "-55.6208366927\n",
      "H_e0 <=> \n",
      "13.1615923843\n",
      "H2O_e0 <=> \n",
      "90.5684442733\n",
      "Na_e0 <=> \n",
      "-12.843495716\n",
      "NH3_e0 <=> \n",
      "-17.5750412925\n",
      "O2_e0 <=> \n",
      "-56.9418384583\n",
      "CO2_e0 --> \n",
      "55.6208366927\n",
      "glucose_e0 + Na_e0 --> beta_D_Glucose_c0 + Na_c0\n",
      "20.0\n",
      "ADP_c0 + Phosphate_c0 + 4.0 H_e0 <=> H2O_c0 + ATP_c0 + 3.0 H_c0\n",
      "149.643716285\n",
      "glucose_e0 <=> \n",
      "-20.0\n",
      "NAD_c0 + L_Malate_c0 <=> NADH_c0 + Oxaloacetate_c0 + H_c0\n",
      "19.5351763896\n",
      "NAD_c0 + H_c0 + 2.0 Reducedferredoxin_c0 <=> NADH_c0 + 2.0 Oxidizedferredoxin_c0\n",
      "38.4272204554\n",
      "CoA_c0 + Pyruvate_c0 + 2.0 Oxidizedferredoxin_c0 --> CO2_c0 + Acetyl_CoA_c0 + H_c0 + 2.0 Reducedferredoxin_c0\n",
      "19.9542574664\n"
     ]
    }
   ],
   "source": [
    "for reaction in FBA_model.reactions:\n",
    "    if abs(solution.x_dict[reaction.id])> 5.0:\n",
    "        print(reaction.build_reaction_string(use_metabolite_names = True))\n",
    "        print(solution.x_dict[reaction.id])"
   ]
  },
  {
   "cell_type": "code",
   "execution_count": 28,
   "metadata": {},
   "outputs": [
    {
     "name": "stdout",
     "output_type": "stream",
     "text": [
      "17.4972402166\n",
      "3.26280033116\n",
      "0.0\n",
      "0.0\n",
      "19.9542574664\n",
      "21.4052861489\n",
      "-18.7914182068\n",
      "19.5351763896\n"
     ]
    }
   ],
   "source": [
    "glucose_DH ='rxn01108_c0'\n",
    "print(solution.x_dict[glucose_DH])\n",
    "G6PDH = 'rxn_00835_KEGG'\n",
    "print(solution.x_dict[G6PDH])\n",
    "FBPase = 'rxn00549_c0'\n",
    "print(solution.x_dict[FBPase])\n",
    "aldolase = 'rxn_01068_KEGG'\n",
    "print(solution.x_dict[aldolase])\n",
    "PFOR = 'rxn_01196_KEGG'\n",
    "print(solution.x_dict[PFOR])\n",
    "citrate_syn = 'rxn00256_c0'\n",
    "print(solution.x_dict[citrate_syn])\n",
    "korB = 'rxn05939_c0'\n",
    "print(solution.x_dict[korB])\n",
    "MDH = 'rxn_00342_KEGG'\n",
    "print(solution.x_dict[MDH])"
   ]
  },
  {
   "cell_type": "code",
   "execution_count": 32,
   "metadata": {},
   "outputs": [
    {
     "name": "stdout",
     "output_type": "stream",
     "text": [
      "0.004471095547160047\n"
     ]
    }
   ],
   "source": [
    "fructose_med['EX_cpd00082_e0'] = 20\n",
    "FBA_model.medium = fructose_med\n",
    "solution = FBA_model.optimize()\n",
    "print(solution.f)"
   ]
  },
  {
   "cell_type": "code",
   "execution_count": 33,
   "metadata": {},
   "outputs": [
    {
     "name": "stdout",
     "output_type": "stream",
     "text": [
      "0.0\n",
      "0.0\n",
      "0.0\n",
      "18.5000070585\n",
      "19.9053913422\n",
      "21.4434034995\n",
      "-18.6728444327\n",
      "19.4611879996\n"
     ]
    }
   ],
   "source": [
    "glucose_DH ='rxn01108_c0'\n",
    "print(solution.x_dict[glucose_DH])\n",
    "G6PDH = 'rxn_00835_KEGG'\n",
    "print(solution.x_dict[G6PDH])\n",
    "FBPase = 'rxn00549_c0'\n",
    "print(solution.x_dict[FBPase])\n",
    "aldolase = 'rxn_01068_KEGG'\n",
    "print(solution.x_dict[aldolase])\n",
    "PFOR = 'rxn_01196_KEGG'\n",
    "print(solution.x_dict[PFOR])\n",
    "citrate_syn = 'rxn00256_c0'\n",
    "print(solution.x_dict[citrate_syn])\n",
    "korB = 'rxn05939_c0'\n",
    "print(solution.x_dict[korB])\n",
    "MDH = 'rxn_00342_KEGG'\n",
    "print(solution.x_dict[MDH])"
   ]
  },
  {
   "cell_type": "code",
   "execution_count": 34,
   "metadata": {},
   "outputs": [
    {
     "name": "stdout",
     "output_type": "stream",
     "text": [
      "ATP_c0 + dCDP_c0 <=> ADP_c0 + dCTP_c0\n",
      "-11.5074374535\n",
      "Citrate_c0 <=> Isocitrate_c0\n",
      "21.4434034995\n",
      "H_c0 + Oxalosuccinate_c0 --> CO2_c0 + 2_Oxoglutarate_c0\n",
      "22.3843902684\n",
      "ATP_c0 + H_c0 + dCMP_c0 <=> ADP_c0 + dCDP_c0\n",
      "-11.5272444068\n",
      "Pyruvate_c0 + Malonyl_CoA_c0 <=> Acetyl_CoA_c0 + Oxaloacetate_c0\n",
      "12.6469408647\n",
      "H2O_c0 + dCMP_c0 --> Phosphate_c0 + Deoxycytidine_c0\n",
      "11.5272444068\n",
      "NAD_c0 + CoA_c0 + 3_Oxopropanoate_c0 <=> NADH_c0 + CO2_c0 + Acetyl_CoA_c0\n",
      "-12.6472985523\n",
      "ATP_c0 + L_Aspartate_c0 <=> ADP_c0 + 4_Phospho_L_aspartate_c0\n",
      "6.89805092111\n",
      "ADP_c0 + Phosphoenolpyruvate_c0 + H_c0 --> ATP_c0 + Pyruvate_c0\n",
      "14.100538462\n",
      "Phosphoenolpyruvate_c0 + D_Fructose_e0 <=> Pyruvate_c0 + D_fructose_1_phosphate_c0\n",
      "20.0\n",
      "NAD_c0 + Phosphate_c0 + Glyceraldehyde3_phosphate_c0 <=> NADH_c0 + H_c0 + 1_3_Bisphospho_D_glycerate_c0\n",
      "63.6448070067\n",
      "H2O_c0 --> H2O_e0\n",
      "88.8041380155\n",
      "L_Glutamate_e0 + Na_e0 <=> L_Glutamate_c0 + Na_c0\n",
      "13.6134128782\n",
      "ATP_c0 + AMP_c0 + H_c0 <=> 2.0 ADP_c0\n",
      "8.20581656135\n",
      "ATP_c0 + D_fructose_1_phosphate_c0 <=> ADP_c0 + H_c0 + D_fructose_1_6_bisphosphate_c0\n",
      "20.0\n",
      "H2O_c0 + NAD_c0 + Acetaldehyde_c0 --> NADH_c0 + Acetate_c0 + 2.0 H_c0\n",
      "5.47119019915\n",
      "NH3_e0 <=> NH3_c0\n",
      "18.6285960425\n",
      "NAD_c0 + L_Homoserine_c0 <=> NADH_c0 + H_c0 + L_Aspartate4_semialdehyde_c0\n",
      "-6.58480596708\n",
      "NADPH_c0 + H_c0 + 4_Phospho_L_aspartate_c0 --> NADP_c0 + Phosphate_c0 + L_Aspartate4_semialdehyde_c0\n",
      "6.89805092111\n",
      "Glyceraldehyde3_phosphate_c0 <=> Glycerone_phosphate_c0\n",
      "-18.3855470125\n",
      "0.5 O2_c0 + 2.5 H_c0 + Ubiquinol_8_c0 --> H2O_c0 + 2.5 H_e0 + Ubiquinone_8_c0\n",
      "106.547813171\n",
      "ATP_c0 + CoA_c0 + Succinate_c0 <=> ADP_c0 + Phosphate_c0 + Succinyl_CoA_c0\n",
      "-18.3595994787\n",
      "H2O_c0 + NAD_c0 + L_Glutamate_c0 <=> NADH_c0 + NH3_c0 + 2_Oxoglutarate_c0 + H_c0\n",
      "-20.1297663724\n",
      "NADP_c0 + CoA_c0 + 3_Oxopropanoate_c0 <=> NADPH_c0 + H_c0 + Malonyl_CoA_c0\n",
      "12.6469408647\n",
      "ATP_c0 + Deoxyuridine_c0 <=> ADP_c0 + H_c0 + dUMP_c0\n",
      "11.5272444068\n",
      "ATP_c0 + L_Homoserine_c0 <=> ADP_c0 + H_c0 + O_Phospho_L_homoserine_c0\n",
      "6.44870581862\n",
      "ATP_c0 + 3_Phosphoglycerate_c0 <=> ADP_c0 + 1_3_Bisphospho_D_glycerate_c0\n",
      "-35.8728807369\n",
      "NADH_c0 + 4.5 H_c0 + Ubiquinone_8_c0 <=> NAD_c0 + 3.5 H_e0 + Ubiquinol_8_c0\n",
      "88.2240271679\n",
      "2_Phospho_D_glycerate_c0 <=> 3_Phosphoglycerate_c0\n",
      "-35.8728807369\n",
      "L_Malate_c0 <=> H2O_c0 + Fumarate_c0\n",
      "-19.4611879996\n",
      "H2O_c0 + O_Phospho_L_homoserine_c0 --> Phosphate_c0 + L_Threonine_c0\n",
      "6.44870581862\n",
      "2_Phospho_D_glycerate_c0 <=> H2O_c0 + Phosphoenolpyruvate_c0\n",
      "35.8728807369\n",
      "2.0 H2O_c0 + dCTP_c0 <=> PPi_c0 + NH3_c0 + H_c0 + dUMP_c0\n",
      "-11.5208954511\n",
      "ATP_c0 + CoA_c0 + Acetate_c0 <=> PPi_c0 + AMP_c0 + Acetyl_CoA_c0 + H_c0\n",
      "6.18280976643\n",
      "2_Oxoglutarate_c0 + L_Aspartate_c0 <=> L_Glutamate_c0 + Oxaloacetate_c0\n",
      "-10.6647253648\n",
      "NADP_c0 + Isocitrate_c0 <=> NADPH_c0 + H_c0 + Oxalosuccinate_c0\n",
      "22.3843902684\n",
      "H2O_c0 + H_c0 + Deoxycytidine_c0 --> NH3_c0 + Deoxyuridine_c0\n",
      "11.5272444068\n",
      "Succinate_c0 + Ubiquinone_8_c0 <=> Fumarate_c0 + Ubiquinol_8_c0\n",
      "17.7319023748\n",
      "NADPH_c0 + H_c0 + 1_3_Bisphospho_D_glycerate_c0 --> NADP_c0 + Phosphate_c0 + Glyceraldehyde3_phosphate_c0\n",
      "27.7719262698\n",
      "L_Glutamate_e0 + H_e0 <=> L_Glutamate_c0 + H_c0\n",
      "-13.6134128782\n",
      "L_Threonine_c0 <=> Glycine_c0 + Acetaldehyde_c0\n",
      "5.4728445045\n",
      "CO2_c0 + H_c0 + Succinyl_CoA_c0 + 2.0 Reducedferredoxin_c0 <=> CoA_c0 + 2_Oxoglutarate_c0 + 2.0 Oxidizedferredoxin_c0\n",
      "-18.6728444327\n",
      "O2_e0 <=> O2_c0\n",
      "53.1617491538\n",
      "H2O_c0 + Acetyl_CoA_c0 + Oxaloacetate_c0 --> CoA_c0 + H_c0 + Citrate_c0\n",
      "21.4434034995\n",
      "CO2_e0 <=> CO2_c0\n",
      "-51.7615585168\n",
      "H_e0 <=> \n",
      "17.4089705991\n",
      "D_Fructose_e0 <=> \n",
      "-20.0\n",
      "H2O_e0 <=> \n",
      "88.8041380155\n",
      "Na_e0 <=> \n",
      "-13.6134128782\n",
      "NH3_e0 <=> \n",
      "-18.6285960425\n",
      "O2_e0 <=> \n",
      "-53.1617491538\n",
      "CO2_e0 --> \n",
      "51.7615585168\n",
      "ADP_c0 + Phosphate_c0 + 4.0 H_e0 <=> H2O_c0 + ATP_c0 + 3.0 H_c0\n",
      "142.558229775\n",
      "D_fructose_1_6_bisphosphate_c0 <=> Glycerone_phosphate_c0 + Glyceraldehyde3_phosphate_c0\n",
      "18.5000070585\n",
      "NAD_c0 + L_Malate_c0 <=> NADH_c0 + Oxaloacetate_c0 + H_c0\n",
      "19.4611879996\n",
      "NAD_c0 + H_c0 + 2.0 Reducedferredoxin_c0 <=> NADH_c0 + 2.0 Oxidizedferredoxin_c0\n",
      "38.2406904166\n",
      "CoA_c0 + Pyruvate_c0 + 2.0 Oxidizedferredoxin_c0 --> CO2_c0 + Acetyl_CoA_c0 + H_c0 + 2.0 Reducedferredoxin_c0\n",
      "19.9053913422\n"
     ]
    }
   ],
   "source": [
    "for reaction in FBA_model.reactions:\n",
    "    if abs(solution.x_dict[reaction.id])> 5.0:\n",
    "        print(reaction.build_reaction_string(use_metabolite_names = True))\n",
    "        print(solution.x_dict[reaction.id])"
   ]
  },
  {
   "cell_type": "code",
   "execution_count": 36,
   "metadata": {},
   "outputs": [],
   "source": [
    "## Uh-oh, the \"bad\" PFK is still in there, just in reverse. Remove it.\n",
    "bad_PFK = FBA_model.reactions.get_by_id('rxn04043_c0')\n",
    "FBA_model.remove_reactions([bad_PFK])"
   ]
  },
  {
   "cell_type": "code",
   "execution_count": 37,
   "metadata": {},
   "outputs": [
    {
     "name": "stdout",
     "output_type": "stream",
     "text": [
      "0.00445459711695636\n"
     ]
    }
   ],
   "source": [
    "FBA_model.medium = fructose_med\n",
    "solution = FBA_model.optimize()\n",
    "print(solution.f)"
   ]
  },
  {
   "cell_type": "code",
   "execution_count": 38,
   "metadata": {},
   "outputs": [
    {
     "name": "stdout",
     "output_type": "stream",
     "text": [
      "0.0\n",
      "3.00143219034e-16\n",
      "1.49445793811\n",
      "18.5055420619\n",
      "19.979540842\n",
      "21.5118777043\n",
      "-18.7515420548\n",
      "19.5369766185\n"
     ]
    }
   ],
   "source": [
    "glucose_DH ='rxn01108_c0'\n",
    "print(solution.x_dict[glucose_DH])\n",
    "G6PDH = 'rxn_00835_KEGG'\n",
    "print(solution.x_dict[G6PDH])\n",
    "FBPase = 'rxn00549_c0'\n",
    "print(solution.x_dict[FBPase])\n",
    "aldolase = 'rxn_01068_KEGG'\n",
    "print(solution.x_dict[aldolase])\n",
    "PFOR = 'rxn_01196_KEGG'\n",
    "print(solution.x_dict[PFOR])\n",
    "citrate_syn = 'rxn00256_c0'\n",
    "print(solution.x_dict[citrate_syn])\n",
    "korB = 'rxn05939_c0'\n",
    "print(solution.x_dict[korB])\n",
    "MDH = 'rxn_00342_KEGG'\n",
    "print(solution.x_dict[MDH])"
   ]
  },
  {
   "cell_type": "code",
   "execution_count": 39,
   "metadata": {},
   "outputs": [
    {
     "name": "stdout",
     "output_type": "stream",
     "text": [
      "ATP_c0 + dCDP_c0 <=> ADP_c0 + dCTP_c0\n",
      "-9.95963278006\n",
      "Citrate_c0 <=> Isocitrate_c0\n",
      "21.5118777043\n",
      "H_c0 + Oxalosuccinate_c0 --> CO2_c0 + 2_Oxoglutarate_c0\n",
      "22.4493922135\n",
      "ATP_c0 + H_c0 + dCMP_c0 <=> ADP_c0 + dCDP_c0\n",
      "-11.5733105857\n",
      "Pyruvate_c0 + Malonyl_CoA_c0 <=> Acetyl_CoA_c0 + Oxaloacetate_c0\n",
      "12.600273405\n",
      "H2O_c0 + dCMP_c0 --> Phosphate_c0 + Deoxycytidine_c0\n",
      "11.5733105857\n",
      "NAD_c0 + CoA_c0 + 3_Oxopropanoate_c0 <=> NADH_c0 + CO2_c0 + Acetyl_CoA_c0\n",
      "-12.6006297728\n",
      "ATP_c0 + L_Aspartate_c0 <=> ADP_c0 + 4_Phospho_L_aspartate_c0\n",
      "6.87259697801\n",
      "ADP_c0 + Phosphoenolpyruvate_c0 + H_c0 --> ATP_c0 + Pyruvate_c0\n",
      "14.1223075907\n",
      "Phosphoenolpyruvate_c0 + D_Fructose_e0 <=> Pyruvate_c0 + D_fructose_1_phosphate_c0\n",
      "20.0\n",
      "NAD_c0 + Phosphate_c0 + Glyceraldehyde3_phosphate_c0 <=> NADH_c0 + H_c0 + 1_3_Bisphospho_D_glycerate_c0\n",
      "36.6486032906\n",
      "H2O_c0 --> H2O_e0\n",
      "88.9192513577\n",
      "ATP_c0 + AMP_c0 + H_c0 <=> 2.0 ADP_c0\n",
      "9.7582404444\n",
      "ATP_c0 + D_fructose_1_phosphate_c0 <=> ADP_c0 + H_c0 + D_fructose_1_6_bisphosphate_c0\n",
      "20.0\n",
      "H2O_c0 + NAD_c0 + Acetaldehyde_c0 --> NADH_c0 + Acetate_c0 + 2.0 H_c0\n",
      "5.45100140008\n",
      "NH3_e0 <=> NH3_c0\n",
      "18.5598561579\n",
      "NADPH_c0 + H_c0 + 4_Phospho_L_aspartate_c0 --> NADP_c0 + Phosphate_c0 + L_Aspartate4_semialdehyde_c0\n",
      "6.87259697801\n",
      "Glyceraldehyde3_phosphate_c0 <=> Glycerone_phosphate_c0\n",
      "-18.3915043757\n",
      "0.5 O2_c0 + 2.5 H_c0 + Ubiquinol_8_c0 --> H2O_c0 + 2.5 H_e0 + Ubiquinone_8_c0\n",
      "107.040254356\n",
      "ATP_c0 + CoA_c0 + Succinate_c0 <=> ADP_c0 + Phosphate_c0 + Succinyl_CoA_c0\n",
      "-18.4394529808\n",
      "NADP_c0 + CoA_c0 + 3_Oxopropanoate_c0 <=> NADPH_c0 + H_c0 + Malonyl_CoA_c0\n",
      "12.600273405\n",
      "ATP_c0 + Deoxyuridine_c0 <=> ADP_c0 + H_c0 + dUMP_c0\n",
      "11.5733105857\n",
      "ATP_c0 + L_Homoserine_c0 <=> ADP_c0 + H_c0 + O_Phospho_L_homoserine_c0\n",
      "6.3363080311\n",
      "ATP_c0 + 3_Phosphoglycerate_c0 <=> ADP_c0 + 1_3_Bisphospho_D_glycerate_c0\n",
      "-35.8881098879\n",
      "NADH_c0 + 4.5 H_c0 + Ubiquinone_8_c0 <=> NAD_c0 + 3.5 H_e0 + Ubiquinol_8_c0\n",
      "88.6364826985\n",
      "2_Phospho_D_glycerate_c0 <=> 3_Phosphoglycerate_c0\n",
      "-35.8881098879\n",
      "H2O_c0 + NADP_c0 + L_Glutamate_c0 <=> NADPH_c0 + NH3_c0 + 2_Oxoglutarate_c0 + H_c0\n",
      "-19.6596516401\n",
      "L_Malate_c0 <=> H2O_c0 + Fumarate_c0\n",
      "-19.5369766185\n",
      "H2O_c0 + O_Phospho_L_homoserine_c0 --> Phosphate_c0 + L_Threonine_c0\n",
      "6.3363080311\n",
      "NADP_c0 + L_Homoserine_c0 <=> NADPH_c0 + H_c0 + L_Aspartate4_semialdehyde_c0\n",
      "-6.560507904\n",
      "2_Phospho_D_glycerate_c0 <=> H2O_c0 + Phosphoenolpyruvate_c0\n",
      "35.8881098879\n",
      "H_c0 + Na_e0 <=> H_e0 + Na_c0\n",
      "13.5631791178\n",
      "2.0 H2O_c0 + dCTP_c0 <=> PPi_c0 + NH3_c0 + H_c0 + dUMP_c0\n",
      "-11.5669850578\n",
      "ATP_c0 + CoA_c0 + Acetate_c0 <=> PPi_c0 + AMP_c0 + Acetyl_CoA_c0 + H_c0\n",
      "6.24859701387\n",
      "2_Oxoglutarate_c0 + L_Aspartate_c0 <=> L_Glutamate_c0 + Oxaloacetate_c0\n",
      "-10.6253723192\n",
      "NADP_c0 + Isocitrate_c0 <=> NADPH_c0 + H_c0 + Oxalosuccinate_c0\n",
      "22.4493922135\n",
      "H2O_c0 + H_c0 + Deoxycytidine_c0 --> NH3_c0 + Deoxyuridine_c0\n",
      "11.5733105857\n",
      "Succinate_c0 + Ubiquinone_8_c0 <=> Fumarate_c0 + Ubiquinol_8_c0\n",
      "17.8140720915\n",
      "L_Threonine_c0 <=> Glycine_c0 + Acetaldehyde_c0\n",
      "5.45264960101\n",
      "CO2_c0 + H_c0 + Succinyl_CoA_c0 + 2.0 Reducedferredoxin_c0 <=> CoA_c0 + 2_Oxoglutarate_c0 + 2.0 Oxidizedferredoxin_c0\n",
      "-18.7515420548\n",
      "O2_e0 <=> O2_c0\n",
      "53.4083836095\n",
      "H2O_c0 + Acetyl_CoA_c0 + Oxaloacetate_c0 --> CoA_c0 + H_c0 + Citrate_c0\n",
      "21.5118777043\n",
      "CO2_e0 <=> CO2_c0\n",
      "-52.0133597034\n",
      "H_e0 <=> \n",
      "17.3447311564\n",
      "D_Fructose_e0 <=> \n",
      "-20.0\n",
      "H2O_e0 <=> \n",
      "88.9192513577\n",
      "Na_e0 <=> \n",
      "-13.5631791178\n",
      "NH3_e0 <=> \n",
      "-18.5598561579\n",
      "O2_e0 <=> \n",
      "-53.4083836095\n",
      "CO2_e0 --> \n",
      "52.0133597034\n",
      "ADP_c0 + Phosphate_c0 + 4.0 H_e0 <=> H2O_c0 + ATP_c0 + 3.0 H_c0\n",
      "143.231443483\n",
      "D_fructose_1_6_bisphosphate_c0 <=> Glycerone_phosphate_c0 + Glyceraldehyde3_phosphate_c0\n",
      "18.5055420619\n",
      "NAD_c0 + L_Malate_c0 <=> NADH_c0 + Oxaloacetate_c0 + H_c0\n",
      "19.5369766185\n",
      "NAD_c0 + H_c0 + 2.0 Reducedferredoxin_c0 <=> NADH_c0 + 2.0 Oxidizedferredoxin_c0\n",
      "38.3947830875\n",
      "CoA_c0 + Pyruvate_c0 + 2.0 Oxidizedferredoxin_c0 --> CO2_c0 + Acetyl_CoA_c0 + H_c0 + 2.0 Reducedferredoxin_c0\n",
      "19.979540842\n"
     ]
    }
   ],
   "source": [
    "for reaction in FBA_model.reactions:\n",
    "    if abs(solution.x_dict[reaction.id])> 5.0:\n",
    "        print(reaction.build_reaction_string(use_metabolite_names = True))\n",
    "        print(solution.x_dict[reaction.id])"
   ]
  },
  {
   "cell_type": "code",
   "execution_count": 42,
   "metadata": {},
   "outputs": [
    {
     "name": "stdout",
     "output_type": "stream",
     "text": [
      "0.004218229258123807\n"
     ]
    }
   ],
   "source": [
    "glucose_med['EX_cpd00190_e0'] = 20\n",
    "FBA_model.medium = glucose_med\n",
    "solution = FBA_model.optimize()\n",
    "print(solution.f)"
   ]
  },
  {
   "cell_type": "code",
   "execution_count": 43,
   "metadata": {},
   "outputs": [
    {
     "name": "stdout",
     "output_type": "stream",
     "text": [
      "0.0\n",
      "3.26280033116\n",
      "0.0\n",
      "0.0\n",
      "19.9542574664\n",
      "21.4052861489\n",
      "-18.7914182068\n",
      "19.5351763896\n"
     ]
    }
   ],
   "source": [
    "glucose_DH ='rxn01108_c0'\n",
    "print(solution.x_dict[glucose_DH])\n",
    "G6PDH = 'rxn_00835_KEGG'\n",
    "print(solution.x_dict[G6PDH])\n",
    "FBPase = 'rxn00549_c0'\n",
    "print(solution.x_dict[FBPase])\n",
    "aldolase = 'rxn_01068_KEGG'\n",
    "print(solution.x_dict[aldolase])\n",
    "PFOR = 'rxn_01196_KEGG'\n",
    "print(solution.x_dict[PFOR])\n",
    "citrate_syn = 'rxn00256_c0'\n",
    "print(solution.x_dict[citrate_syn])\n",
    "korB = 'rxn05939_c0'\n",
    "print(solution.x_dict[korB])\n",
    "MDH = 'rxn_00342_KEGG'\n",
    "print(solution.x_dict[MDH])"
   ]
  },
  {
   "cell_type": "code",
   "execution_count": 44,
   "metadata": {
    "collapsed": true
   },
   "outputs": [],
   "source": [
    "cobra.io.write_sbml_model(FBA_model,'H_volcanii_curated.sbml')"
   ]
  },
  {
   "cell_type": "code",
   "execution_count": 45,
   "metadata": {},
   "outputs": [
    {
     "name": "stdout",
     "output_type": "stream",
     "text": [
      "ATP_c0 + dCDP_c0 <=> ADP_c0 + dCTP_c0\n",
      "-9.69720287691\n",
      "Citrate_c0 <=> Isocitrate_c0\n",
      "21.4052861489\n",
      "H_c0 + Oxalosuccinate_c0 --> CO2_c0 + 2_Oxoglutarate_c0\n",
      "22.2930546786\n",
      "ATP_c0 + H_c0 + dCMP_c0 <=> ADP_c0 + dCDP_c0\n",
      "-11.2252564257\n",
      "Pyruvate_c0 + Malonyl_CoA_c0 <=> Acetyl_CoA_c0 + Oxaloacetate_c0\n",
      "11.9316832795\n",
      "H2O_c0 + dCMP_c0 --> Phosphate_c0 + Deoxycytidine_c0\n",
      "11.2252564257\n",
      "NAD_c0 + CoA_c0 + 3_Oxopropanoate_c0 <=> NADH_c0 + CO2_c0 + Acetyl_CoA_c0\n",
      "-11.9320207379\n",
      "GLCN_c0 --> H2O_c0 + 2_keto_3_deoxygluconate_c0\n",
      "17.4972402166\n",
      "ATP_c0 + L_Aspartate_c0 <=> ADP_c0 + 4_Phospho_L_aspartate_c0\n",
      "6.50792628172\n",
      "ADP_c0 + Phosphoenolpyruvate_c0 + H_c0 --> ATP_c0 + Pyruvate_c0\n",
      "15.8493467746\n",
      "NAD_c0 + Phosphate_c0 + Glyceraldehyde3_phosphate_c0 <=> NADH_c0 + H_c0 + 1_3_Bisphospho_D_glycerate_c0\n",
      "36.7736956774\n",
      "H2O_c0 --> H2O_e0\n",
      "90.5684442733\n",
      "ATP_c0 + AMP_c0 + H_c0 <=> 2.0 ADP_c0\n",
      "9.50649673215\n",
      "H2O_c0 + NAD_c0 + Acetaldehyde_c0 --> NADH_c0 + Acetate_c0 + 2.0 H_c0\n",
      "5.16176277858\n",
      "NH3_e0 <=> NH3_c0\n",
      "17.5750412925\n",
      "NADPH_c0 + H_c0 + 4_Phospho_L_aspartate_c0 --> NADP_c0 + Phosphate_c0 + L_Aspartate4_semialdehyde_c0\n",
      "6.50792628172\n",
      "0.5 O2_c0 + 2.5 H_c0 + Ubiquinol_8_c0 --> H2O_c0 + 2.5 H_e0 + Ubiquinone_8_c0\n",
      "114.095305479\n",
      "2_Keto_3_deoxy_6_phosphogluconate_c0 <=> Pyruvate_c0 + Glyceraldehyde3_phosphate_c0\n",
      "17.4972402166\n",
      "ATP_c0 + CoA_c0 + Succinate_c0 <=> ADP_c0 + Phosphate_c0 + Succinyl_CoA_c0\n",
      "-18.495889065\n",
      "NADP_c0 + CoA_c0 + 3_Oxopropanoate_c0 <=> NADPH_c0 + H_c0 + Malonyl_CoA_c0\n",
      "11.9316832795\n",
      "ATP_c0 + Deoxyuridine_c0 <=> ADP_c0 + H_c0 + dUMP_c0\n",
      "11.2252564257\n",
      "ATP_c0 + L_Homoserine_c0 <=> ADP_c0 + H_c0 + O_Phospho_L_homoserine_c0\n",
      "5.73404994203\n",
      "ATP_c0 + 3_Phosphoglycerate_c0 <=> ADP_c0 + 1_3_Bisphospho_D_glycerate_c0\n",
      "-17.5214528525\n",
      "NADH_c0 + 4.5 H_c0 + Ubiquinone_8_c0 <=> NAD_c0 + 3.5 H_e0 + Ubiquinol_8_c0\n",
      "95.6332044299\n",
      "ATP_c0 + 2_keto_3_deoxygluconate_c0 <=> ADP_c0 + H_c0 + 2_Keto_3_deoxy_6_phosphogluconate_c0\n",
      "17.4972402166\n",
      "2_Phospho_D_glycerate_c0 <=> 3_Phosphoglycerate_c0\n",
      "-17.5214528525\n",
      "H2O_c0 + NADP_c0 + L_Glutamate_c0 <=> NADPH_c0 + NH3_c0 + 2_Oxoglutarate_c0 + H_c0\n",
      "-18.616479914\n",
      "L_Malate_c0 <=> H2O_c0 + Fumarate_c0\n",
      "-19.5351763896\n",
      "H2O_c0 + O_Phospho_L_homoserine_c0 --> Phosphate_c0 + L_Threonine_c0\n",
      "5.73404994203\n",
      "NADP_c0 + L_Homoserine_c0 <=> NADPH_c0 + H_c0 + L_Aspartate4_semialdehyde_c0\n",
      "-6.2123971399\n",
      "NADP_c0 + beta_D_Glucose_c0 <=> NADPH_c0 + H_c0 + Gluconolactone_c0\n",
      "17.4972402166\n",
      "2_Phospho_D_glycerate_c0 <=> H2O_c0 + Phosphoenolpyruvate_c0\n",
      "17.5214528525\n",
      "H_c0 + Na_e0 <=> H_e0 + Na_c0\n",
      "-7.15650428403\n",
      "2.0 H2O_c0 + dCTP_c0 <=> PPi_c0 + NH3_c0 + H_c0 + dUMP_c0\n",
      "-11.2192665401\n",
      "ATP_c0 + CoA_c0 + Acetate_c0 <=> PPi_c0 + AMP_c0 + Acetyl_CoA_c0 + H_c0\n",
      "6.18308044656\n",
      "2_Oxoglutarate_c0 + L_Aspartate_c0 <=> L_Glutamate_c0 + Oxaloacetate_c0\n",
      "-10.0615735202\n",
      "NADP_c0 + Isocitrate_c0 <=> NADPH_c0 + H_c0 + Oxalosuccinate_c0\n",
      "22.2930546786\n",
      "H2O_c0 + H_c0 + Deoxycytidine_c0 --> NH3_c0 + Deoxyuridine_c0\n",
      "11.2252564257\n",
      "Succinate_c0 + Ubiquinone_8_c0 <=> Fumarate_c0 + Ubiquinol_8_c0\n",
      "17.9036918595\n",
      "NADPH_c0 + H_c0 + 1_3_Bisphospho_D_glycerate_c0 --> NADP_c0 + Phosphate_c0 + Glyceraldehyde3_phosphate_c0\n",
      "19.2522428249\n",
      "L_Threonine_c0 <=> Glycine_c0 + Acetaldehyde_c0\n",
      "5.1633235234\n",
      "CO2_c0 + H_c0 + Succinyl_CoA_c0 + 2.0 Reducedferredoxin_c0 <=> CoA_c0 + 2_Oxoglutarate_c0 + 2.0 Oxidizedferredoxin_c0\n",
      "-18.7914182068\n",
      "O2_e0 <=> O2_c0\n",
      "56.9418384583\n",
      "H2O_c0 + Gluconolactone_c0 --> H_c0 + GLCN_c0\n",
      "17.4972402166\n",
      "H2O_c0 + Acetyl_CoA_c0 + Oxaloacetate_c0 --> CoA_c0 + H_c0 + Citrate_c0\n",
      "21.4052861489\n",
      "CO2_e0 <=> CO2_c0\n",
      "-55.6208366927\n",
      "H_e0 <=> \n",
      "13.1615923843\n",
      "H2O_e0 <=> \n",
      "90.5684442733\n",
      "Na_e0 <=> \n",
      "-12.843495716\n",
      "NH3_e0 <=> \n",
      "-17.5750412925\n",
      "O2_e0 <=> \n",
      "-56.9418384583\n",
      "CO2_e0 --> \n",
      "55.6208366927\n",
      "glucose_e0 + Na_e0 --> beta_D_Glucose_c0 + Na_c0\n",
      "20.0\n",
      "ADP_c0 + Phosphate_c0 + 4.0 H_e0 <=> H2O_c0 + ATP_c0 + 3.0 H_c0\n",
      "149.643716285\n",
      "glucose_e0 <=> \n",
      "-20.0\n",
      "NAD_c0 + L_Malate_c0 <=> NADH_c0 + Oxaloacetate_c0 + H_c0\n",
      "19.5351763896\n",
      "NAD_c0 + H_c0 + 2.0 Reducedferredoxin_c0 <=> NADH_c0 + 2.0 Oxidizedferredoxin_c0\n",
      "38.4272204554\n",
      "CoA_c0 + Pyruvate_c0 + 2.0 Oxidizedferredoxin_c0 --> CO2_c0 + Acetyl_CoA_c0 + H_c0 + 2.0 Reducedferredoxin_c0\n",
      "19.9542574664\n"
     ]
    }
   ],
   "source": [
    "for reaction in FBA_model.reactions:\n",
    "    if abs(solution.x_dict[reaction.id])> 5.0:\n",
    "        print(reaction.build_reaction_string(use_metabolite_names = True))\n",
    "        print(solution.x_dict[reaction.id])"
   ]
  },
  {
   "cell_type": "code",
   "execution_count": null,
   "metadata": {
    "collapsed": true
   },
   "outputs": [],
   "source": []
  }
 ],
 "metadata": {
  "kernelspec": {
   "display_name": "Python 3",
   "language": "python",
   "name": "python3"
  },
  "language_info": {
   "codemirror_mode": {
    "name": "ipython",
    "version": 3
   },
   "file_extension": ".py",
   "mimetype": "text/x-python",
   "name": "python",
   "nbconvert_exporter": "python",
   "pygments_lexer": "ipython3",
   "version": "3.6.3"
  }
 },
 "nbformat": 4,
 "nbformat_minor": 2
}
